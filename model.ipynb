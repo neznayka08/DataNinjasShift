{
 "cells": [
  {
   "cell_type": "markdown",
   "id": "346a6c5b",
   "metadata": {
    "id": "346a6c5b",
    "papermill": {
     "duration": 0.28587,
     "end_time": "2024-01-09T04:12:03.181161",
     "exception": false,
     "start_time": "2024-01-09T04:12:02.895291",
     "status": "completed"
    },
    "tags": []
   },
   "source": [
    "# Обучение модели\n",
    "### [**scikit-learn**](https://scikit-learn.org/stable/auto_examples/index.html)\n",
    "#### [train_test_split](https://scikit-learn.org/stable/modules/generated/sklearn.model_selection.train_test_split.html)"
   ]
  },
  {
   "cell_type": "code",
   "execution_count": 586,
   "id": "b676dfde3fe972c",
   "metadata": {
    "collapsed": false
   },
   "outputs": [],
   "source": [
    "import pandas as pd\n",
    "import numpy as np"
   ]
  },
  {
   "cell_type": "code",
   "execution_count": 587,
   "id": "f5781e9ca1ef79d3",
   "metadata": {
    "collapsed": false
   },
   "outputs": [],
   "source": [
    "df_train = pd.read_csv('post_train.csv', low_memory=False)"
   ]
  },
  {
   "cell_type": "code",
   "execution_count": 588,
   "id": "d927d35f",
   "metadata": {
    "execution": {
     "iopub.execute_input": "2024-01-09T04:12:03.761354Z",
     "iopub.status.busy": "2024-01-09T04:12:03.760578Z",
     "iopub.status.idle": "2024-01-09T04:12:04.023191Z",
     "shell.execute_reply": "2024-01-09T04:12:04.021987Z"
    },
    "executionInfo": {
     "elapsed": 463,
     "status": "ok",
     "timestamp": 1706707727293,
     "user": {
      "displayName": "Artem Malygin",
      "userId": "06576770450014929968"
     },
     "user_tz": -420
    },
    "id": "d927d35f",
    "papermill": {
     "duration": 0.554981,
     "end_time": "2024-01-09T04:12:04.026080",
     "exception": false,
     "start_time": "2024-01-09T04:12:03.471099",
     "status": "completed"
    },
    "tags": []
   },
   "outputs": [],
   "source": [
    "from sklearn.model_selection import train_test_split"
   ]
  },
  {
   "cell_type": "code",
   "execution_count": 589,
   "id": "SnxW0gWboTcX",
   "metadata": {
    "executionInfo": {
     "elapsed": 17,
     "status": "ok",
     "timestamp": 1706707727965,
     "user": {
      "displayName": "Artem Malygin",
      "userId": "06576770450014929968"
     },
     "user_tz": -420
    },
    "id": "SnxW0gWboTcX"
   },
   "outputs": [],
   "source": [
    "features = ['msamd','property_type','purchaser_type','hud_median_family_income','population','applicant_ethnicity','co_applicant_ethnicity','income','applicant_sex']\n"
   ]
  },
  {
   "cell_type": "code",
   "execution_count": 590,
   "id": "MmsfUR_GoX6r",
   "metadata": {
    "colab": {
     "base_uri": "https://localhost:8080/",
     "height": 112
    },
    "executionInfo": {
     "elapsed": 16,
     "status": "ok",
     "timestamp": 1706707727966,
     "user": {
      "displayName": "Artem Malygin",
      "userId": "06576770450014929968"
     },
     "user_tz": -420
    },
    "id": "MmsfUR_GoX6r",
    "outputId": "3836883f-af7c-43c8-e72c-a6218e776e01"
   },
   "outputs": [
    {
     "data": {
      "text/html": [
       "<div>\n",
       "<style scoped>\n",
       "    .dataframe tbody tr th:only-of-type {\n",
       "        vertical-align: middle;\n",
       "    }\n",
       "\n",
       "    .dataframe tbody tr th {\n",
       "        vertical-align: top;\n",
       "    }\n",
       "\n",
       "    .dataframe thead th {\n",
       "        text-align: right;\n",
       "    }\n",
       "</style>\n",
       "<table border=\"1\" class=\"dataframe\">\n",
       "  <thead>\n",
       "    <tr style=\"text-align: right;\">\n",
       "      <th></th>\n",
       "      <th>msamd</th>\n",
       "      <th>property_type</th>\n",
       "      <th>purchaser_type</th>\n",
       "      <th>hud_median_family_income</th>\n",
       "      <th>population</th>\n",
       "      <th>applicant_ethnicity</th>\n",
       "      <th>co_applicant_ethnicity</th>\n",
       "      <th>income</th>\n",
       "      <th>applicant_sex</th>\n",
       "      <th>target</th>\n",
       "    </tr>\n",
       "  </thead>\n",
       "  <tbody>\n",
       "    <tr>\n",
       "      <th>0</th>\n",
       "      <td>37860</td>\n",
       "      <td>3</td>\n",
       "      <td>0</td>\n",
       "      <td>79500</td>\n",
       "      <td>2878</td>\n",
       "      <td>2</td>\n",
       "      <td>4</td>\n",
       "      <td>54.0</td>\n",
       "      <td>2</td>\n",
       "      <td>1</td>\n",
       "    </tr>\n",
       "    <tr>\n",
       "      <th>1</th>\n",
       "      <td>29460</td>\n",
       "      <td>3</td>\n",
       "      <td>71</td>\n",
       "      <td>67500</td>\n",
       "      <td>6071</td>\n",
       "      <td>2</td>\n",
       "      <td>4</td>\n",
       "      <td>168.0</td>\n",
       "      <td>1</td>\n",
       "      <td>1</td>\n",
       "    </tr>\n",
       "    <tr>\n",
       "      <th>2</th>\n",
       "      <td>15980</td>\n",
       "      <td>3</td>\n",
       "      <td>1</td>\n",
       "      <td>83200</td>\n",
       "      <td>1339</td>\n",
       "      <td>2</td>\n",
       "      <td>2</td>\n",
       "      <td>179.0</td>\n",
       "      <td>1</td>\n",
       "      <td>1</td>\n",
       "    </tr>\n",
       "    <tr>\n",
       "      <th>3</th>\n",
       "      <td>35840</td>\n",
       "      <td>3</td>\n",
       "      <td>2</td>\n",
       "      <td>90400</td>\n",
       "      <td>3650</td>\n",
       "      <td>2</td>\n",
       "      <td>2</td>\n",
       "      <td>68.0</td>\n",
       "      <td>1</td>\n",
       "      <td>1</td>\n",
       "    </tr>\n",
       "    <tr>\n",
       "      <th>4</th>\n",
       "      <td>19660</td>\n",
       "      <td>3</td>\n",
       "      <td>1</td>\n",
       "      <td>73500</td>\n",
       "      <td>6797</td>\n",
       "      <td>3</td>\n",
       "      <td>4</td>\n",
       "      <td>49.0</td>\n",
       "      <td>1</td>\n",
       "      <td>1</td>\n",
       "    </tr>\n",
       "    <tr>\n",
       "      <th>...</th>\n",
       "      <td>...</td>\n",
       "      <td>...</td>\n",
       "      <td>...</td>\n",
       "      <td>...</td>\n",
       "      <td>...</td>\n",
       "      <td>...</td>\n",
       "      <td>...</td>\n",
       "      <td>...</td>\n",
       "      <td>...</td>\n",
       "      <td>...</td>\n",
       "    </tr>\n",
       "    <tr>\n",
       "      <th>1107606</th>\n",
       "      <td>27260</td>\n",
       "      <td>3</td>\n",
       "      <td>0</td>\n",
       "      <td>86100</td>\n",
       "      <td>5019</td>\n",
       "      <td>2</td>\n",
       "      <td>2</td>\n",
       "      <td>218.0</td>\n",
       "      <td>2</td>\n",
       "      <td>0</td>\n",
       "    </tr>\n",
       "    <tr>\n",
       "      <th>1107607</th>\n",
       "      <td>45300</td>\n",
       "      <td>3</td>\n",
       "      <td>0</td>\n",
       "      <td>82100</td>\n",
       "      <td>7344</td>\n",
       "      <td>2</td>\n",
       "      <td>4</td>\n",
       "      <td>90.0</td>\n",
       "      <td>2</td>\n",
       "      <td>0</td>\n",
       "    </tr>\n",
       "    <tr>\n",
       "      <th>1107608</th>\n",
       "      <td>36740</td>\n",
       "      <td>3</td>\n",
       "      <td>0</td>\n",
       "      <td>80100</td>\n",
       "      <td>7565</td>\n",
       "      <td>2</td>\n",
       "      <td>2</td>\n",
       "      <td>117.0</td>\n",
       "      <td>1</td>\n",
       "      <td>0</td>\n",
       "    </tr>\n",
       "    <tr>\n",
       "      <th>1107609</th>\n",
       "      <td>48424</td>\n",
       "      <td>3</td>\n",
       "      <td>0</td>\n",
       "      <td>90300</td>\n",
       "      <td>5536</td>\n",
       "      <td>2</td>\n",
       "      <td>4</td>\n",
       "      <td>37.0</td>\n",
       "      <td>1</td>\n",
       "      <td>0</td>\n",
       "    </tr>\n",
       "    <tr>\n",
       "      <th>1107610</th>\n",
       "      <td>39460</td>\n",
       "      <td>3</td>\n",
       "      <td>0</td>\n",
       "      <td>76000</td>\n",
       "      <td>6031</td>\n",
       "      <td>2</td>\n",
       "      <td>2</td>\n",
       "      <td>52.0</td>\n",
       "      <td>1</td>\n",
       "      <td>0</td>\n",
       "    </tr>\n",
       "  </tbody>\n",
       "</table>\n",
       "<p>1107611 rows × 10 columns</p>\n",
       "</div>"
      ],
      "text/plain": [
       "         msamd  property_type  purchaser_type  hud_median_family_income  \\\n",
       "0        37860              3               0                     79500   \n",
       "1        29460              3              71                     67500   \n",
       "2        15980              3               1                     83200   \n",
       "3        35840              3               2                     90400   \n",
       "4        19660              3               1                     73500   \n",
       "...        ...            ...             ...                       ...   \n",
       "1107606  27260              3               0                     86100   \n",
       "1107607  45300              3               0                     82100   \n",
       "1107608  36740              3               0                     80100   \n",
       "1107609  48424              3               0                     90300   \n",
       "1107610  39460              3               0                     76000   \n",
       "\n",
       "         population  applicant_ethnicity  co_applicant_ethnicity  income  \\\n",
       "0              2878                    2                       4    54.0   \n",
       "1              6071                    2                       4   168.0   \n",
       "2              1339                    2                       2   179.0   \n",
       "3              3650                    2                       2    68.0   \n",
       "4              6797                    3                       4    49.0   \n",
       "...             ...                  ...                     ...     ...   \n",
       "1107606        5019                    2                       2   218.0   \n",
       "1107607        7344                    2                       4    90.0   \n",
       "1107608        7565                    2                       2   117.0   \n",
       "1107609        5536                    2                       4    37.0   \n",
       "1107610        6031                    2                       2    52.0   \n",
       "\n",
       "         applicant_sex  target  \n",
       "0                    2       1  \n",
       "1                    1       1  \n",
       "2                    1       1  \n",
       "3                    1       1  \n",
       "4                    1       1  \n",
       "...                ...     ...  \n",
       "1107606              2       0  \n",
       "1107607              2       0  \n",
       "1107608              1       0  \n",
       "1107609              1       0  \n",
       "1107610              1       0  \n",
       "\n",
       "[1107611 rows x 10 columns]"
      ]
     },
     "execution_count": 590,
     "metadata": {},
     "output_type": "execute_result"
    }
   ],
   "source": [
    "df_notna = df_train[[*features, 'target']].copy()\n",
    "df_notna"
   ]
  },
  {
   "cell_type": "code",
   "execution_count": 591,
   "id": "EfUX4DwJUeBo",
   "metadata": {
    "colab": {
     "base_uri": "https://localhost:8080/"
    },
    "executionInfo": {
     "elapsed": 7,
     "status": "ok",
     "timestamp": 1706707728710,
     "user": {
      "displayName": "Artem Malygin",
      "userId": "06576770450014929968"
     },
     "user_tz": -420
    },
    "id": "EfUX4DwJUeBo",
    "outputId": "0a3a99a2-0a98-46ba-acc6-58250d77d7a9"
   },
   "outputs": [
    {
     "data": {
      "text/plain": [
       "-6296.0"
      ]
     },
     "execution_count": 591,
     "metadata": {},
     "output_type": "execute_result"
    }
   ],
   "source": [
    "df_notna.income.min()"
   ]
  },
  {
   "cell_type": "code",
   "execution_count": 592,
   "id": "0e1afc32",
   "metadata": {},
   "outputs": [],
   "source": [
    "df_notna.income.replace(-np.inf, 0, inplace=True)"
   ]
  },
  {
   "cell_type": "code",
   "execution_count": 593,
   "id": "JfXhKMSnVTUP",
   "metadata": {
    "colab": {
     "base_uri": "https://localhost:8080/"
    },
    "executionInfo": {
     "elapsed": 323,
     "status": "ok",
     "timestamp": 1706707837203,
     "user": {
      "displayName": "Artem Malygin",
      "userId": "06576770450014929968"
     },
     "user_tz": -420
    },
    "id": "JfXhKMSnVTUP",
    "outputId": "e0825302-193c-4125-d91e-e691a10c6f29"
   },
   "outputs": [
    {
     "data": {
      "text/plain": [
       "msamd                       1107611\n",
       "property_type               1107611\n",
       "purchaser_type              1107611\n",
       "hud_median_family_income    1107611\n",
       "population                  1107611\n",
       "applicant_ethnicity         1107611\n",
       "co_applicant_ethnicity      1107611\n",
       "income                      1107611\n",
       "applicant_sex               1107611\n",
       "target                      1107611\n",
       "dtype: int64"
      ]
     },
     "execution_count": 593,
     "metadata": {},
     "output_type": "execute_result"
    }
   ],
   "source": [
    "df_notna.count()"
   ]
  },
  {
   "cell_type": "code",
   "execution_count": 565,
   "id": "03be8bad",
   "metadata": {},
   "outputs": [
    {
     "data": {
      "text/plain": [
       "83.0"
      ]
     },
     "execution_count": 565,
     "metadata": {},
     "output_type": "execute_result"
    }
   ],
   "source": [
    "#income_median = df_notna.income.median()\n",
    "#income_median"
   ]
  },
  {
   "cell_type": "code",
   "execution_count": 566,
   "id": "705846ad",
   "metadata": {},
   "outputs": [
    {
     "data": {
      "text/html": [
       "<div>\n",
       "<style scoped>\n",
       "    .dataframe tbody tr th:only-of-type {\n",
       "        vertical-align: middle;\n",
       "    }\n",
       "\n",
       "    .dataframe tbody tr th {\n",
       "        vertical-align: top;\n",
       "    }\n",
       "\n",
       "    .dataframe thead th {\n",
       "        text-align: right;\n",
       "    }\n",
       "</style>\n",
       "<table border=\"1\" class=\"dataframe\">\n",
       "  <thead>\n",
       "    <tr style=\"text-align: right;\">\n",
       "      <th></th>\n",
       "      <th>msamd</th>\n",
       "      <th>property_type</th>\n",
       "      <th>purchaser_type</th>\n",
       "      <th>hud_median_family_income</th>\n",
       "      <th>population</th>\n",
       "      <th>applicant_ethnicity</th>\n",
       "      <th>co_applicant_ethnicity</th>\n",
       "      <th>income</th>\n",
       "      <th>applicant_sex</th>\n",
       "      <th>target</th>\n",
       "    </tr>\n",
       "  </thead>\n",
       "  <tbody>\n",
       "    <tr>\n",
       "      <th>0</th>\n",
       "      <td>37860</td>\n",
       "      <td>3</td>\n",
       "      <td>0</td>\n",
       "      <td>79500</td>\n",
       "      <td>2878</td>\n",
       "      <td>2</td>\n",
       "      <td>4</td>\n",
       "      <td>54.0</td>\n",
       "      <td>2</td>\n",
       "      <td>1</td>\n",
       "    </tr>\n",
       "    <tr>\n",
       "      <th>1</th>\n",
       "      <td>29460</td>\n",
       "      <td>3</td>\n",
       "      <td>71</td>\n",
       "      <td>67500</td>\n",
       "      <td>6071</td>\n",
       "      <td>2</td>\n",
       "      <td>4</td>\n",
       "      <td>168.0</td>\n",
       "      <td>1</td>\n",
       "      <td>1</td>\n",
       "    </tr>\n",
       "  </tbody>\n",
       "</table>\n",
       "</div>"
      ],
      "text/plain": [
       "   msamd  property_type  purchaser_type  hud_median_family_income  population  \\\n",
       "0  37860              3               0                     79500        2878   \n",
       "1  29460              3              71                     67500        6071   \n",
       "\n",
       "   applicant_ethnicity  co_applicant_ethnicity  income  applicant_sex  target  \n",
       "0                    2                       4    54.0              2       1  \n",
       "1                    2                       4   168.0              1       1  "
      ]
     },
     "execution_count": 566,
     "metadata": {},
     "output_type": "execute_result"
    }
   ],
   "source": [
    "#df_notna['income'] = df_notna.income.fillna(income_median)\n",
    "#df_notna.head(2)"
   ]
  },
  {
   "cell_type": "code",
   "execution_count": 578,
   "id": "1e1fbadb",
   "metadata": {},
   "outputs": [
    {
     "data": {
      "text/plain": [
       "msamd                       1107611\n",
       "property_type               1107611\n",
       "purchaser_type              1107611\n",
       "hud_median_family_income    1107611\n",
       "population                  1107611\n",
       "applicant_ethnicity         1107611\n",
       "co_applicant_ethnicity      1107611\n",
       "income                      1107611\n",
       "applicant_sex               1107611\n",
       "target                      1107611\n",
       "dtype: int64"
      ]
     },
     "execution_count": 578,
     "metadata": {},
     "output_type": "execute_result"
    }
   ],
   "source": [
    "#df_notna.count()"
   ]
  },
  {
   "cell_type": "code",
   "execution_count": 594,
   "id": "ccbf7f45",
   "metadata": {
    "execution": {
     "iopub.execute_input": "2024-01-09T04:12:04.617651Z",
     "iopub.status.busy": "2024-01-09T04:12:04.617202Z",
     "iopub.status.idle": "2024-01-09T04:12:04.644623Z",
     "shell.execute_reply": "2024-01-09T04:12:04.643639Z"
    },
    "executionInfo": {
     "elapsed": 287,
     "status": "ok",
     "timestamp": 1706707843034,
     "user": {
      "displayName": "Artem Malygin",
      "userId": "06576770450014929968"
     },
     "user_tz": -420
    },
    "id": "ccbf7f45",
    "papermill": {
     "duration": 0.330619,
     "end_time": "2024-01-09T04:12:04.648061",
     "exception": false,
     "start_time": "2024-01-09T04:12:04.317442",
     "status": "completed"
    },
    "tags": []
   },
   "outputs": [],
   "source": [
    "X = df_notna[features]\n",
    "y = df_notna.target"
   ]
  },
  {
   "cell_type": "code",
   "execution_count": 595,
   "id": "2f22512f",
   "metadata": {
    "execution": {
     "iopub.execute_input": "2024-01-09T04:12:05.241421Z",
     "iopub.status.busy": "2024-01-09T04:12:05.241004Z",
     "iopub.status.idle": "2024-01-09T04:12:05.283612Z",
     "shell.execute_reply": "2024-01-09T04:12:05.282479Z"
    },
    "executionInfo": {
     "elapsed": 419,
     "status": "ok",
     "timestamp": 1706707844732,
     "user": {
      "displayName": "Artem Malygin",
      "userId": "06576770450014929968"
     },
     "user_tz": -420
    },
    "id": "2f22512f",
    "papermill": {
     "duration": 0.345744,
     "end_time": "2024-01-09T04:12:05.286275",
     "exception": false,
     "start_time": "2024-01-09T04:12:04.940531",
     "status": "completed"
    },
    "tags": []
   },
   "outputs": [],
   "source": [
    "X_train, X_test, y_train, y_test = train_test_split(X, y, train_size=0.7)"
   ]
  },
  {
   "cell_type": "code",
   "execution_count": 596,
   "id": "d465c7a7",
   "metadata": {
    "colab": {
     "base_uri": "https://localhost:8080/"
    },
    "execution": {
     "iopub.execute_input": "2024-01-09T04:12:05.878918Z",
     "iopub.status.busy": "2024-01-09T04:12:05.878405Z",
     "iopub.status.idle": "2024-01-09T04:12:05.885189Z",
     "shell.execute_reply": "2024-01-09T04:12:05.883738Z"
    },
    "executionInfo": {
     "elapsed": 8,
     "status": "ok",
     "timestamp": 1706707845764,
     "user": {
      "displayName": "Artem Malygin",
      "userId": "06576770450014929968"
     },
     "user_tz": -420
    },
    "id": "d465c7a7",
    "outputId": "af088188-b05f-4ebb-d013-dad60e68aebd",
    "papermill": {
     "duration": 0.302661,
     "end_time": "2024-01-09T04:12:05.888072",
     "exception": false,
     "start_time": "2024-01-09T04:12:05.585411",
     "status": "completed"
    },
    "tags": []
   },
   "outputs": [
    {
     "name": "stdout",
     "output_type": "stream",
     "text": [
      "Размер тренировочной выборки: 775327\n",
      "Размер тестовой выборки: 332284\n"
     ]
    }
   ],
   "source": [
    "print('Размер тренировочной выборки:', len(X_train))\n",
    "\n",
    "# при частом определении кол-ва строк в датафрейме эффективнее вычислять длину от индекса\n",
    "print('Размер тестовой выборки:', len(X_test.index))"
   ]
  },
  {
   "cell_type": "markdown",
   "id": "f2c608b0",
   "metadata": {},
   "source": [
    "В этом файле реализовано 3 модели которые мы пытались использовать в нашем коде, самый лучший скоре показала TreeClassifier. Каждую из моделей можно запустить и посмотреть какая кривая ROG AUC получается в каждом случае"
   ]
  },
  {
   "cell_type": "markdown",
   "id": "c0426cd9a3c67e8c",
   "metadata": {},
   "source": [
    "#### [TreeClassifier](https://scikit-learn.org/stable/modules/generated/sklearn.tree.DecisionTreeClassifier.html)"
   ]
  },
  {
   "cell_type": "code",
   "execution_count": 597,
   "id": "654f621e",
   "metadata": {},
   "outputs": [],
   "source": [
    "from sklearn.tree import DecisionTreeClassifier, plot_tree, export_text"
   ]
  },
  {
   "cell_type": "code",
   "execution_count": 598,
   "id": "d4fb7db0",
   "metadata": {},
   "outputs": [
    {
     "data": {
      "text/plain": [
       "array([1.95648957e-01, 2.50078430e-01, 1.48148148e-04, 1.27659574e-01,\n",
       "       1.71681675e-01, 9.36525612e-01, 4.27561837e-01, 9.27000880e-01,\n",
       "       8.63591996e-01, 9.41578149e-01])"
      ]
     },
     "execution_count": 598,
     "metadata": {},
     "output_type": "execute_result"
    }
   ],
   "source": [
    "model = DecisionTreeClassifier(max_depth=11).fit(X_train, y_train)\n",
    "y_pred = model.predict_proba(X_test)[:, 1]\n",
    "y_pred[:10]\n"
   ]
  },
  {
   "cell_type": "code",
   "execution_count": 599,
   "id": "9c5feb644bc23650",
   "metadata": {
    "collapsed": false
   },
   "outputs": [
    {
     "name": "stdout",
     "output_type": "stream",
     "text": [
      "Importance of msamd based on entropy: 0.001871949628748222\n",
      "Importance of property_type based on entropy: 0.008007097986441433\n",
      "Importance of purchaser_type based on entropy: 0.6100021587444228\n",
      "Importance of hud_median_family_income based on entropy: 0.005904653968584888\n",
      "Importance of population based on entropy: 0.006349548149198496\n",
      "Importance of applicant_ethnicity based on entropy: 0.00786294613775917\n",
      "Importance of co_applicant_ethnicity based on entropy: 0.005812546562560835\n",
      "Importance of income based on entropy: 0.044410673403294375\n",
      "Importance of applicant_sex based on entropy: 0.30977842541898976\n"
     ]
    }
   ],
   "source": [
    "feature_importances_entropy = model.feature_importances_\n",
    "\n",
    "# Выведите важность каждого признака\n",
    "for i, feature in enumerate(features):\n",
    "    print(f'Importance of {feature} based on entropy: {feature_importances_entropy[i]}')"
   ]
  },
  {
   "cell_type": "code",
   "execution_count": 452,
   "id": "86428215e1ec8efd",
   "metadata": {
    "collapsed": false
   },
   "outputs": [],
   "source": [
    "from sklearn.ensemble import GradientBoostingClassifier\n",
    "\n"
   ]
  },
  {
   "cell_type": "code",
   "execution_count": 453,
   "id": "1f2fd2bd90a24ba9",
   "metadata": {
    "collapsed": false
   },
   "outputs": [
    {
     "data": {
      "text/plain": [
       "array([1, 1, 0, 0, 1, 0, 0, 0, 0, 0], dtype=int64)"
      ]
     },
     "execution_count": 453,
     "metadata": {},
     "output_type": "execute_result"
    }
   ],
   "source": [
    "model = GradientBoostingClassifier(n_estimators=50, learning_rate=0.05,validation_fraction = 0.01, max_depth=4)\n",
    "model.fit(X_train, y_train)\n",
    "\n",
    "# Предскажите классы для тестового набора\n",
    "y_pred = model.predict(X_test)\n",
    "y_pred[:10]"
   ]
  },
  {
   "cell_type": "markdown",
   "id": "0d67609b",
   "metadata": {},
   "source": [
    "#### [LogisticRegression](https://scikit-learn.org/stable/modules/generated/sklearn.linear_model.LogisticRegression.html)"
   ]
  },
  {
   "cell_type": "code",
   "execution_count": 458,
   "id": "650ec92f",
   "metadata": {
    "execution": {
     "iopub.execute_input": "2024-01-09T04:12:07.050881Z",
     "iopub.status.busy": "2024-01-09T04:12:07.049940Z",
     "iopub.status.idle": "2024-01-09T04:12:07.152578Z",
     "shell.execute_reply": "2024-01-09T04:12:07.151617Z"
    },
    "executionInfo": {
     "elapsed": 353,
     "status": "ok",
     "timestamp": 1706707848072,
     "user": {
      "displayName": "Artem Malygin",
      "userId": "06576770450014929968"
     },
     "user_tz": -420
    },
    "id": "650ec92f",
    "papermill": {
     "duration": 0.400427,
     "end_time": "2024-01-09T04:12:07.155246",
     "exception": false,
     "start_time": "2024-01-09T04:12:06.754819",
     "status": "completed"
    },
    "tags": []
   },
   "outputs": [],
   "source": [
    "from sklearn.linear_model import LogisticRegression"
   ]
  },
  {
   "cell_type": "code",
   "execution_count": 459,
   "id": "b19d8015",
   "metadata": {
    "colab": {
     "base_uri": "https://localhost:8080/"
    },
    "execution": {
     "iopub.execute_input": "2024-01-09T04:12:07.737077Z",
     "iopub.status.busy": "2024-01-09T04:12:07.735130Z",
     "iopub.status.idle": "2024-01-09T04:12:08.404331Z",
     "shell.execute_reply": "2024-01-09T04:12:08.402788Z"
    },
    "executionInfo": {
     "elapsed": 2144,
     "status": "ok",
     "timestamp": 1706707851414,
     "user": {
      "displayName": "Artem Malygin",
      "userId": "06576770450014929968"
     },
     "user_tz": -420
    },
    "id": "b19d8015",
    "outputId": "a44cc017-7cad-46e6-bb92-e7278f2a9147",
    "papermill": {
     "duration": 0.964335,
     "end_time": "2024-01-09T04:12:08.409197",
     "exception": false,
     "start_time": "2024-01-09T04:12:07.444862",
     "status": "completed"
    },
    "tags": []
   },
   "outputs": [
    {
     "data": {
      "text/plain": [
       "array([0.50422237, 0.4895337 , 0.42118946, 0.40005299, 0.99998954,\n",
       "       0.40787522, 0.42367083, 0.41468785, 0.43848288, 0.4117548 ])"
      ]
     },
     "execution_count": 459,
     "metadata": {},
     "output_type": "execute_result"
    }
   ],
   "source": [
    "model = LogisticRegression().fit(X_train, y_train)\n",
    "y_pred = model.predict_proba(X_test)[:, 1]\n",
    "y_pred[:10]"
   ]
  },
  {
   "cell_type": "markdown",
   "id": "0e04391b",
   "metadata": {
    "id": "0e04391b",
    "papermill": {
     "duration": 0.289875,
     "end_time": "2024-01-09T04:12:09.036090",
     "exception": false,
     "start_time": "2024-01-09T04:12:08.746215",
     "status": "completed"
    },
    "tags": []
   },
   "source": [
    "### [ROC AUC](https://scikit-learn.org/stable/modules/generated/sklearn.metrics.roc_auc_score.html)"
   ]
  },
  {
   "cell_type": "code",
   "execution_count": 600,
   "id": "033f6604",
   "metadata": {
    "execution": {
     "iopub.execute_input": "2024-01-09T04:12:09.641594Z",
     "iopub.status.busy": "2024-01-09T04:12:09.641169Z",
     "iopub.status.idle": "2024-01-09T04:12:09.646698Z",
     "shell.execute_reply": "2024-01-09T04:12:09.645513Z"
    },
    "executionInfo": {
     "elapsed": 8,
     "status": "ok",
     "timestamp": 1706707851416,
     "user": {
      "displayName": "Artem Malygin",
      "userId": "06576770450014929968"
     },
     "user_tz": -420
    },
    "id": "033f6604",
    "papermill": {
     "duration": 0.319257,
     "end_time": "2024-01-09T04:12:09.649067",
     "exception": false,
     "start_time": "2024-01-09T04:12:09.329810",
     "status": "completed"
    },
    "tags": []
   },
   "outputs": [],
   "source": [
    "from sklearn.metrics import auc, roc_auc_score, roc_curve\n",
    "import plotly.express as px"
   ]
  },
  {
   "cell_type": "code",
   "execution_count": 601,
   "id": "853c5a2e",
   "metadata": {
    "colab": {
     "base_uri": "https://localhost:8080/",
     "height": 517
    },
    "execution": {
     "iopub.execute_input": "2024-01-09T04:12:10.226683Z",
     "iopub.status.busy": "2024-01-09T04:12:10.225858Z",
     "iopub.status.idle": "2024-01-09T04:12:10.445144Z",
     "shell.execute_reply": "2024-01-09T04:12:10.443940Z"
    },
    "executionInfo": {
     "elapsed": 392,
     "status": "ok",
     "timestamp": 1706707851801,
     "user": {
      "displayName": "Artem Malygin",
      "userId": "06576770450014929968"
     },
     "user_tz": -420
    },
    "id": "853c5a2e",
    "outputId": "03104297-4850-4ffe-8997-52fdc7800dc6",
    "papermill": {
     "duration": 0.511076,
     "end_time": "2024-01-09T04:12:10.448792",
     "exception": false,
     "start_time": "2024-01-09T04:12:09.937716",
     "status": "completed"
    },
    "tags": []
   },
   "outputs": [
    {
     "data": {
      "application/vnd.plotly.v1+json": {
       "config": {
        "plotlyServerURL": "https://plot.ly"
       },
       "data": [
        {
         "fillpattern": {
          "shape": ""
         },
         "hovertemplate": "False Positive Rate=%{x}<br>True Positive Rate=%{y}<extra></extra>",
         "legendgroup": "",
         "line": {
          "color": "#636efa"
         },
         "marker": {
          "symbol": "circle"
         },
         "mode": "lines",
         "name": "",
         "orientation": "v",
         "showlegend": false,
         "stackgroup": "1",
         "type": "scatter",
         "x": [
          0,
          0.0005795355760981346,
          0.0006079441827696119,
          0.0006136259041039073,
          0.0006136259041039073,
          0.0006136259041039073,
          0.0006704431174468616,
          0.0009261205774901564,
          0.0009829377908331107,
          0.0009829377908331107,
          0.001011346397504588,
          0.0012613421362135872,
          0.0012613421362135872,
          0.0012613421362135872,
          0.0012897507428850645,
          0.0013238410708908371,
          0.0013408862348937233,
          0.0013408862348937233,
          0.0013692948415652006,
          0.0013692948415652006,
          0.001374976562899496,
          0.0014545206615796322,
          0.0014545206615796322,
          0.0014772475469168138,
          0.0015113378749225866,
          0.0015113378749225866,
          0.0015397464815940637,
          0.0015397464815940637,
          0.0015681550882655408,
          0.0015965636949370181,
          0.0018238325483088357,
          0.0018238325483088357,
          0.0018238325483088357,
          0.0018579228763146083,
          0.0019033766469889718,
          0.0019090583683232672,
          0.0019147400896575627,
          0.0019317852536604489,
          0.0019488304176633353,
          0.0019772390243348124,
          0.001982920745669108,
          0.0019886024670034033,
          0.001994284188337699,
          0.0020170110736748804,
          0.002022692795009176,
          0.002102236893689312,
          0.002153372385697971,
          0.0030510843565166503,
          0.0030510843565166503,
          0.0031079015698596045,
          0.0031079015698596045,
          0.003357897308568604,
          0.0034772134565888083,
          0.0036533468179519666,
          0.0036874371459577394,
          0.0038351619006494206,
          0.0038578887859866025,
          0.0038749339499894887,
          0.003914705999329557,
          0.00396015977000392,
          0.006136259041039073,
          0.0061646676477105505,
          0.006170349369044846,
          0.006170349369044846,
          0.00726123986522957,
          0.00726123986522957,
          0.00726123986522957,
          0.007295330193235343,
          0.007437373226592729,
          0.007533962489275751,
          0.007533962489275751,
          0.008999846593523974,
          0.00900552831485827,
          0.00901689175752686,
          0.009028255200195451,
          0.009255524053567268,
          0.009744152088316676,
          0.009749833809650972,
          0.010982767339193083,
          0.011033902831201741,
          0.011033902831201741,
          0.011079356601876105,
          0.01127253512724215,
          0.011664573899308535,
          0.011681619063311421,
          0.011692982505980012,
          0.011727072833985785,
          0.01173275455532008,
          0.011749799719322966,
          0.011829343818003102,
          0.011835025539337398,
          0.0139486258756953,
          0.013988397925035369,
          0.014641795878479344,
          0.014698613091822299,
          0.014749748583830958,
          0.014903155059856935,
          0.01493156366652841,
          0.014959972273199888,
          0.01543155514394641,
          0.01543155514394641,
          0.01543155514394641,
          0.015459963750617887,
          0.015488372357289365,
          0.017704243677664586,
          0.018289460975097014,
          0.018289460975097014,
          0.018306506139099902,
          0.018312187860434197,
          0.018386050237780036,
          0.01849400294313165,
          0.01853377499247172,
          0.01865877286182622,
          0.0186814997471634,
          0.018761043845843536,
          0.018778089009846424,
          0.021141685084913327,
          0.021164411970250506,
          0.021215547462259166,
          0.021380317380953733,
          0.021414407708959506,
          0.021499633528973938,
          0.021618949676994143,
          0.021726902382345755,
          0.021817809923694483,
          0.021863263694368845,
          0.021880308858371732,
          0.021914399186377505,
          0.022005306727726232,
          0.022062123941069187,
          0.022079169105072072,
          0.022192803531757982,
          0.02231780140111248,
          0.02232916484378107,
          0.02244279927046698,
          0.022687113287841683,
          0.02269279500917598,
          0.02271552189451316,
          0.022726885337181753,
          0.022726885337181753,
          0.022743930501184638,
          0.022789384271859003,
          0.022908700419879205,
          0.02294279074788498,
          0.022948472469219276,
          0.022971199354556455,
          0.023050743453236593,
          0.023113242387913843,
          0.023232558535934048,
          0.023334829519951365,
          0.02339164673329432,
          0.023431418782634387,
          0.02346550911064016,
          0.023510962881314525,
          0.023510962881314525,
          0.023567780094657476,
          0.02360187042266325,
          0.023613233865331842,
          0.02369845968534627,
          0.023721186570683454,
          0.023789367226695,
          0.02412458878541843,
          0.024340494196121658,
          0.024454128622807565,
          0.02458480821349636,
          0.024664352312176497,
          0.02481207706686818,
          0.024891621165548314,
          0.024891621165548314,
          0.02499957387089993,
          0.025005255592234224,
          0.025090481412248653,
          0.025141616904257313,
          0.025152980346925903,
          0.025238206166940336,
          0.0255336556763237,
          0.025777969693698402,
          0.025937057891058674,
          0.02625523428577922,
          0.02651659346715681,
          0.026607501008505535,
          0.02710181076458924,
          0.027192718305937967,
          0.027221126912609445,
          0.02728930756862099,
          0.027306352732623877,
          0.027312034453958172,
          0.02734044306062965,
          0.027374533388635422,
          0.027732481832696033,
          0.02778929904603899,
          0.027863161423384828,
          0.02826088191678551,
          0.028351789458134238,
          0.02838587978614001,
          0.0296415402010193,
          0.029959716595739844,
          0.03011880479310012,
          0.030579024221178048,
          0.03061311454918382,
          0.030948336107907252,
          0.03103356192792168,
          0.03103924364925598,
          0.03117560496127907,
          0.031232422174622024,
          0.03138014692931371,
          0.03150514479866821,
          0.03171536848803713,
          0.03177218570138009,
          0.03186309324272882,
          0.03195400078407754,
          0.03236308472014682,
          0.032385811605484,
          0.0328801213615677,
          0.03291989341090777,
          0.03292557513224206,
          0.03296534718158213,
          0.032988074066919316,
          0.03402782907109538,
          0.034874405549905396,
          0.03519826366596024,
          0.03530621637131185,
          0.03580052612739556,
          0.042175417464475035,
          0.042516320744532765,
          0.04268109066322733,
          0.04876621421225775,
          0.04899916478696386,
          0.049073027164309696,
          0.04939688528036454,
          0.049936648807122605,
          0.050152554217825836,
          0.05022641659517167,
          0.05025482520184315,
          0.05477179366260802,
          0.055493372272063544,
          0.05553882604273791,
          0.0557945035027812,
          0.0560501809628245,
          0.05611836161883604,
          0.05663539826025693,
          0.056737669244274244,
          0.059936478355482575,
          0.060163747208854396,
          0.060413742947563395,
          0.06099896024499583,
          0.06108986778634455,
          0.06155008721442248,
          0.062379618529229616,
          0.064021635994841,
          0.077964580149202,
          0.07799867047720778,
          0.07802707908387925,
          0.07804980596921643,
          0.07952137179479896,
          0.07954978040147043,
          0.08031113106026602,
          0.08036794827360898,
          0.08048158270029489,
          0.08066907950432663,
          0.09897558564342654,
          0.0990096759714323,
          0.10020851917296865,
          0.10740726010352096,
          0.14020215564507424,
          0.14269643131082993,
          0.14271347647483282,
          0.14282142918018442,
          0.14331573893626814,
          0.14404868098839224,
          0.14542933927262602,
          0.145486156485969,
          0.1455941091913206,
          0.14603160173406135,
          0.17243456077453226,
          0.1724913779878752,
          0.19471259012630465,
          0.195411441850423,
          0.1958034806224894,
          0.1961500656238814,
          0.19619551939455576,
          0.19658187644528785,
          0.21874627137037436,
          0.21879172514104872,
          0.22272915802571547,
          0.22401322704726623,
          0.22413254319528644,
          0.22414390663795503,
          0.2245700357380272,
          0.22467230672204452,
          0.23325170593683062,
          0.2350073578291279,
          0.23517212774782248,
          0.23546757725720585,
          0.25398998880700896,
          0.2540468060203519,
          0.25424566626705225,
          0.25600699988068387,
          0.2560126816020181,
          0.25677403226081374,
          0.2568876666874996,
          0.26016601989738813,
          0.2630523343352102,
          0.2633080117952535,
          0.263933001142026,
          0.26395572802736317,
          0.32086953063300055,
          0.3209320295676778,
          0.3239319784321858,
          0.33085799673869193,
          0.3312784441174298,
          0.3724709237910717,
          0.37248796895507463,
          0.37346522502457347,
          0.3736129497792651,
          0.37495951773549313,
          0.37497088117816174,
          0.38353323522894495,
          0.3835957341636222,
          0.4249757106412959,
          0.42523706982267345,
          0.4265665926148986,
          0.4266688635989159,
          0.45429339272626035,
          0.4546058873996466,
          0.45516269609040755,
          0.45528769395976204,
          0.4588387697936967,
          0.4588501332363653,
          0.4589637676630512,
          0.4601057936512446,
          0.4702363027902933,
          0.4704181178729908,
          0.49325295591552415,
          0.493576814031579,
          0.4958949563359715,
          0.5019175809503247,
          0.5026107509531088,
          0.5029573359545008,
          0.5100708510650387,
          0.5101958489343932,
          0.5502122122918359,
          0.5554791679687278,
          0.5555757572314108,
          0.5561723379715119,
          0.5572745919103652,
          0.6219382624159815,
          0.6219553075799844,
          0.6488355312125361,
          0.6490912086725794,
          0.6559774549297455,
          0.6560229087004199,
          0.656619489440521,
          0.6567785776378812,
          0.6581081004301063,
          0.6584887757595042,
          0.6585796833008528,
          0.6648807122605864,
          0.6651250262779612,
          0.6661022823474599,
          0.6663409146435004,
          0.6679317966171031,
          0.6691874570319825,
          0.6692272290813225,
          0.6702328937574927,
          0.670409027118856,
          0.6796702328937575,
          0.6852496832440356,
          0.6855394510320847,
          0.6857099026721135,
          0.695431327875093,
          0.6954370095964273,
          0.6975392464901167,
          0.711777640153861,
          0.7143685050822998,
          0.7210104373220911,
          0.7215729277341864,
          0.721584291176855,
          0.7216695169968693,
          0.7276978233325568,
          0.7316693465452293,
          0.7962761998375028,
          0.8000090907541348,
          0.8000318176394721,
          0.800702260756919,
          0.8013215683823571,
          0.8013897490383687,
          0.8027022266665909,
          0.8032874439640233,
          0.8033897149480407,
          0.8034465321613836,
          0.8035260762600638,
          0.8052646829883582,
          0.8053783174150441,
          0.8199632960801805,
          0.8202587455895638,
          0.8211735027243854,
          0.8245938989676312,
          0.8246223075743027,
          0.8297017664471629,
          0.8301960762032465,
          0.8304460719419555,
          0.8305824332539786,
          0.8313665107981114,
          0.8317187775208377,
          0.8331789799037517,
          0.8333892035931205,
          0.8334062487571234,
          0.8338494230211985,
          0.8338664681852014,
          0.8342300983505962,
          0.8356448469628358,
          0.8357868899961932,
          0.836610739589666,
          0.8369005073777152,
          0.8370084600830667,
          0.8420481469065868,
          0.8421390544479356,
          0.842610637318682,
          0.8445253774083397,
          0.8449117344590718,
          0.8600080680442947,
          0.860070566978972,
          0.8636273245342408,
          0.869223820048522,
          0.8698488093952944,
          0.8706044783327557,
          0.8715249171889116,
          0.8716896871076061,
          0.8718374118622978,
          0.8720419538303325,
          0.8722294506343642,
          0.8950983790049033,
          0.9022800747714528,
          0.9171264126179668,
          0.9181036686874655,
          0.9213933853400226,
          0.9225183661642131,
          0.9253876354380323,
          0.928631898319915,
          0.9565973307273171,
          0.9735515871888547,
          1
         ],
         "xaxis": "x",
         "y": [
          0,
          0.18677254432720547,
          0.21074858748024392,
          0.21490136356946782,
          0.21658422968882973,
          0.21792796309212253,
          0.21906693711967545,
          0.2804947498416314,
          0.28226719818787954,
          0.28391167192429023,
          0.2910078640397745,
          0.332362859208733,
          0.3327915741516883,
          0.3337705799169445,
          0.3340777189805543,
          0.334928750135973,
          0.33805772934649764,
          0.3383520709491237,
          0.3431319226265509,
          0.34335587819376634,
          0.34378459313672166,
          0.35018972235908397,
          0.35038808300433194,
          0.35079760175581165,
          0.35188538593942964,
          0.352064550393202,
          0.3532163218817387,
          0.35337629014403543,
          0.35376661270403953,
          0.3567612185742349,
          0.3711327672589758,
          0.3712671405993051,
          0.37151029235799615,
          0.3716062733153742,
          0.37358987976785407,
          0.3737306518386752,
          0.37434492996589475,
          0.3751767649298379,
          0.37605978973771603,
          0.3768916247016592,
          0.3771283777298584,
          0.3772819472616633,
          0.37746111171543567,
          0.37849130732462677,
          0.3785680920905292,
          0.38167787510957824,
          0.3822921532367978,
          0.41223181320825947,
          0.41245576877547496,
          0.41340278088827176,
          0.4134987618456498,
          0.41989109360702837,
          0.4254195967520044,
          0.42998829032319985,
          0.4312040491166553,
          0.43415386387340754,
          0.4346529648517734,
          0.43472974961767585,
          0.4353824201278466,
          0.43661737511277765,
          0.4863675046870701,
          0.48663625136772864,
          0.486668245020188,
          0.48680901709100916,
          0.5078288467568034,
          0.5078608404092628,
          0.5080592010545107,
          0.5087438652171409,
          0.5116552875909419,
          0.5130310146466941,
          0.5130502108381697,
          0.538318797550566,
          0.5387475124935213,
          0.5388434934508993,
          0.5392914045853303,
          0.5416013462928955,
          0.5513466128320141,
          0.5513914039454573,
          0.5695126086984342,
          0.5701588804781131,
          0.5702036715915563,
          0.5707731586053327,
          0.5736333911351987,
          0.5784900275785284,
          0.5787011856847601,
          0.5787779704506626,
          0.5797121851024757,
          0.5797633749464106,
          0.5798401597123131,
          0.580288070846744,
          0.5805312226054351,
          0.6051215438856931,
          0.6055374613676646,
          0.6128512103198726,
          0.6130687671565961,
          0.6134078998726653,
          0.6148796078857954,
          0.6149499939212061,
          0.6152059431408808,
          0.6203761173783121,
          0.6204145097612633,
          0.6204976932576577,
          0.6205936742150358,
          0.6206256678674951,
          0.6381006008407932,
          0.6436163065247855,
          0.6436483001772448,
          0.643840262092001,
          0.6441985909995457,
          0.6444161478362693,
          0.6452671789916881,
          0.6458366660054645,
          0.6462525834874361,
          0.646303773331371,
          0.6468924565366231,
          0.6469436463805581,
          0.6662230213525636,
          0.6662806099269905,
          0.6663509959624011,
          0.6678035077840556,
          0.6678227039755312,
          0.6680274633512711,
          0.6686097478260313,
          0.6695567599388281,
          0.6696527408962062,
          0.6699342850378485,
          0.6700430634562103,
          0.6701390444135883,
          0.6704397847467063,
          0.6705165695126087,
          0.6705933542785112,
          0.6711692400227794,
          0.671585157504751,
          0.6716171511572104,
          0.6720586635611495,
          0.6729800807519788,
          0.6731016566313244,
          0.6731720426667349,
          0.6732232325106698,
          0.6733192134680479,
          0.6734791817303447,
          0.6735047766523122,
          0.6741894408149424,
          0.6741958395454342,
          0.6742150357369098,
          0.6743430103467472,
          0.6744453900346171,
          0.6745605671834708,
          0.6750532694313448,
          0.6753156173815115,
          0.675443591991349,
          0.6756035602536457,
          0.6756803450195481,
          0.6758275158208611,
          0.6759874840831579,
          0.6760706675795523,
          0.6762434333028328,
          0.6763650091821782,
          0.6766081609408693,
          0.6766273571323449,
          0.6766593507848043,
          0.6773952047913694,
          0.6778495146562922,
          0.6780990651454751,
          0.6783358181736744,
          0.6784381978615442,
          0.678745336925154,
          0.6788797102654833,
          0.6789053051874508,
          0.6791548556766338,
          0.6791740518681094,
          0.6794555960097517,
          0.6796539566549996,
          0.6796731528464752,
          0.6798267223782801,
          0.680472994157959,
          0.6811384621291136,
          0.6815863732635445,
          0.6820470818589592,
          0.682405410766504,
          0.6825269866458494,
          0.6834739987586463,
          0.6836915555953699,
          0.6837299479783211,
          0.6838963149711097,
          0.6839475048150447,
          0.6840114921199634,
          0.684030688311439,
          0.6840690806943902,
          0.6845873778642317,
          0.6847025550130854,
          0.6848305296229228,
          0.6854128140976831,
          0.6855855798209636,
          0.6856303709344066,
          0.6875499900819677,
          0.6879659075639393,
          0.6882218567836141,
          0.6888617298328011,
          0.6888937234852606,
          0.6894696092295288,
          0.6896423749528093,
          0.6896871660662525,
          0.6898471343285492,
          0.6899239190944516,
          0.6900007038603541,
          0.6901990645056021,
          0.6905317984911794,
          0.6905765896046224,
          0.6906277794485574,
          0.690742956597411,
          0.6912228613843013,
          0.6912676524977445,
          0.6922210633410332,
          0.692227462071525,
          0.6922658544544762,
          0.692323443028903,
          0.6923298417593949,
          0.6934688157869479,
          0.6943902329777772,
          0.694748561885322,
          0.6948253466512244,
          0.6956827765371351,
          0.7032780696309852,
          0.7036236010775462,
          0.7039563350631235,
          0.7109693436822134,
          0.7111165144835264,
          0.7112252929018883,
          0.7115708243484493,
          0.7121851024756688,
          0.7124474504258355,
          0.7125434313832135,
          0.7126138174186242,
          0.7171057262239172,
          0.7176560170462181,
          0.7177136056206449,
          0.7180079472232709,
          0.7181935104075351,
          0.7182510989819619,
          0.7187118075773766,
          0.7188077885347547,
          0.721559242646259,
          0.7216488248731452,
          0.7218215905964257,
          0.7223654826882346,
          0.7224166725321696,
          0.7227366090567632,
          0.7234980579852958,
          0.7248289939276048,
          0.7364554872313333,
          0.7364682846923171,
          0.7365002783447764,
          0.736519474536252,
          0.7379079990529879,
          0.7379271952444635,
          0.7385414733716831,
          0.7385734670241424,
          0.7387334352864392,
          0.7389317959316871,
          0.752170769319367,
          0.7522539528157614,
          0.753258553502985,
          0.758294354400087,
          0.7799476583845765,
          0.7813681765537718,
          0.7813681765537718,
          0.7815281448160685,
          0.7818928724541051,
          0.7824111696239466,
          0.7834925550770727,
          0.7835309474600239,
          0.7836653208003532,
          0.783870080176093,
          0.7991374511296959,
          0.7992334320870739,
          0.8123060384819651,
          0.8126899623114774,
          0.8129139178786928,
          0.8129971013750872,
          0.8130162975665628,
          0.8132146582118108,
          0.8248603477070149,
          0.8248859426289824,
          0.8268759478119541,
          0.8274134411732712,
          0.827426238634255,
          0.8274646310172061,
          0.8276501942014705,
          0.8276821878539298,
          0.8317389829857756,
          0.8326156090631619,
          0.8326795963680805,
          0.8328907544743123,
          0.8424056667157236,
          0.8424312616376911,
          0.8426424197439228,
          0.8434678559773741,
          0.8434678559773741,
          0.8438581785373782,
          0.8438837734593456,
          0.845400272585919,
          0.8465456453439637,
          0.8466096326488824,
          0.8468271894856061,
          0.8468527844075735,
          0.8693763157389574,
          0.8694275055828924,
          0.8708800174045469,
          0.8734459083317869,
          0.8736186740550674,
          0.8893851459870362,
          0.8894235383699874,
          0.8897498736250727,
          0.8897690698165484,
          0.8904281390572111,
          0.8904345377877029,
          0.8934163461969146,
          0.8934547385798658,
          0.9077431037682124,
          0.9077559012291961,
          0.9081718187111677,
          0.9082358060160864,
          0.9169828705984733,
          0.9170788515558513,
          0.9172836109315912,
          0.9173859906194611,
          0.918326604001766,
          0.9183585976542255,
          0.9184161862286523,
          0.9188449011716076,
          0.921935487999181,
          0.9220058740345916,
          0.9285133829448238,
          0.9286733512071205,
          0.9294539963271287,
          0.9310664764110801,
          0.9312840332478036,
          0.9313480205527224,
          0.9333508231966777,
          0.9334084117711046,
          0.9443886332951542,
          0.9458475438473007,
          0.9459115311522194,
          0.946129087988943,
          0.9464362270525528,
          0.9622410913674727,
          0.9622538888284564,
          0.9683902713701602,
          0.9684670561360627,
          0.9697020111209936,
          0.969734004773453,
          0.9699387641491928,
          0.9700475425675545,
          0.97037387782264,
          0.9704890549714936,
          0.9705402448154287,
          0.9720375477505263,
          0.9721207312469207,
          0.9723126931616767,
          0.9724150728495466,
          0.9727670030265996,
          0.9730805408207012,
          0.9731125344731605,
          0.9732661040049654,
          0.9732916989269329,
          0.9751665269610509,
          0.9761391339958152,
          0.976203121300734,
          0.9762735073361445,
          0.9778987848810796,
          0.9779115823420633,
          0.9782955061715756,
          0.980496669460779,
          0.9808933907512749,
          0.9820515609703034,
          0.9821923330411246,
          0.9822179279630922,
          0.9822691178070271,
          0.9831777375368727,
          0.9838751991604866,
          0.9931149659907474,
          0.9936716555435402,
          0.993678054274032,
          0.9937228453874751,
          0.9938572187278044,
          0.9939020098412475,
          0.9941003704864955,
          0.9941899527133816,
          0.9942539400183004,
          0.9943051298622353,
          0.9943243260537109,
          0.9945418828904345,
          0.9945418828904345,
          0.9960455845560241,
          0.9961031731304509,
          0.9962055528183208,
          0.9964742994989794,
          0.9964870969599632,
          0.9969989953993128,
          0.9971077738176746,
          0.9971141725481665,
          0.9971525649311177,
          0.9972421471580039,
          0.9972677420799714,
          0.9973701217678412,
          0.9973765204983331,
          0.9973957166898088,
          0.9974405078032519,
          0.9974405078032519,
          0.9974725014557112,
          0.9975044951081705,
          0.9975044951081705,
          0.9975940773350567,
          0.9976132735265323,
          0.9976196722570242,
          0.9977476468668616,
          0.9977924379803047,
          0.9978116341717803,
          0.9978308303632559,
          0.9978308303632559,
          0.9982211529232601,
          0.9982211529232601,
          0.998317133880638,
          0.9984643046819511,
          0.9984643046819511,
          0.9984835008734267,
          0.998521893256378,
          0.998521893256378,
          0.9985282919868698,
          0.9985346907173617,
          0.9985346907173617,
          0.9988866208944146,
          0.9989506081993332,
          0.9991489688445813,
          0.999161766305565,
          0.9991937599580243,
          0.9992001586885162,
          0.9992001586885162,
          0.9992321523409755,
          0.9992449498019593,
          0.9992449498019593,
          1
         ],
         "yaxis": "y"
        }
       ],
       "layout": {
        "height": 500,
        "legend": {
         "tracegroupgap": 0
        },
        "shapes": [
         {
          "line": {
           "dash": "dash"
          },
          "type": "line",
          "x0": 0,
          "x1": 1,
          "y0": 0,
          "y1": 1
         }
        ],
        "template": {
         "data": {
          "bar": [
           {
            "error_x": {
             "color": "#2a3f5f"
            },
            "error_y": {
             "color": "#2a3f5f"
            },
            "marker": {
             "line": {
              "color": "#E5ECF6",
              "width": 0.5
             },
             "pattern": {
              "fillmode": "overlay",
              "size": 10,
              "solidity": 0.2
             }
            },
            "type": "bar"
           }
          ],
          "barpolar": [
           {
            "marker": {
             "line": {
              "color": "#E5ECF6",
              "width": 0.5
             },
             "pattern": {
              "fillmode": "overlay",
              "size": 10,
              "solidity": 0.2
             }
            },
            "type": "barpolar"
           }
          ],
          "carpet": [
           {
            "aaxis": {
             "endlinecolor": "#2a3f5f",
             "gridcolor": "white",
             "linecolor": "white",
             "minorgridcolor": "white",
             "startlinecolor": "#2a3f5f"
            },
            "baxis": {
             "endlinecolor": "#2a3f5f",
             "gridcolor": "white",
             "linecolor": "white",
             "minorgridcolor": "white",
             "startlinecolor": "#2a3f5f"
            },
            "type": "carpet"
           }
          ],
          "choropleth": [
           {
            "colorbar": {
             "outlinewidth": 0,
             "ticks": ""
            },
            "type": "choropleth"
           }
          ],
          "contour": [
           {
            "colorbar": {
             "outlinewidth": 0,
             "ticks": ""
            },
            "colorscale": [
             [
              0,
              "#0d0887"
             ],
             [
              0.1111111111111111,
              "#46039f"
             ],
             [
              0.2222222222222222,
              "#7201a8"
             ],
             [
              0.3333333333333333,
              "#9c179e"
             ],
             [
              0.4444444444444444,
              "#bd3786"
             ],
             [
              0.5555555555555556,
              "#d8576b"
             ],
             [
              0.6666666666666666,
              "#ed7953"
             ],
             [
              0.7777777777777778,
              "#fb9f3a"
             ],
             [
              0.8888888888888888,
              "#fdca26"
             ],
             [
              1,
              "#f0f921"
             ]
            ],
            "type": "contour"
           }
          ],
          "contourcarpet": [
           {
            "colorbar": {
             "outlinewidth": 0,
             "ticks": ""
            },
            "type": "contourcarpet"
           }
          ],
          "heatmap": [
           {
            "colorbar": {
             "outlinewidth": 0,
             "ticks": ""
            },
            "colorscale": [
             [
              0,
              "#0d0887"
             ],
             [
              0.1111111111111111,
              "#46039f"
             ],
             [
              0.2222222222222222,
              "#7201a8"
             ],
             [
              0.3333333333333333,
              "#9c179e"
             ],
             [
              0.4444444444444444,
              "#bd3786"
             ],
             [
              0.5555555555555556,
              "#d8576b"
             ],
             [
              0.6666666666666666,
              "#ed7953"
             ],
             [
              0.7777777777777778,
              "#fb9f3a"
             ],
             [
              0.8888888888888888,
              "#fdca26"
             ],
             [
              1,
              "#f0f921"
             ]
            ],
            "type": "heatmap"
           }
          ],
          "heatmapgl": [
           {
            "colorbar": {
             "outlinewidth": 0,
             "ticks": ""
            },
            "colorscale": [
             [
              0,
              "#0d0887"
             ],
             [
              0.1111111111111111,
              "#46039f"
             ],
             [
              0.2222222222222222,
              "#7201a8"
             ],
             [
              0.3333333333333333,
              "#9c179e"
             ],
             [
              0.4444444444444444,
              "#bd3786"
             ],
             [
              0.5555555555555556,
              "#d8576b"
             ],
             [
              0.6666666666666666,
              "#ed7953"
             ],
             [
              0.7777777777777778,
              "#fb9f3a"
             ],
             [
              0.8888888888888888,
              "#fdca26"
             ],
             [
              1,
              "#f0f921"
             ]
            ],
            "type": "heatmapgl"
           }
          ],
          "histogram": [
           {
            "marker": {
             "pattern": {
              "fillmode": "overlay",
              "size": 10,
              "solidity": 0.2
             }
            },
            "type": "histogram"
           }
          ],
          "histogram2d": [
           {
            "colorbar": {
             "outlinewidth": 0,
             "ticks": ""
            },
            "colorscale": [
             [
              0,
              "#0d0887"
             ],
             [
              0.1111111111111111,
              "#46039f"
             ],
             [
              0.2222222222222222,
              "#7201a8"
             ],
             [
              0.3333333333333333,
              "#9c179e"
             ],
             [
              0.4444444444444444,
              "#bd3786"
             ],
             [
              0.5555555555555556,
              "#d8576b"
             ],
             [
              0.6666666666666666,
              "#ed7953"
             ],
             [
              0.7777777777777778,
              "#fb9f3a"
             ],
             [
              0.8888888888888888,
              "#fdca26"
             ],
             [
              1,
              "#f0f921"
             ]
            ],
            "type": "histogram2d"
           }
          ],
          "histogram2dcontour": [
           {
            "colorbar": {
             "outlinewidth": 0,
             "ticks": ""
            },
            "colorscale": [
             [
              0,
              "#0d0887"
             ],
             [
              0.1111111111111111,
              "#46039f"
             ],
             [
              0.2222222222222222,
              "#7201a8"
             ],
             [
              0.3333333333333333,
              "#9c179e"
             ],
             [
              0.4444444444444444,
              "#bd3786"
             ],
             [
              0.5555555555555556,
              "#d8576b"
             ],
             [
              0.6666666666666666,
              "#ed7953"
             ],
             [
              0.7777777777777778,
              "#fb9f3a"
             ],
             [
              0.8888888888888888,
              "#fdca26"
             ],
             [
              1,
              "#f0f921"
             ]
            ],
            "type": "histogram2dcontour"
           }
          ],
          "mesh3d": [
           {
            "colorbar": {
             "outlinewidth": 0,
             "ticks": ""
            },
            "type": "mesh3d"
           }
          ],
          "parcoords": [
           {
            "line": {
             "colorbar": {
              "outlinewidth": 0,
              "ticks": ""
             }
            },
            "type": "parcoords"
           }
          ],
          "pie": [
           {
            "automargin": true,
            "type": "pie"
           }
          ],
          "scatter": [
           {
            "fillpattern": {
             "fillmode": "overlay",
             "size": 10,
             "solidity": 0.2
            },
            "type": "scatter"
           }
          ],
          "scatter3d": [
           {
            "line": {
             "colorbar": {
              "outlinewidth": 0,
              "ticks": ""
             }
            },
            "marker": {
             "colorbar": {
              "outlinewidth": 0,
              "ticks": ""
             }
            },
            "type": "scatter3d"
           }
          ],
          "scattercarpet": [
           {
            "marker": {
             "colorbar": {
              "outlinewidth": 0,
              "ticks": ""
             }
            },
            "type": "scattercarpet"
           }
          ],
          "scattergeo": [
           {
            "marker": {
             "colorbar": {
              "outlinewidth": 0,
              "ticks": ""
             }
            },
            "type": "scattergeo"
           }
          ],
          "scattergl": [
           {
            "marker": {
             "colorbar": {
              "outlinewidth": 0,
              "ticks": ""
             }
            },
            "type": "scattergl"
           }
          ],
          "scattermapbox": [
           {
            "marker": {
             "colorbar": {
              "outlinewidth": 0,
              "ticks": ""
             }
            },
            "type": "scattermapbox"
           }
          ],
          "scatterpolar": [
           {
            "marker": {
             "colorbar": {
              "outlinewidth": 0,
              "ticks": ""
             }
            },
            "type": "scatterpolar"
           }
          ],
          "scatterpolargl": [
           {
            "marker": {
             "colorbar": {
              "outlinewidth": 0,
              "ticks": ""
             }
            },
            "type": "scatterpolargl"
           }
          ],
          "scatterternary": [
           {
            "marker": {
             "colorbar": {
              "outlinewidth": 0,
              "ticks": ""
             }
            },
            "type": "scatterternary"
           }
          ],
          "surface": [
           {
            "colorbar": {
             "outlinewidth": 0,
             "ticks": ""
            },
            "colorscale": [
             [
              0,
              "#0d0887"
             ],
             [
              0.1111111111111111,
              "#46039f"
             ],
             [
              0.2222222222222222,
              "#7201a8"
             ],
             [
              0.3333333333333333,
              "#9c179e"
             ],
             [
              0.4444444444444444,
              "#bd3786"
             ],
             [
              0.5555555555555556,
              "#d8576b"
             ],
             [
              0.6666666666666666,
              "#ed7953"
             ],
             [
              0.7777777777777778,
              "#fb9f3a"
             ],
             [
              0.8888888888888888,
              "#fdca26"
             ],
             [
              1,
              "#f0f921"
             ]
            ],
            "type": "surface"
           }
          ],
          "table": [
           {
            "cells": {
             "fill": {
              "color": "#EBF0F8"
             },
             "line": {
              "color": "white"
             }
            },
            "header": {
             "fill": {
              "color": "#C8D4E3"
             },
             "line": {
              "color": "white"
             }
            },
            "type": "table"
           }
          ]
         },
         "layout": {
          "annotationdefaults": {
           "arrowcolor": "#2a3f5f",
           "arrowhead": 0,
           "arrowwidth": 1
          },
          "autotypenumbers": "strict",
          "coloraxis": {
           "colorbar": {
            "outlinewidth": 0,
            "ticks": ""
           }
          },
          "colorscale": {
           "diverging": [
            [
             0,
             "#8e0152"
            ],
            [
             0.1,
             "#c51b7d"
            ],
            [
             0.2,
             "#de77ae"
            ],
            [
             0.3,
             "#f1b6da"
            ],
            [
             0.4,
             "#fde0ef"
            ],
            [
             0.5,
             "#f7f7f7"
            ],
            [
             0.6,
             "#e6f5d0"
            ],
            [
             0.7,
             "#b8e186"
            ],
            [
             0.8,
             "#7fbc41"
            ],
            [
             0.9,
             "#4d9221"
            ],
            [
             1,
             "#276419"
            ]
           ],
           "sequential": [
            [
             0,
             "#0d0887"
            ],
            [
             0.1111111111111111,
             "#46039f"
            ],
            [
             0.2222222222222222,
             "#7201a8"
            ],
            [
             0.3333333333333333,
             "#9c179e"
            ],
            [
             0.4444444444444444,
             "#bd3786"
            ],
            [
             0.5555555555555556,
             "#d8576b"
            ],
            [
             0.6666666666666666,
             "#ed7953"
            ],
            [
             0.7777777777777778,
             "#fb9f3a"
            ],
            [
             0.8888888888888888,
             "#fdca26"
            ],
            [
             1,
             "#f0f921"
            ]
           ],
           "sequentialminus": [
            [
             0,
             "#0d0887"
            ],
            [
             0.1111111111111111,
             "#46039f"
            ],
            [
             0.2222222222222222,
             "#7201a8"
            ],
            [
             0.3333333333333333,
             "#9c179e"
            ],
            [
             0.4444444444444444,
             "#bd3786"
            ],
            [
             0.5555555555555556,
             "#d8576b"
            ],
            [
             0.6666666666666666,
             "#ed7953"
            ],
            [
             0.7777777777777778,
             "#fb9f3a"
            ],
            [
             0.8888888888888888,
             "#fdca26"
            ],
            [
             1,
             "#f0f921"
            ]
           ]
          },
          "colorway": [
           "#636efa",
           "#EF553B",
           "#00cc96",
           "#ab63fa",
           "#FFA15A",
           "#19d3f3",
           "#FF6692",
           "#B6E880",
           "#FF97FF",
           "#FECB52"
          ],
          "font": {
           "color": "#2a3f5f"
          },
          "geo": {
           "bgcolor": "white",
           "lakecolor": "white",
           "landcolor": "#E5ECF6",
           "showlakes": true,
           "showland": true,
           "subunitcolor": "white"
          },
          "hoverlabel": {
           "align": "left"
          },
          "hovermode": "closest",
          "mapbox": {
           "style": "light"
          },
          "paper_bgcolor": "white",
          "plot_bgcolor": "#E5ECF6",
          "polar": {
           "angularaxis": {
            "gridcolor": "white",
            "linecolor": "white",
            "ticks": ""
           },
           "bgcolor": "#E5ECF6",
           "radialaxis": {
            "gridcolor": "white",
            "linecolor": "white",
            "ticks": ""
           }
          },
          "scene": {
           "xaxis": {
            "backgroundcolor": "#E5ECF6",
            "gridcolor": "white",
            "gridwidth": 2,
            "linecolor": "white",
            "showbackground": true,
            "ticks": "",
            "zerolinecolor": "white"
           },
           "yaxis": {
            "backgroundcolor": "#E5ECF6",
            "gridcolor": "white",
            "gridwidth": 2,
            "linecolor": "white",
            "showbackground": true,
            "ticks": "",
            "zerolinecolor": "white"
           },
           "zaxis": {
            "backgroundcolor": "#E5ECF6",
            "gridcolor": "white",
            "gridwidth": 2,
            "linecolor": "white",
            "showbackground": true,
            "ticks": "",
            "zerolinecolor": "white"
           }
          },
          "shapedefaults": {
           "line": {
            "color": "#2a3f5f"
           }
          },
          "ternary": {
           "aaxis": {
            "gridcolor": "white",
            "linecolor": "white",
            "ticks": ""
           },
           "baxis": {
            "gridcolor": "white",
            "linecolor": "white",
            "ticks": ""
           },
           "bgcolor": "#E5ECF6",
           "caxis": {
            "gridcolor": "white",
            "linecolor": "white",
            "ticks": ""
           }
          },
          "title": {
           "x": 0.05
          },
          "xaxis": {
           "automargin": true,
           "gridcolor": "white",
           "linecolor": "white",
           "ticks": "",
           "title": {
            "standoff": 15
           },
           "zerolinecolor": "white",
           "zerolinewidth": 2
          },
          "yaxis": {
           "automargin": true,
           "gridcolor": "white",
           "linecolor": "white",
           "ticks": "",
           "title": {
            "standoff": 15
           },
           "zerolinecolor": "white",
           "zerolinewidth": 2
          }
         }
        },
        "title": {
         "text": "ROC Curve (AUC=0.8996)"
        },
        "width": 700,
        "xaxis": {
         "anchor": "y",
         "constrain": "domain",
         "domain": [
          0,
          1
         ],
         "title": {
          "text": "False Positive Rate"
         }
        },
        "yaxis": {
         "anchor": "x",
         "domain": [
          0,
          1
         ],
         "scaleanchor": "x",
         "scaleratio": 1,
         "title": {
          "text": "True Positive Rate"
         }
        }
       }
      }
     },
     "metadata": {},
     "output_type": "display_data"
    }
   ],
   "source": [
    "fpr, tpr, _ = roc_curve(y_test, y_pred)\n",
    "# False Positive Rate - доля ложно положительных ответов\n",
    "# True Positive Rate - доля истинно положительных ответов\n",
    "\n",
    "# закрашенная область\n",
    "\n",
    "fig = px.area(\n",
    "    x=fpr,  # значения оси x\n",
    "\n",
    "    y=tpr,  # значения оси y\n",
    "    title=f'ROC Curve (AUC={auc(fpr, tpr):.4f})',  # название графика\n",
    "    labels=dict(x='False Positive Rate', y='True Positive Rate'),  # названия осей\n",
    "    width=700,  # ширина\n",
    "    height=500,  # высота\n",
    ")\n",
    "\n",
    "# пунктирная линия\n",
    "fig.add_shape(\n",
    "    type='line',  # тип объекта\n",
    "    line=dict(dash='dash'),  # характеристики линии\n",
    "    x0=0, x1=1, y0=0, y1=1,  # координаты - откуда и куда рисовать\n",
    ")\n",
    "\n",
    "# https://plotly.com/python/axes/#fixed-ratio-axes\n",
    "fig.update_yaxes(scaleanchor='x', scaleratio=1)\n",
    "fig.update_xaxes(constrain='domain')\n",
    "\n",
    "fig.show()"
   ]
  },
  {
   "cell_type": "markdown",
   "id": "Lm3LNK2wSiPJ",
   "metadata": {
    "id": "Lm3LNK2wSiPJ"
   },
   "source": [
    "## Прогноз"
   ]
  },
  {
   "cell_type": "code",
   "execution_count": 429,
   "id": "iF6dU2xsSh0u",
   "metadata": {
    "colab": {
     "base_uri": "https://localhost:8080/",
     "height": 161
    },
    "executionInfo": {
     "elapsed": 1482,
     "status": "ok",
     "timestamp": 1706707856155,
     "user": {
      "displayName": "Artem Malygin",
      "userId": "06576770450014929968"
     },
     "user_tz": -420
    },
    "id": "iF6dU2xsSh0u",
    "outputId": "4cb61abe-13d1-4576-ceec-42de32584fea"
   },
   "outputs": [
    {
     "data": {
      "text/html": [
       "<div>\n",
       "<style scoped>\n",
       "    .dataframe tbody tr th:only-of-type {\n",
       "        vertical-align: middle;\n",
       "    }\n",
       "\n",
       "    .dataframe tbody tr th {\n",
       "        vertical-align: top;\n",
       "    }\n",
       "\n",
       "    .dataframe thead th {\n",
       "        text-align: right;\n",
       "    }\n",
       "</style>\n",
       "<table border=\"1\" class=\"dataframe\">\n",
       "  <thead>\n",
       "    <tr style=\"text-align: right;\">\n",
       "      <th></th>\n",
       "      <th>applicant_ethnicity</th>\n",
       "      <th>income</th>\n",
       "      <th>applicant_race_1</th>\n",
       "      <th>applicant_race_2</th>\n",
       "      <th>applicant_race_3</th>\n",
       "      <th>applicant_race_4</th>\n",
       "      <th>applicant_race_5</th>\n",
       "      <th>applicant_sex</th>\n",
       "      <th>co_applicant_ethnicity</th>\n",
       "      <th>co_applicant_race_1</th>\n",
       "      <th>...</th>\n",
       "      <th>msamd</th>\n",
       "      <th>preapproval</th>\n",
       "      <th>property_type</th>\n",
       "      <th>purchaser_type</th>\n",
       "      <th>hud_median_family_income</th>\n",
       "      <th>loan_amount</th>\n",
       "      <th>number_of_1_to_4_family_units</th>\n",
       "      <th>number_of_owner_occupied_units</th>\n",
       "      <th>minority_population</th>\n",
       "      <th>population</th>\n",
       "    </tr>\n",
       "  </thead>\n",
       "  <tbody>\n",
       "    <tr>\n",
       "      <th>0</th>\n",
       "      <td>2</td>\n",
       "      <td>90.0</td>\n",
       "      <td>5.0</td>\n",
       "      <td>NaN</td>\n",
       "      <td>NaN</td>\n",
       "      <td>NaN</td>\n",
       "      <td>NaN</td>\n",
       "      <td>2</td>\n",
       "      <td>4</td>\n",
       "      <td>8.0</td>\n",
       "      <td>...</td>\n",
       "      <td>33124</td>\n",
       "      <td>2</td>\n",
       "      <td>3</td>\n",
       "      <td>0</td>\n",
       "      <td>68300</td>\n",
       "      <td>55000.0</td>\n",
       "      <td>889</td>\n",
       "      <td>866</td>\n",
       "      <td>94.42</td>\n",
       "      <td>3282</td>\n",
       "    </tr>\n",
       "    <tr>\n",
       "      <th>1</th>\n",
       "      <td>2</td>\n",
       "      <td>77.0</td>\n",
       "      <td>5.0</td>\n",
       "      <td>NaN</td>\n",
       "      <td>NaN</td>\n",
       "      <td>NaN</td>\n",
       "      <td>NaN</td>\n",
       "      <td>2</td>\n",
       "      <td>2</td>\n",
       "      <td>5.0</td>\n",
       "      <td>...</td>\n",
       "      <td>39460</td>\n",
       "      <td>2</td>\n",
       "      <td>3</td>\n",
       "      <td>0</td>\n",
       "      <td>76000</td>\n",
       "      <td>15000.0</td>\n",
       "      <td>2428</td>\n",
       "      <td>1828</td>\n",
       "      <td>19.71</td>\n",
       "      <td>6031</td>\n",
       "    </tr>\n",
       "  </tbody>\n",
       "</table>\n",
       "<p>2 rows × 27 columns</p>\n",
       "</div>"
      ],
      "text/plain": [
       "   applicant_ethnicity  income  applicant_race_1  applicant_race_2  \\\n",
       "0                    2    90.0               5.0               NaN   \n",
       "1                    2    77.0               5.0               NaN   \n",
       "\n",
       "   applicant_race_3  applicant_race_4  applicant_race_5  applicant_sex  \\\n",
       "0               NaN               NaN               NaN              2   \n",
       "1               NaN               NaN               NaN              2   \n",
       "\n",
       "   co_applicant_ethnicity  co_applicant_race_1  ...  msamd  preapproval  \\\n",
       "0                       4                  8.0  ...  33124            2   \n",
       "1                       2                  5.0  ...  39460            2   \n",
       "\n",
       "   property_type  purchaser_type  hud_median_family_income  loan_amount  \\\n",
       "0              3               0                     68300      55000.0   \n",
       "1              3               0                     76000      15000.0   \n",
       "\n",
       "   number_of_1_to_4_family_units  number_of_owner_occupied_units  \\\n",
       "0                            889                             866   \n",
       "1                           2428                            1828   \n",
       "\n",
       "   minority_population  population  \n",
       "0                94.42        3282  \n",
       "1                19.71        6031  \n",
       "\n",
       "[2 rows x 27 columns]"
      ]
     },
     "execution_count": 429,
     "metadata": {},
     "output_type": "execute_result"
    }
   ],
   "source": [
    "df_test = pd.read_csv('test.csv', index_col=0)\n",
    "df_test.head(2)"
   ]
  },
  {
   "cell_type": "code",
   "execution_count": 430,
   "id": "rDQiZD8dnQyj",
   "metadata": {
    "colab": {
     "base_uri": "https://localhost:8080/"
    },
    "executionInfo": {
     "elapsed": 274,
     "status": "ok",
     "timestamp": 1706707858053,
     "user": {
      "displayName": "Artem Malygin",
      "userId": "06576770450014929968"
     },
     "user_tz": -420
    },
    "id": "rDQiZD8dnQyj",
    "outputId": "6df40f16-a5c8-452f-ba11-58596f95e390"
   },
   "outputs": [
    {
     "name": "stderr",
     "output_type": "stream",
     "text": [
      "c:\\python\\lib\\site-packages\\pandas\\core\\arraylike.py:402: RuntimeWarning:\n",
      "\n",
      "divide by zero encountered in log\n",
      "\n",
      "c:\\python\\lib\\site-packages\\pandas\\core\\arraylike.py:402: RuntimeWarning:\n",
      "\n",
      "invalid value encountered in log\n",
      "\n"
     ]
    },
    {
     "data": {
      "text/plain": [
       "0    4.499810\n",
       "1    4.343805\n",
       "Name: income, dtype: float64"
      ]
     },
     "execution_count": 430,
     "metadata": {},
     "output_type": "execute_result"
    }
   ],
   "source": [
    "df_test['income'] = np.log(df_test.income)\n",
    "df_test['income'] = df_test.income.fillna(income_median)\n",
    "df_test.income.replace(-np.inf, 0, inplace=True)\n",
    "df_test.income.head(2)"
   ]
  },
  {
   "cell_type": "code",
   "execution_count": 431,
   "id": "tdP3YSdlnqHw",
   "metadata": {
    "colab": {
     "base_uri": "https://localhost:8080/"
    },
    "executionInfo": {
     "elapsed": 482,
     "status": "ok",
     "timestamp": 1706707859551,
     "user": {
      "displayName": "Artem Malygin",
      "userId": "06576770450014929968"
     },
     "user_tz": -420
    },
    "id": "tdP3YSdlnqHw",
    "outputId": "39578a50-207f-44df-ab00-e24bc0347227"
   },
   "outputs": [
    {
     "data": {
      "text/plain": [
       "msamd                       276903\n",
       "property_type               276903\n",
       "purchaser_type              276903\n",
       "hud_median_family_income    276903\n",
       "population                  276903\n",
       "applicant_ethnicity         276903\n",
       "co_applicant_ethnicity      276903\n",
       "income                      276903\n",
       "applicant_sex               276903\n",
       "dtype: int64"
      ]
     },
     "execution_count": 431,
     "metadata": {},
     "output_type": "execute_result"
    }
   ],
   "source": [
    "df_test[features].count()"
   ]
  },
  {
   "cell_type": "code",
   "execution_count": 432,
   "id": "CSaF9_Uz6Yau",
   "metadata": {
    "colab": {
     "base_uri": "https://localhost:8080/"
    },
    "executionInfo": {
     "elapsed": 352,
     "status": "ok",
     "timestamp": 1706707862370,
     "user": {
      "displayName": "Artem Malygin",
      "userId": "06576770450014929968"
     },
     "user_tz": -420
    },
    "id": "CSaF9_Uz6Yau",
    "outputId": "c3f860e3-4aab-4667-ca71-eda07c0694cb"
   },
   "outputs": [
    {
     "data": {
      "text/plain": [
       "(276903, 27)"
      ]
     },
     "execution_count": 432,
     "metadata": {},
     "output_type": "execute_result"
    }
   ],
   "source": [
    "df_test.shape"
   ]
  },
  {
   "cell_type": "code",
   "execution_count": 433,
   "id": "bvOfiSKBS3OZ",
   "metadata": {
    "colab": {
     "base_uri": "https://localhost:8080/"
    },
    "executionInfo": {
     "elapsed": 288,
     "status": "ok",
     "timestamp": 1706707863869,
     "user": {
      "displayName": "Artem Malygin",
      "userId": "06576770450014929968"
     },
     "user_tz": -420
    },
    "id": "bvOfiSKBS3OZ",
    "outputId": "4136405e-144f-4ddd-81db-2a6fb9bcc5a1"
   },
   "outputs": [
    {
     "data": {
      "text/plain": [
       "0    0.131433\n",
       "1    0.049123\n",
       "Name: target, dtype: float64"
      ]
     },
     "execution_count": 433,
     "metadata": {},
     "output_type": "execute_result"
    }
   ],
   "source": [
    "df_test['target'] = model.predict_proba(df_test[features])[:, 1]\n",
    "df_test.target.head(2)"
   ]
  },
  {
   "cell_type": "code",
   "execution_count": 434,
   "id": "fLjvGHynnDms",
   "metadata": {
    "executionInfo": {
     "elapsed": 1540,
     "status": "ok",
     "timestamp": 1706707867975,
     "user": {
      "displayName": "Artem Malygin",
      "userId": "06576770450014929968"
     },
     "user_tz": -420
    },
    "id": "fLjvGHynnDms"
   },
   "outputs": [],
   "source": [
    "df_test.target.to_csv('submission.csv')"
   ]
  },
  {
   "cell_type": "code",
   "execution_count": 435,
   "id": "Y3dvKja7rMSQ",
   "metadata": {
    "colab": {
     "base_uri": "https://localhost:8080/"
    },
    "executionInfo": {
     "elapsed": 1258,
     "status": "ok",
     "timestamp": 1706707870533,
     "user": {
      "displayName": "Artem Malygin",
      "userId": "06576770450014929968"
     },
     "user_tz": -420
    },
    "id": "Y3dvKja7rMSQ",
    "outputId": "86f20d21-e15b-465f-9e31-decfbe6a1cd5"
   },
   "outputs": [
    {
     "name": "stderr",
     "output_type": "stream",
     "text": [
      "\"zip\" �� ���� ����७��� ��� ���譥�\n",
      "��������, �ᯮ��塞�� �ணࠬ��� ��� ������ 䠩���.\n"
     ]
    }
   ],
   "source": [
    "!zip submission.zip submission.csv"
   ]
  }
 ],
 "metadata": {
  "colab": {
   "provenance": []
  },
  "kaggle": {
   "accelerator": "none",
   "dataSources": [
    {
     "datasetId": 1996,
     "sourceId": 3419,
     "sourceType": "datasetVersion"
    }
   ],
   "dockerImageVersionId": 30626,
   "isGpuEnabled": false,
   "isInternetEnabled": true,
   "language": "python",
   "sourceType": "notebook"
  },
  "kernelspec": {
   "display_name": "Python 3 (ipykernel)",
   "language": "python",
   "name": "python3"
  },
  "language_info": {
   "codemirror_mode": {
    "name": "ipython",
    "version": 3
   },
   "file_extension": ".py",
   "mimetype": "text/x-python",
   "name": "python",
   "nbconvert_exporter": "python",
   "pygments_lexer": "ipython3",
   "version": "3.9.6"
  },
  "papermill": {
   "default_parameters": {},
   "duration": 41.02264,
   "end_time": "2024-01-09T04:12:11.660945",
   "environment_variables": {},
   "exception": null,
   "input_path": "__notebook__.ipynb",
   "output_path": "__notebook__.ipynb",
   "parameters": {},
   "start_time": "2024-01-09T04:11:30.638305",
   "version": "2.4.0"
  }
 },
 "nbformat": 4,
 "nbformat_minor": 5
}
