{
 "cells": [
  {
   "cell_type": "markdown",
   "id": "346a6c5b",
   "metadata": {
    "papermill": {
     "duration": 0.28587,
     "end_time": "2024-01-09T04:12:03.181161",
     "exception": false,
     "start_time": "2024-01-09T04:12:02.895291",
     "status": "completed"
    },
    "tags": [],
    "id": "346a6c5b"
   },
   "source": [
    "# Обучение модели\n",
    "### [**scikit-learn**](https://scikit-learn.org/stable/auto_examples/index.html)\n",
    "#### [train_test_split](https://scikit-learn.org/stable/modules/generated/sklearn.model_selection.train_test_split.html)"
   ]
  },
  {
   "cell_type": "code",
   "execution_count": 55,
   "id": "d927d35f",
   "metadata": {
    "execution": {
     "iopub.execute_input": "2024-01-09T04:12:03.761354Z",
     "iopub.status.busy": "2024-01-09T04:12:03.760578Z",
     "iopub.status.idle": "2024-01-09T04:12:04.023191Z",
     "shell.execute_reply": "2024-01-09T04:12:04.021987Z"
    },
    "papermill": {
     "duration": 0.554981,
     "end_time": "2024-01-09T04:12:04.026080",
     "exception": false,
     "start_time": "2024-01-09T04:12:03.471099",
     "status": "completed"
    },
    "tags": [],
    "id": "d927d35f",
    "executionInfo": {
     "status": "ok",
     "timestamp": 1706707727293,
     "user_tz": -420,
     "elapsed": 463,
     "user": {
      "displayName": "Artem Malygin",
      "userId": "06576770450014929968"
     }
    },
    "ExecuteTime": {
     "end_time": "2024-01-31T14:48:05.622284700Z",
     "start_time": "2024-01-31T14:48:05.460720900Z"
    }
   },
   "outputs": [],
   "source": [
    "from sklearn.model_selection import train_test_split\n",
    "from feature import Features\n",
    "import pandas as pd\n",
    "import numpy as np"
   ]
  },
  {
   "cell_type": "code",
   "outputs": [],
   "source": [
    "SEED = 42"
   ],
   "metadata": {
    "collapsed": false,
    "ExecuteTime": {
     "end_time": "2024-01-31T14:48:05.650923600Z",
     "start_time": "2024-01-31T14:48:05.634350600Z"
    }
   },
   "id": "70fccdff9789a3c3",
   "execution_count": 56
  },
  {
   "cell_type": "code",
   "outputs": [],
   "source": [
    "df_train = pd.read_csv('train.csv', low_memory=False)"
   ],
   "metadata": {
    "collapsed": false,
    "ExecuteTime": {
     "end_time": "2024-01-31T14:48:10.528538Z",
     "start_time": "2024-01-31T14:48:05.661929100Z"
    }
   },
   "id": "e872b19707dd95ac",
   "execution_count": 57
  },
  {
   "cell_type": "code",
   "outputs": [
    {
     "data": {
      "text/plain": "         Unnamed: 0  applicant_ethnicity  income  applicant_race_1  \\\n0                 0                    2    54.0               5.0   \n1                 1                    2   168.0               5.0   \n2                 2                    2   179.0               5.0   \n3                 3                    2    68.0               5.0   \n4                 4                    3    49.0               5.0   \n...             ...                  ...     ...               ...   \n1107606     1107606                    2   218.0               5.0   \n1107607     1107607                    2    90.0               5.0   \n1107608     1107608                    2   117.0               5.0   \n1107609     1107609                    2    37.0               5.0   \n1107610     1107610                    2    52.0               5.0   \n\n         applicant_race_2  applicant_race_3  applicant_race_4  \\\n0                     NaN               NaN               NaN   \n1                     NaN               NaN               NaN   \n2                     NaN               NaN               NaN   \n3                     NaN               NaN               NaN   \n4                     NaN               NaN               NaN   \n...                   ...               ...               ...   \n1107606               NaN               NaN               NaN   \n1107607               NaN               NaN               NaN   \n1107608               NaN               NaN               NaN   \n1107609               NaN               NaN               NaN   \n1107610               NaN               NaN               NaN   \n\n         applicant_race_5  applicant_sex  co_applicant_ethnicity  ...  \\\n0                     NaN              2                       4  ...   \n1                     NaN              1                       4  ...   \n2                     NaN              1                       2  ...   \n3                     NaN              1                       2  ...   \n4                     NaN              1                       4  ...   \n...                   ...            ...                     ...  ...   \n1107606               NaN              2                       2  ...   \n1107607               NaN              2                       4  ...   \n1107608               NaN              1                       2  ...   \n1107609               NaN              1                       4  ...   \n1107610               NaN              1                       2  ...   \n\n         preapproval  property_type  purchaser_type  hud_median_family_income  \\\n0                  2              3               0                     79500   \n1                  2              3              71                     67500   \n2                  2              3               1                     83200   \n3                  2              3               2                     90400   \n4                  2              3               1                     73500   \n...              ...            ...             ...                       ...   \n1107606            2              3               0                     86100   \n1107607            2              3               0                     82100   \n1107608            2              3               0                     80100   \n1107609            2              3               0                     90300   \n1107610            2              3               0                     76000   \n\n         loan_amount  number_of_1_to_4_family_units  \\\n0           205000.0                           1309   \n1           215000.0                           2919   \n2           505000.0                            826   \n3           235000.0                           1519   \n4           245000.0                           2201   \n...              ...                            ...   \n1107606     255000.0                           1670   \n1107607     335000.0                           2573   \n1107608     225000.0                           3310   \n1107609     215000.0                            922   \n1107610      65000.0                           2694   \n\n         number_of_owner_occupied_units  minority_population  population  \\\n0                                   568                45.83        2878   \n1                                  1296                76.18        6071   \n2                                   594                 7.54        1339   \n3                                   920                22.16        3650   \n4                                  1736                27.89        6797   \n...                                 ...                  ...         ...   \n1107606                            1335                36.88        5019   \n1107607                            1570                57.53        7344   \n1107608                             496                59.35        7565   \n1107609                             358                81.23        5536   \n1107610                            2345                22.82        6031   \n\n         target  \n0          True  \n1          True  \n2          True  \n3          True  \n4          True  \n...         ...  \n1107606   False  \n1107607   False  \n1107608   False  \n1107609   False  \n1107610   False  \n\n[1107611 rows x 29 columns]",
      "text/html": "<div>\n<style scoped>\n    .dataframe tbody tr th:only-of-type {\n        vertical-align: middle;\n    }\n\n    .dataframe tbody tr th {\n        vertical-align: top;\n    }\n\n    .dataframe thead th {\n        text-align: right;\n    }\n</style>\n<table border=\"1\" class=\"dataframe\">\n  <thead>\n    <tr style=\"text-align: right;\">\n      <th></th>\n      <th>Unnamed: 0</th>\n      <th>applicant_ethnicity</th>\n      <th>income</th>\n      <th>applicant_race_1</th>\n      <th>applicant_race_2</th>\n      <th>applicant_race_3</th>\n      <th>applicant_race_4</th>\n      <th>applicant_race_5</th>\n      <th>applicant_sex</th>\n      <th>co_applicant_ethnicity</th>\n      <th>...</th>\n      <th>preapproval</th>\n      <th>property_type</th>\n      <th>purchaser_type</th>\n      <th>hud_median_family_income</th>\n      <th>loan_amount</th>\n      <th>number_of_1_to_4_family_units</th>\n      <th>number_of_owner_occupied_units</th>\n      <th>minority_population</th>\n      <th>population</th>\n      <th>target</th>\n    </tr>\n  </thead>\n  <tbody>\n    <tr>\n      <th>0</th>\n      <td>0</td>\n      <td>2</td>\n      <td>54.0</td>\n      <td>5.0</td>\n      <td>NaN</td>\n      <td>NaN</td>\n      <td>NaN</td>\n      <td>NaN</td>\n      <td>2</td>\n      <td>4</td>\n      <td>...</td>\n      <td>2</td>\n      <td>3</td>\n      <td>0</td>\n      <td>79500</td>\n      <td>205000.0</td>\n      <td>1309</td>\n      <td>568</td>\n      <td>45.83</td>\n      <td>2878</td>\n      <td>True</td>\n    </tr>\n    <tr>\n      <th>1</th>\n      <td>1</td>\n      <td>2</td>\n      <td>168.0</td>\n      <td>5.0</td>\n      <td>NaN</td>\n      <td>NaN</td>\n      <td>NaN</td>\n      <td>NaN</td>\n      <td>1</td>\n      <td>4</td>\n      <td>...</td>\n      <td>2</td>\n      <td>3</td>\n      <td>71</td>\n      <td>67500</td>\n      <td>215000.0</td>\n      <td>2919</td>\n      <td>1296</td>\n      <td>76.18</td>\n      <td>6071</td>\n      <td>True</td>\n    </tr>\n    <tr>\n      <th>2</th>\n      <td>2</td>\n      <td>2</td>\n      <td>179.0</td>\n      <td>5.0</td>\n      <td>NaN</td>\n      <td>NaN</td>\n      <td>NaN</td>\n      <td>NaN</td>\n      <td>1</td>\n      <td>2</td>\n      <td>...</td>\n      <td>2</td>\n      <td>3</td>\n      <td>1</td>\n      <td>83200</td>\n      <td>505000.0</td>\n      <td>826</td>\n      <td>594</td>\n      <td>7.54</td>\n      <td>1339</td>\n      <td>True</td>\n    </tr>\n    <tr>\n      <th>3</th>\n      <td>3</td>\n      <td>2</td>\n      <td>68.0</td>\n      <td>5.0</td>\n      <td>NaN</td>\n      <td>NaN</td>\n      <td>NaN</td>\n      <td>NaN</td>\n      <td>1</td>\n      <td>2</td>\n      <td>...</td>\n      <td>2</td>\n      <td>3</td>\n      <td>2</td>\n      <td>90400</td>\n      <td>235000.0</td>\n      <td>1519</td>\n      <td>920</td>\n      <td>22.16</td>\n      <td>3650</td>\n      <td>True</td>\n    </tr>\n    <tr>\n      <th>4</th>\n      <td>4</td>\n      <td>3</td>\n      <td>49.0</td>\n      <td>5.0</td>\n      <td>NaN</td>\n      <td>NaN</td>\n      <td>NaN</td>\n      <td>NaN</td>\n      <td>1</td>\n      <td>4</td>\n      <td>...</td>\n      <td>2</td>\n      <td>3</td>\n      <td>1</td>\n      <td>73500</td>\n      <td>245000.0</td>\n      <td>2201</td>\n      <td>1736</td>\n      <td>27.89</td>\n      <td>6797</td>\n      <td>True</td>\n    </tr>\n    <tr>\n      <th>...</th>\n      <td>...</td>\n      <td>...</td>\n      <td>...</td>\n      <td>...</td>\n      <td>...</td>\n      <td>...</td>\n      <td>...</td>\n      <td>...</td>\n      <td>...</td>\n      <td>...</td>\n      <td>...</td>\n      <td>...</td>\n      <td>...</td>\n      <td>...</td>\n      <td>...</td>\n      <td>...</td>\n      <td>...</td>\n      <td>...</td>\n      <td>...</td>\n      <td>...</td>\n      <td>...</td>\n    </tr>\n    <tr>\n      <th>1107606</th>\n      <td>1107606</td>\n      <td>2</td>\n      <td>218.0</td>\n      <td>5.0</td>\n      <td>NaN</td>\n      <td>NaN</td>\n      <td>NaN</td>\n      <td>NaN</td>\n      <td>2</td>\n      <td>2</td>\n      <td>...</td>\n      <td>2</td>\n      <td>3</td>\n      <td>0</td>\n      <td>86100</td>\n      <td>255000.0</td>\n      <td>1670</td>\n      <td>1335</td>\n      <td>36.88</td>\n      <td>5019</td>\n      <td>False</td>\n    </tr>\n    <tr>\n      <th>1107607</th>\n      <td>1107607</td>\n      <td>2</td>\n      <td>90.0</td>\n      <td>5.0</td>\n      <td>NaN</td>\n      <td>NaN</td>\n      <td>NaN</td>\n      <td>NaN</td>\n      <td>2</td>\n      <td>4</td>\n      <td>...</td>\n      <td>2</td>\n      <td>3</td>\n      <td>0</td>\n      <td>82100</td>\n      <td>335000.0</td>\n      <td>2573</td>\n      <td>1570</td>\n      <td>57.53</td>\n      <td>7344</td>\n      <td>False</td>\n    </tr>\n    <tr>\n      <th>1107608</th>\n      <td>1107608</td>\n      <td>2</td>\n      <td>117.0</td>\n      <td>5.0</td>\n      <td>NaN</td>\n      <td>NaN</td>\n      <td>NaN</td>\n      <td>NaN</td>\n      <td>1</td>\n      <td>2</td>\n      <td>...</td>\n      <td>2</td>\n      <td>3</td>\n      <td>0</td>\n      <td>80100</td>\n      <td>225000.0</td>\n      <td>3310</td>\n      <td>496</td>\n      <td>59.35</td>\n      <td>7565</td>\n      <td>False</td>\n    </tr>\n    <tr>\n      <th>1107609</th>\n      <td>1107609</td>\n      <td>2</td>\n      <td>37.0</td>\n      <td>5.0</td>\n      <td>NaN</td>\n      <td>NaN</td>\n      <td>NaN</td>\n      <td>NaN</td>\n      <td>1</td>\n      <td>4</td>\n      <td>...</td>\n      <td>2</td>\n      <td>3</td>\n      <td>0</td>\n      <td>90300</td>\n      <td>215000.0</td>\n      <td>922</td>\n      <td>358</td>\n      <td>81.23</td>\n      <td>5536</td>\n      <td>False</td>\n    </tr>\n    <tr>\n      <th>1107610</th>\n      <td>1107610</td>\n      <td>2</td>\n      <td>52.0</td>\n      <td>5.0</td>\n      <td>NaN</td>\n      <td>NaN</td>\n      <td>NaN</td>\n      <td>NaN</td>\n      <td>1</td>\n      <td>2</td>\n      <td>...</td>\n      <td>2</td>\n      <td>3</td>\n      <td>0</td>\n      <td>76000</td>\n      <td>65000.0</td>\n      <td>2694</td>\n      <td>2345</td>\n      <td>22.82</td>\n      <td>6031</td>\n      <td>False</td>\n    </tr>\n  </tbody>\n</table>\n<p>1107611 rows × 29 columns</p>\n</div>"
     },
     "execution_count": 58,
     "metadata": {},
     "output_type": "execute_result"
    }
   ],
   "source": [
    "df_train"
   ],
   "metadata": {
    "collapsed": false,
    "ExecuteTime": {
     "end_time": "2024-01-31T14:48:11.330336Z",
     "start_time": "2024-01-31T14:48:10.546182Z"
    }
   },
   "id": "302f47f394e27570",
   "execution_count": 58
  },
  {
   "cell_type": "code",
   "source": [
    "features = [Features.APPLICANT_ETHNICITY.value, Features.PURCHASER_TYPE.value]"
   ],
   "metadata": {
    "id": "SnxW0gWboTcX",
    "executionInfo": {
     "status": "ok",
     "timestamp": 1706707727965,
     "user_tz": -420,
     "elapsed": 17,
     "user": {
      "displayName": "Artem Malygin",
      "userId": "06576770450014929968"
     }
    },
    "ExecuteTime": {
     "end_time": "2024-01-31T14:48:11.344473900Z",
     "start_time": "2024-01-31T14:48:11.322788600Z"
    }
   },
   "id": "SnxW0gWboTcX",
   "execution_count": 59,
   "outputs": []
  },
  {
   "cell_type": "code",
   "source": [
    "df = df_train[[*features, 'target']].copy()\n",
    "df.head(2)"
   ],
   "metadata": {
    "colab": {
     "base_uri": "https://localhost:8080/",
     "height": 112
    },
    "id": "MmsfUR_GoX6r",
    "executionInfo": {
     "status": "ok",
     "timestamp": 1706707727966,
     "user_tz": -420,
     "elapsed": 16,
     "user": {
      "displayName": "Artem Malygin",
      "userId": "06576770450014929968"
     }
    },
    "outputId": "3836883f-af7c-43c8-e72c-a6218e776e01",
    "ExecuteTime": {
     "end_time": "2024-01-31T14:48:11.561106100Z",
     "start_time": "2024-01-31T14:48:11.336942Z"
    }
   },
   "id": "MmsfUR_GoX6r",
   "execution_count": 60,
   "outputs": [
    {
     "data": {
      "text/plain": "   applicant_ethnicity  purchaser_type  target\n0                    2               0    True\n1                    2              71    True",
      "text/html": "<div>\n<style scoped>\n    .dataframe tbody tr th:only-of-type {\n        vertical-align: middle;\n    }\n\n    .dataframe tbody tr th {\n        vertical-align: top;\n    }\n\n    .dataframe thead th {\n        text-align: right;\n    }\n</style>\n<table border=\"1\" class=\"dataframe\">\n  <thead>\n    <tr style=\"text-align: right;\">\n      <th></th>\n      <th>applicant_ethnicity</th>\n      <th>purchaser_type</th>\n      <th>target</th>\n    </tr>\n  </thead>\n  <tbody>\n    <tr>\n      <th>0</th>\n      <td>2</td>\n      <td>0</td>\n      <td>True</td>\n    </tr>\n    <tr>\n      <th>1</th>\n      <td>2</td>\n      <td>71</td>\n      <td>True</td>\n    </tr>\n  </tbody>\n</table>\n</div>"
     },
     "execution_count": 60,
     "metadata": {},
     "output_type": "execute_result"
    }
   ]
  },
  {
   "cell_type": "code",
   "execution_count": 61,
   "id": "ccbf7f45",
   "metadata": {
    "execution": {
     "iopub.execute_input": "2024-01-09T04:12:04.617651Z",
     "iopub.status.busy": "2024-01-09T04:12:04.617202Z",
     "iopub.status.idle": "2024-01-09T04:12:04.644623Z",
     "shell.execute_reply": "2024-01-09T04:12:04.643639Z"
    },
    "papermill": {
     "duration": 0.330619,
     "end_time": "2024-01-09T04:12:04.648061",
     "exception": false,
     "start_time": "2024-01-09T04:12:04.317442",
     "status": "completed"
    },
    "tags": [],
    "id": "ccbf7f45",
    "executionInfo": {
     "status": "ok",
     "timestamp": 1706707843034,
     "user_tz": -420,
     "elapsed": 287,
     "user": {
      "displayName": "Artem Malygin",
      "userId": "06576770450014929968"
     }
    },
    "ExecuteTime": {
     "end_time": "2024-01-31T14:48:11.664050400Z",
     "start_time": "2024-01-31T14:48:11.424866700Z"
    }
   },
   "outputs": [],
   "source": [
    "X = df[features]\n",
    "y = df.target"
   ]
  },
  {
   "cell_type": "code",
   "execution_count": 62,
   "id": "2f22512f",
   "metadata": {
    "execution": {
     "iopub.execute_input": "2024-01-09T04:12:05.241421Z",
     "iopub.status.busy": "2024-01-09T04:12:05.241004Z",
     "iopub.status.idle": "2024-01-09T04:12:05.283612Z",
     "shell.execute_reply": "2024-01-09T04:12:05.282479Z"
    },
    "papermill": {
     "duration": 0.345744,
     "end_time": "2024-01-09T04:12:05.286275",
     "exception": false,
     "start_time": "2024-01-09T04:12:04.940531",
     "status": "completed"
    },
    "tags": [],
    "id": "2f22512f",
    "executionInfo": {
     "status": "ok",
     "timestamp": 1706707844732,
     "user_tz": -420,
     "elapsed": 419,
     "user": {
      "displayName": "Artem Malygin",
      "userId": "06576770450014929968"
     }
    },
    "ExecuteTime": {
     "end_time": "2024-01-31T14:48:12.127700Z",
     "start_time": "2024-01-31T14:48:11.463221400Z"
    }
   },
   "outputs": [],
   "source": [
    "X_train, X_test, y_train, y_test = train_test_split(X, y, train_size=0.8, random_state=SEED)"
   ]
  },
  {
   "cell_type": "code",
   "execution_count": 63,
   "id": "d465c7a7",
   "metadata": {
    "execution": {
     "iopub.execute_input": "2024-01-09T04:12:05.878918Z",
     "iopub.status.busy": "2024-01-09T04:12:05.878405Z",
     "iopub.status.idle": "2024-01-09T04:12:05.885189Z",
     "shell.execute_reply": "2024-01-09T04:12:05.883738Z"
    },
    "papermill": {
     "duration": 0.302661,
     "end_time": "2024-01-09T04:12:05.888072",
     "exception": false,
     "start_time": "2024-01-09T04:12:05.585411",
     "status": "completed"
    },
    "tags": [],
    "id": "d465c7a7",
    "executionInfo": {
     "status": "ok",
     "timestamp": 1706707845764,
     "user_tz": -420,
     "elapsed": 8,
     "user": {
      "displayName": "Artem Malygin",
      "userId": "06576770450014929968"
     }
    },
    "colab": {
     "base_uri": "https://localhost:8080/"
    },
    "outputId": "af088188-b05f-4ebb-d013-dad60e68aebd",
    "ExecuteTime": {
     "end_time": "2024-01-31T14:48:12.398253400Z",
     "start_time": "2024-01-31T14:48:11.940890300Z"
    }
   },
   "outputs": [
    {
     "name": "stdout",
     "output_type": "stream",
     "text": [
      "Размер тренировочной выборки: 886088\n",
      "Размер тестовой выборки: 221523\n"
     ]
    }
   ],
   "source": [
    "print('Размер тренировочной выборки:', len(X_train))\n",
    "\n",
    "# при частом определении кол-ва строк в датафрейме эффективнее вычислять длину от индекса\n",
    "print('Размер тестовой выборки:', len(X_test.index))"
   ]
  },
  {
   "cell_type": "markdown",
   "id": "9f6b1f76",
   "metadata": {
    "papermill": {
     "duration": 0.289674,
     "end_time": "2024-01-09T04:12:06.465119",
     "exception": false,
     "start_time": "2024-01-09T04:12:06.175445",
     "status": "completed"
    },
    "tags": [],
    "id": "9f6b1f76"
   },
   "source": [
    "#### [LogisticRegression](https://scikit-learn.org/stable/modules/generated/sklearn.linear_model.LogisticRegression.html)"
   ]
  },
  {
   "cell_type": "code",
   "execution_count": 64,
   "id": "650ec92f",
   "metadata": {
    "execution": {
     "iopub.execute_input": "2024-01-09T04:12:07.050881Z",
     "iopub.status.busy": "2024-01-09T04:12:07.049940Z",
     "iopub.status.idle": "2024-01-09T04:12:07.152578Z",
     "shell.execute_reply": "2024-01-09T04:12:07.151617Z"
    },
    "papermill": {
     "duration": 0.400427,
     "end_time": "2024-01-09T04:12:07.155246",
     "exception": false,
     "start_time": "2024-01-09T04:12:06.754819",
     "status": "completed"
    },
    "tags": [],
    "id": "650ec92f",
    "executionInfo": {
     "status": "ok",
     "timestamp": 1706707848072,
     "user_tz": -420,
     "elapsed": 353,
     "user": {
      "displayName": "Artem Malygin",
      "userId": "06576770450014929968"
     }
    },
    "ExecuteTime": {
     "end_time": "2024-01-31T14:48:12.400818Z",
     "start_time": "2024-01-31T14:48:11.953980Z"
    }
   },
   "outputs": [],
   "source": [
    "from sklearn.linear_model import LogisticRegression"
   ]
  },
  {
   "cell_type": "code",
   "execution_count": 65,
   "id": "b19d8015",
   "metadata": {
    "execution": {
     "iopub.execute_input": "2024-01-09T04:12:07.737077Z",
     "iopub.status.busy": "2024-01-09T04:12:07.735130Z",
     "iopub.status.idle": "2024-01-09T04:12:08.404331Z",
     "shell.execute_reply": "2024-01-09T04:12:08.402788Z"
    },
    "papermill": {
     "duration": 0.964335,
     "end_time": "2024-01-09T04:12:08.409197",
     "exception": false,
     "start_time": "2024-01-09T04:12:07.444862",
     "status": "completed"
    },
    "tags": [],
    "id": "b19d8015",
    "executionInfo": {
     "status": "ok",
     "timestamp": 1706707851414,
     "user_tz": -420,
     "elapsed": 2144,
     "user": {
      "displayName": "Artem Malygin",
      "userId": "06576770450014929968"
     }
    },
    "colab": {
     "base_uri": "https://localhost:8080/"
    },
    "outputId": "a44cc017-7cad-46e6-bb92-e7278f2a9147",
    "ExecuteTime": {
     "end_time": "2024-01-31T14:48:13.605695300Z",
     "start_time": "2024-01-31T14:48:11.982399900Z"
    }
   },
   "outputs": [
    {
     "data": {
      "text/plain": "array([0.56044798, 0.42439854, 0.42439854, 0.42439854, 0.56044798,\n       0.42439854, 0.1900346 , 0.99999682, 0.42439854, 0.42439854])"
     },
     "execution_count": 65,
     "metadata": {},
     "output_type": "execute_result"
    }
   ],
   "source": [
    "model = LogisticRegression().fit(X_train, y_train)\n",
    "y_pred = model.predict_proba(X_test)[:, 1]\n",
    "y_pred[:10]"
   ]
  },
  {
   "cell_type": "markdown",
   "id": "0e04391b",
   "metadata": {
    "papermill": {
     "duration": 0.289875,
     "end_time": "2024-01-09T04:12:09.036090",
     "exception": false,
     "start_time": "2024-01-09T04:12:08.746215",
     "status": "completed"
    },
    "tags": [],
    "id": "0e04391b"
   },
   "source": [
    "### [ROC AUC](https://scikit-learn.org/stable/modules/generated/sklearn.metrics.roc_auc_score.html)"
   ]
  },
  {
   "cell_type": "code",
   "execution_count": 66,
   "id": "033f6604",
   "metadata": {
    "execution": {
     "iopub.execute_input": "2024-01-09T04:12:09.641594Z",
     "iopub.status.busy": "2024-01-09T04:12:09.641169Z",
     "iopub.status.idle": "2024-01-09T04:12:09.646698Z",
     "shell.execute_reply": "2024-01-09T04:12:09.645513Z"
    },
    "papermill": {
     "duration": 0.319257,
     "end_time": "2024-01-09T04:12:09.649067",
     "exception": false,
     "start_time": "2024-01-09T04:12:09.329810",
     "status": "completed"
    },
    "tags": [],
    "id": "033f6604",
    "executionInfo": {
     "status": "ok",
     "timestamp": 1706707851416,
     "user_tz": -420,
     "elapsed": 8,
     "user": {
      "displayName": "Artem Malygin",
      "userId": "06576770450014929968"
     }
    },
    "ExecuteTime": {
     "end_time": "2024-01-31T14:48:13.627719900Z",
     "start_time": "2024-01-31T14:48:13.607722400Z"
    }
   },
   "outputs": [],
   "source": [
    "from sklearn.metrics import auc, roc_auc_score, roc_curve\n",
    "import plotly.express as px"
   ]
  },
  {
   "cell_type": "code",
   "execution_count": 67,
   "id": "853c5a2e",
   "metadata": {
    "execution": {
     "iopub.execute_input": "2024-01-09T04:12:10.226683Z",
     "iopub.status.busy": "2024-01-09T04:12:10.225858Z",
     "iopub.status.idle": "2024-01-09T04:12:10.445144Z",
     "shell.execute_reply": "2024-01-09T04:12:10.443940Z"
    },
    "papermill": {
     "duration": 0.511076,
     "end_time": "2024-01-09T04:12:10.448792",
     "exception": false,
     "start_time": "2024-01-09T04:12:09.937716",
     "status": "completed"
    },
    "tags": [],
    "id": "853c5a2e",
    "executionInfo": {
     "status": "ok",
     "timestamp": 1706707851801,
     "user_tz": -420,
     "elapsed": 392,
     "user": {
      "displayName": "Artem Malygin",
      "userId": "06576770450014929968"
     }
    },
    "colab": {
     "base_uri": "https://localhost:8080/",
     "height": 517
    },
    "outputId": "03104297-4850-4ffe-8997-52fdc7800dc6",
    "ExecuteTime": {
     "end_time": "2024-01-31T14:48:13.800982Z",
     "start_time": "2024-01-31T14:48:13.621719200Z"
    }
   },
   "outputs": [
    {
     "data": {
      "application/vnd.plotly.v1+json": {
       "data": [
        {
         "fillpattern": {
          "shape": ""
         },
         "hovertemplate": "False Positive Rate=%{x}<br>True Positive Rate=%{y}<extra></extra>",
         "legendgroup": "",
         "line": {
          "color": "#636efa"
         },
         "marker": {
          "symbol": "circle"
         },
         "mode": "lines",
         "name": "",
         "orientation": "v",
         "showlegend": false,
         "stackgroup": "1",
         "x": [
          0.0,
          0.0,
          0.0,
          0.0,
          2.5571305585625516E-5,
          9.54662075196686E-4,
          0.006980966424875766,
          0.006980966424875766,
          0.006980966424875766,
          0.006989490193404308,
          0.006989490193404308,
          0.007032109036047017,
          0.007117346721332436,
          0.007142918026918061,
          0.007168489332503686,
          0.0072196319436749375,
          0.026346968521722823,
          0.026543015197879286,
          0.026543015197879286,
          0.039592904815076845,
          0.040539043121744986,
          0.041323229826370836,
          0.048150768417732845,
          0.05175632250530605,
          0.8193728211116699,
          0.8233193259403848,
          0.8242825117841099,
          0.8418499987214347,
          0.8903502416488378,
          0.9138673190190847,
          1.0
         ],
         "xaxis": "x",
         "y": [
          0.0,
          5.7579363556101496E-5,
          0.0010652182257878777,
          0.006755978657249242,
          0.09812483206018963,
          0.09967947487620436,
          0.10794211354650493,
          0.10818202756132202,
          0.10822041380369275,
          0.10853710030325131,
          0.10869064527273425,
          0.10961191508963188,
          0.11050439522475144,
          0.13706767494529962,
          0.1381808759740509,
          0.15285401712026409,
          0.17110667536754828,
          0.2177843460903612,
          0.23308126367509885,
          0.37535027446163294,
          0.4981862500479828,
          0.5016026256189782,
          0.6676711066753676,
          0.6682181106291505,
          0.952353076657326,
          0.9556830831829872,
          0.9619304441288242,
          0.9654715749875245,
          0.9683889294077003,
          0.9745979041111665,
          1.0
         ],
         "yaxis": "y",
         "type": "scatter"
        }
       ],
       "layout": {
        "template": {
         "data": {
          "histogram2dcontour": [
           {
            "type": "histogram2dcontour",
            "colorbar": {
             "outlinewidth": 0,
             "ticks": ""
            },
            "colorscale": [
             [
              0.0,
              "#0d0887"
             ],
             [
              0.1111111111111111,
              "#46039f"
             ],
             [
              0.2222222222222222,
              "#7201a8"
             ],
             [
              0.3333333333333333,
              "#9c179e"
             ],
             [
              0.4444444444444444,
              "#bd3786"
             ],
             [
              0.5555555555555556,
              "#d8576b"
             ],
             [
              0.6666666666666666,
              "#ed7953"
             ],
             [
              0.7777777777777778,
              "#fb9f3a"
             ],
             [
              0.8888888888888888,
              "#fdca26"
             ],
             [
              1.0,
              "#f0f921"
             ]
            ]
           }
          ],
          "choropleth": [
           {
            "type": "choropleth",
            "colorbar": {
             "outlinewidth": 0,
             "ticks": ""
            }
           }
          ],
          "histogram2d": [
           {
            "type": "histogram2d",
            "colorbar": {
             "outlinewidth": 0,
             "ticks": ""
            },
            "colorscale": [
             [
              0.0,
              "#0d0887"
             ],
             [
              0.1111111111111111,
              "#46039f"
             ],
             [
              0.2222222222222222,
              "#7201a8"
             ],
             [
              0.3333333333333333,
              "#9c179e"
             ],
             [
              0.4444444444444444,
              "#bd3786"
             ],
             [
              0.5555555555555556,
              "#d8576b"
             ],
             [
              0.6666666666666666,
              "#ed7953"
             ],
             [
              0.7777777777777778,
              "#fb9f3a"
             ],
             [
              0.8888888888888888,
              "#fdca26"
             ],
             [
              1.0,
              "#f0f921"
             ]
            ]
           }
          ],
          "heatmap": [
           {
            "type": "heatmap",
            "colorbar": {
             "outlinewidth": 0,
             "ticks": ""
            },
            "colorscale": [
             [
              0.0,
              "#0d0887"
             ],
             [
              0.1111111111111111,
              "#46039f"
             ],
             [
              0.2222222222222222,
              "#7201a8"
             ],
             [
              0.3333333333333333,
              "#9c179e"
             ],
             [
              0.4444444444444444,
              "#bd3786"
             ],
             [
              0.5555555555555556,
              "#d8576b"
             ],
             [
              0.6666666666666666,
              "#ed7953"
             ],
             [
              0.7777777777777778,
              "#fb9f3a"
             ],
             [
              0.8888888888888888,
              "#fdca26"
             ],
             [
              1.0,
              "#f0f921"
             ]
            ]
           }
          ],
          "heatmapgl": [
           {
            "type": "heatmapgl",
            "colorbar": {
             "outlinewidth": 0,
             "ticks": ""
            },
            "colorscale": [
             [
              0.0,
              "#0d0887"
             ],
             [
              0.1111111111111111,
              "#46039f"
             ],
             [
              0.2222222222222222,
              "#7201a8"
             ],
             [
              0.3333333333333333,
              "#9c179e"
             ],
             [
              0.4444444444444444,
              "#bd3786"
             ],
             [
              0.5555555555555556,
              "#d8576b"
             ],
             [
              0.6666666666666666,
              "#ed7953"
             ],
             [
              0.7777777777777778,
              "#fb9f3a"
             ],
             [
              0.8888888888888888,
              "#fdca26"
             ],
             [
              1.0,
              "#f0f921"
             ]
            ]
           }
          ],
          "contourcarpet": [
           {
            "type": "contourcarpet",
            "colorbar": {
             "outlinewidth": 0,
             "ticks": ""
            }
           }
          ],
          "contour": [
           {
            "type": "contour",
            "colorbar": {
             "outlinewidth": 0,
             "ticks": ""
            },
            "colorscale": [
             [
              0.0,
              "#0d0887"
             ],
             [
              0.1111111111111111,
              "#46039f"
             ],
             [
              0.2222222222222222,
              "#7201a8"
             ],
             [
              0.3333333333333333,
              "#9c179e"
             ],
             [
              0.4444444444444444,
              "#bd3786"
             ],
             [
              0.5555555555555556,
              "#d8576b"
             ],
             [
              0.6666666666666666,
              "#ed7953"
             ],
             [
              0.7777777777777778,
              "#fb9f3a"
             ],
             [
              0.8888888888888888,
              "#fdca26"
             ],
             [
              1.0,
              "#f0f921"
             ]
            ]
           }
          ],
          "surface": [
           {
            "type": "surface",
            "colorbar": {
             "outlinewidth": 0,
             "ticks": ""
            },
            "colorscale": [
             [
              0.0,
              "#0d0887"
             ],
             [
              0.1111111111111111,
              "#46039f"
             ],
             [
              0.2222222222222222,
              "#7201a8"
             ],
             [
              0.3333333333333333,
              "#9c179e"
             ],
             [
              0.4444444444444444,
              "#bd3786"
             ],
             [
              0.5555555555555556,
              "#d8576b"
             ],
             [
              0.6666666666666666,
              "#ed7953"
             ],
             [
              0.7777777777777778,
              "#fb9f3a"
             ],
             [
              0.8888888888888888,
              "#fdca26"
             ],
             [
              1.0,
              "#f0f921"
             ]
            ]
           }
          ],
          "mesh3d": [
           {
            "type": "mesh3d",
            "colorbar": {
             "outlinewidth": 0,
             "ticks": ""
            }
           }
          ],
          "scatter": [
           {
            "marker": {
             "line": {
              "color": "#283442"
             }
            },
            "type": "scatter"
           }
          ],
          "parcoords": [
           {
            "type": "parcoords",
            "line": {
             "colorbar": {
              "outlinewidth": 0,
              "ticks": ""
             }
            }
           }
          ],
          "scatterpolargl": [
           {
            "type": "scatterpolargl",
            "marker": {
             "colorbar": {
              "outlinewidth": 0,
              "ticks": ""
             }
            }
           }
          ],
          "bar": [
           {
            "error_x": {
             "color": "#f2f5fa"
            },
            "error_y": {
             "color": "#f2f5fa"
            },
            "marker": {
             "line": {
              "color": "rgb(17,17,17)",
              "width": 0.5
             },
             "pattern": {
              "fillmode": "overlay",
              "size": 10,
              "solidity": 0.2
             }
            },
            "type": "bar"
           }
          ],
          "scattergeo": [
           {
            "type": "scattergeo",
            "marker": {
             "colorbar": {
              "outlinewidth": 0,
              "ticks": ""
             }
            }
           }
          ],
          "scatterpolar": [
           {
            "type": "scatterpolar",
            "marker": {
             "colorbar": {
              "outlinewidth": 0,
              "ticks": ""
             }
            }
           }
          ],
          "histogram": [
           {
            "marker": {
             "pattern": {
              "fillmode": "overlay",
              "size": 10,
              "solidity": 0.2
             }
            },
            "type": "histogram"
           }
          ],
          "scattergl": [
           {
            "marker": {
             "line": {
              "color": "#283442"
             }
            },
            "type": "scattergl"
           }
          ],
          "scatter3d": [
           {
            "type": "scatter3d",
            "line": {
             "colorbar": {
              "outlinewidth": 0,
              "ticks": ""
             }
            },
            "marker": {
             "colorbar": {
              "outlinewidth": 0,
              "ticks": ""
             }
            }
           }
          ],
          "scattermapbox": [
           {
            "type": "scattermapbox",
            "marker": {
             "colorbar": {
              "outlinewidth": 0,
              "ticks": ""
             }
            }
           }
          ],
          "scatterternary": [
           {
            "type": "scatterternary",
            "marker": {
             "colorbar": {
              "outlinewidth": 0,
              "ticks": ""
             }
            }
           }
          ],
          "scattercarpet": [
           {
            "type": "scattercarpet",
            "marker": {
             "colorbar": {
              "outlinewidth": 0,
              "ticks": ""
             }
            }
           }
          ],
          "carpet": [
           {
            "aaxis": {
             "endlinecolor": "#A2B1C6",
             "gridcolor": "#506784",
             "linecolor": "#506784",
             "minorgridcolor": "#506784",
             "startlinecolor": "#A2B1C6"
            },
            "baxis": {
             "endlinecolor": "#A2B1C6",
             "gridcolor": "#506784",
             "linecolor": "#506784",
             "minorgridcolor": "#506784",
             "startlinecolor": "#A2B1C6"
            },
            "type": "carpet"
           }
          ],
          "table": [
           {
            "cells": {
             "fill": {
              "color": "#506784"
             },
             "line": {
              "color": "rgb(17,17,17)"
             }
            },
            "header": {
             "fill": {
              "color": "#2a3f5f"
             },
             "line": {
              "color": "rgb(17,17,17)"
             }
            },
            "type": "table"
           }
          ],
          "barpolar": [
           {
            "marker": {
             "line": {
              "color": "rgb(17,17,17)",
              "width": 0.5
             },
             "pattern": {
              "fillmode": "overlay",
              "size": 10,
              "solidity": 0.2
             }
            },
            "type": "barpolar"
           }
          ],
          "pie": [
           {
            "automargin": true,
            "type": "pie"
           }
          ]
         },
         "layout": {
          "autotypenumbers": "strict",
          "colorway": [
           "#636efa",
           "#EF553B",
           "#00cc96",
           "#ab63fa",
           "#FFA15A",
           "#19d3f3",
           "#FF6692",
           "#B6E880",
           "#FF97FF",
           "#FECB52"
          ],
          "font": {
           "color": "#f2f5fa"
          },
          "hovermode": "closest",
          "hoverlabel": {
           "align": "left"
          },
          "paper_bgcolor": "rgb(17,17,17)",
          "plot_bgcolor": "rgb(17,17,17)",
          "polar": {
           "bgcolor": "rgb(17,17,17)",
           "angularaxis": {
            "gridcolor": "#506784",
            "linecolor": "#506784",
            "ticks": ""
           },
           "radialaxis": {
            "gridcolor": "#506784",
            "linecolor": "#506784",
            "ticks": ""
           }
          },
          "ternary": {
           "bgcolor": "rgb(17,17,17)",
           "aaxis": {
            "gridcolor": "#506784",
            "linecolor": "#506784",
            "ticks": ""
           },
           "baxis": {
            "gridcolor": "#506784",
            "linecolor": "#506784",
            "ticks": ""
           },
           "caxis": {
            "gridcolor": "#506784",
            "linecolor": "#506784",
            "ticks": ""
           }
          },
          "coloraxis": {
           "colorbar": {
            "outlinewidth": 0,
            "ticks": ""
           }
          },
          "colorscale": {
           "sequential": [
            [
             0.0,
             "#0d0887"
            ],
            [
             0.1111111111111111,
             "#46039f"
            ],
            [
             0.2222222222222222,
             "#7201a8"
            ],
            [
             0.3333333333333333,
             "#9c179e"
            ],
            [
             0.4444444444444444,
             "#bd3786"
            ],
            [
             0.5555555555555556,
             "#d8576b"
            ],
            [
             0.6666666666666666,
             "#ed7953"
            ],
            [
             0.7777777777777778,
             "#fb9f3a"
            ],
            [
             0.8888888888888888,
             "#fdca26"
            ],
            [
             1.0,
             "#f0f921"
            ]
           ],
           "sequentialminus": [
            [
             0.0,
             "#0d0887"
            ],
            [
             0.1111111111111111,
             "#46039f"
            ],
            [
             0.2222222222222222,
             "#7201a8"
            ],
            [
             0.3333333333333333,
             "#9c179e"
            ],
            [
             0.4444444444444444,
             "#bd3786"
            ],
            [
             0.5555555555555556,
             "#d8576b"
            ],
            [
             0.6666666666666666,
             "#ed7953"
            ],
            [
             0.7777777777777778,
             "#fb9f3a"
            ],
            [
             0.8888888888888888,
             "#fdca26"
            ],
            [
             1.0,
             "#f0f921"
            ]
           ],
           "diverging": [
            [
             0,
             "#8e0152"
            ],
            [
             0.1,
             "#c51b7d"
            ],
            [
             0.2,
             "#de77ae"
            ],
            [
             0.3,
             "#f1b6da"
            ],
            [
             0.4,
             "#fde0ef"
            ],
            [
             0.5,
             "#f7f7f7"
            ],
            [
             0.6,
             "#e6f5d0"
            ],
            [
             0.7,
             "#b8e186"
            ],
            [
             0.8,
             "#7fbc41"
            ],
            [
             0.9,
             "#4d9221"
            ],
            [
             1,
             "#276419"
            ]
           ]
          },
          "xaxis": {
           "gridcolor": "#283442",
           "linecolor": "#506784",
           "ticks": "",
           "title": {
            "standoff": 15
           },
           "zerolinecolor": "#283442",
           "automargin": true,
           "zerolinewidth": 2
          },
          "yaxis": {
           "gridcolor": "#283442",
           "linecolor": "#506784",
           "ticks": "",
           "title": {
            "standoff": 15
           },
           "zerolinecolor": "#283442",
           "automargin": true,
           "zerolinewidth": 2
          },
          "scene": {
           "xaxis": {
            "backgroundcolor": "rgb(17,17,17)",
            "gridcolor": "#506784",
            "linecolor": "#506784",
            "showbackground": true,
            "ticks": "",
            "zerolinecolor": "#C8D4E3",
            "gridwidth": 2
           },
           "yaxis": {
            "backgroundcolor": "rgb(17,17,17)",
            "gridcolor": "#506784",
            "linecolor": "#506784",
            "showbackground": true,
            "ticks": "",
            "zerolinecolor": "#C8D4E3",
            "gridwidth": 2
           },
           "zaxis": {
            "backgroundcolor": "rgb(17,17,17)",
            "gridcolor": "#506784",
            "linecolor": "#506784",
            "showbackground": true,
            "ticks": "",
            "zerolinecolor": "#C8D4E3",
            "gridwidth": 2
           }
          },
          "shapedefaults": {
           "line": {
            "color": "#f2f5fa"
           }
          },
          "annotationdefaults": {
           "arrowcolor": "#f2f5fa",
           "arrowhead": 0,
           "arrowwidth": 1
          },
          "geo": {
           "bgcolor": "rgb(17,17,17)",
           "landcolor": "rgb(17,17,17)",
           "subunitcolor": "#506784",
           "showland": true,
           "showlakes": true,
           "lakecolor": "rgb(17,17,17)"
          },
          "title": {
           "x": 0.05
          },
          "updatemenudefaults": {
           "bgcolor": "#506784",
           "borderwidth": 0
          },
          "sliderdefaults": {
           "bgcolor": "#C8D4E3",
           "borderwidth": 1,
           "bordercolor": "rgb(17,17,17)",
           "tickwidth": 0
          },
          "mapbox": {
           "style": "dark"
          }
         }
        },
        "xaxis": {
         "anchor": "y",
         "domain": [
          0.0,
          1.0
         ],
         "title": {
          "text": "False Positive Rate"
         },
         "constrain": "domain"
        },
        "yaxis": {
         "anchor": "x",
         "domain": [
          0.0,
          1.0
         ],
         "title": {
          "text": "True Positive Rate"
         },
         "scaleanchor": "x",
         "scaleratio": 1
        },
        "legend": {
         "tracegroupgap": 0
        },
        "title": {
         "text": "ROC Curve (AUC=0.8134)"
        },
        "height": 500,
        "width": 700,
        "shapes": [
         {
          "line": {
           "dash": "dash"
          },
          "type": "line",
          "x0": 0,
          "x1": 1,
          "y0": 0,
          "y1": 1
         }
        ]
       },
       "config": {
        "plotlyServerURL": "https://plot.ly"
       }
      },
      "text/html": "<div>                            <div id=\"e54273ba-3349-4b95-88a5-02ceda095bd3\" class=\"plotly-graph-div\" style=\"height:500px; width:700px;\"></div>            <script type=\"text/javascript\">                require([\"plotly\"], function(Plotly) {                    window.PLOTLYENV=window.PLOTLYENV || {};                                    if (document.getElementById(\"e54273ba-3349-4b95-88a5-02ceda095bd3\")) {                    Plotly.newPlot(                        \"e54273ba-3349-4b95-88a5-02ceda095bd3\",                        [{\"fillpattern\":{\"shape\":\"\"},\"hovertemplate\":\"False Positive Rate=%{x}<br>True Positive Rate=%{y}<extra></extra>\",\"legendgroup\":\"\",\"line\":{\"color\":\"#636efa\"},\"marker\":{\"symbol\":\"circle\"},\"mode\":\"lines\",\"name\":\"\",\"orientation\":\"v\",\"showlegend\":false,\"stackgroup\":\"1\",\"x\":[0.0,0.0,0.0,0.0,2.5571305585625516e-05,0.000954662075196686,0.006980966424875766,0.006980966424875766,0.006980966424875766,0.006989490193404308,0.006989490193404308,0.007032109036047017,0.007117346721332436,0.007142918026918061,0.007168489332503686,0.0072196319436749375,0.026346968521722823,0.026543015197879286,0.026543015197879286,0.039592904815076845,0.040539043121744986,0.041323229826370836,0.048150768417732845,0.05175632250530605,0.8193728211116699,0.8233193259403848,0.8242825117841099,0.8418499987214347,0.8903502416488378,0.9138673190190847,1.0],\"xaxis\":\"x\",\"y\":[0.0,5.7579363556101496e-05,0.0010652182257878777,0.006755978657249242,0.09812483206018963,0.09967947487620436,0.10794211354650493,0.10818202756132202,0.10822041380369275,0.10853710030325131,0.10869064527273425,0.10961191508963188,0.11050439522475144,0.13706767494529962,0.1381808759740509,0.15285401712026409,0.17110667536754828,0.2177843460903612,0.23308126367509885,0.37535027446163294,0.4981862500479828,0.5016026256189782,0.6676711066753676,0.6682181106291505,0.952353076657326,0.9556830831829872,0.9619304441288242,0.9654715749875245,0.9683889294077003,0.9745979041111665,1.0],\"yaxis\":\"y\",\"type\":\"scatter\"}],                        {\"template\":{\"data\":{\"histogram2dcontour\":[{\"type\":\"histogram2dcontour\",\"colorbar\":{\"outlinewidth\":0,\"ticks\":\"\"},\"colorscale\":[[0.0,\"#0d0887\"],[0.1111111111111111,\"#46039f\"],[0.2222222222222222,\"#7201a8\"],[0.3333333333333333,\"#9c179e\"],[0.4444444444444444,\"#bd3786\"],[0.5555555555555556,\"#d8576b\"],[0.6666666666666666,\"#ed7953\"],[0.7777777777777778,\"#fb9f3a\"],[0.8888888888888888,\"#fdca26\"],[1.0,\"#f0f921\"]]}],\"choropleth\":[{\"type\":\"choropleth\",\"colorbar\":{\"outlinewidth\":0,\"ticks\":\"\"}}],\"histogram2d\":[{\"type\":\"histogram2d\",\"colorbar\":{\"outlinewidth\":0,\"ticks\":\"\"},\"colorscale\":[[0.0,\"#0d0887\"],[0.1111111111111111,\"#46039f\"],[0.2222222222222222,\"#7201a8\"],[0.3333333333333333,\"#9c179e\"],[0.4444444444444444,\"#bd3786\"],[0.5555555555555556,\"#d8576b\"],[0.6666666666666666,\"#ed7953\"],[0.7777777777777778,\"#fb9f3a\"],[0.8888888888888888,\"#fdca26\"],[1.0,\"#f0f921\"]]}],\"heatmap\":[{\"type\":\"heatmap\",\"colorbar\":{\"outlinewidth\":0,\"ticks\":\"\"},\"colorscale\":[[0.0,\"#0d0887\"],[0.1111111111111111,\"#46039f\"],[0.2222222222222222,\"#7201a8\"],[0.3333333333333333,\"#9c179e\"],[0.4444444444444444,\"#bd3786\"],[0.5555555555555556,\"#d8576b\"],[0.6666666666666666,\"#ed7953\"],[0.7777777777777778,\"#fb9f3a\"],[0.8888888888888888,\"#fdca26\"],[1.0,\"#f0f921\"]]}],\"heatmapgl\":[{\"type\":\"heatmapgl\",\"colorbar\":{\"outlinewidth\":0,\"ticks\":\"\"},\"colorscale\":[[0.0,\"#0d0887\"],[0.1111111111111111,\"#46039f\"],[0.2222222222222222,\"#7201a8\"],[0.3333333333333333,\"#9c179e\"],[0.4444444444444444,\"#bd3786\"],[0.5555555555555556,\"#d8576b\"],[0.6666666666666666,\"#ed7953\"],[0.7777777777777778,\"#fb9f3a\"],[0.8888888888888888,\"#fdca26\"],[1.0,\"#f0f921\"]]}],\"contourcarpet\":[{\"type\":\"contourcarpet\",\"colorbar\":{\"outlinewidth\":0,\"ticks\":\"\"}}],\"contour\":[{\"type\":\"contour\",\"colorbar\":{\"outlinewidth\":0,\"ticks\":\"\"},\"colorscale\":[[0.0,\"#0d0887\"],[0.1111111111111111,\"#46039f\"],[0.2222222222222222,\"#7201a8\"],[0.3333333333333333,\"#9c179e\"],[0.4444444444444444,\"#bd3786\"],[0.5555555555555556,\"#d8576b\"],[0.6666666666666666,\"#ed7953\"],[0.7777777777777778,\"#fb9f3a\"],[0.8888888888888888,\"#fdca26\"],[1.0,\"#f0f921\"]]}],\"surface\":[{\"type\":\"surface\",\"colorbar\":{\"outlinewidth\":0,\"ticks\":\"\"},\"colorscale\":[[0.0,\"#0d0887\"],[0.1111111111111111,\"#46039f\"],[0.2222222222222222,\"#7201a8\"],[0.3333333333333333,\"#9c179e\"],[0.4444444444444444,\"#bd3786\"],[0.5555555555555556,\"#d8576b\"],[0.6666666666666666,\"#ed7953\"],[0.7777777777777778,\"#fb9f3a\"],[0.8888888888888888,\"#fdca26\"],[1.0,\"#f0f921\"]]}],\"mesh3d\":[{\"type\":\"mesh3d\",\"colorbar\":{\"outlinewidth\":0,\"ticks\":\"\"}}],\"scatter\":[{\"marker\":{\"line\":{\"color\":\"#283442\"}},\"type\":\"scatter\"}],\"parcoords\":[{\"type\":\"parcoords\",\"line\":{\"colorbar\":{\"outlinewidth\":0,\"ticks\":\"\"}}}],\"scatterpolargl\":[{\"type\":\"scatterpolargl\",\"marker\":{\"colorbar\":{\"outlinewidth\":0,\"ticks\":\"\"}}}],\"bar\":[{\"error_x\":{\"color\":\"#f2f5fa\"},\"error_y\":{\"color\":\"#f2f5fa\"},\"marker\":{\"line\":{\"color\":\"rgb(17,17,17)\",\"width\":0.5},\"pattern\":{\"fillmode\":\"overlay\",\"size\":10,\"solidity\":0.2}},\"type\":\"bar\"}],\"scattergeo\":[{\"type\":\"scattergeo\",\"marker\":{\"colorbar\":{\"outlinewidth\":0,\"ticks\":\"\"}}}],\"scatterpolar\":[{\"type\":\"scatterpolar\",\"marker\":{\"colorbar\":{\"outlinewidth\":0,\"ticks\":\"\"}}}],\"histogram\":[{\"marker\":{\"pattern\":{\"fillmode\":\"overlay\",\"size\":10,\"solidity\":0.2}},\"type\":\"histogram\"}],\"scattergl\":[{\"marker\":{\"line\":{\"color\":\"#283442\"}},\"type\":\"scattergl\"}],\"scatter3d\":[{\"type\":\"scatter3d\",\"line\":{\"colorbar\":{\"outlinewidth\":0,\"ticks\":\"\"}},\"marker\":{\"colorbar\":{\"outlinewidth\":0,\"ticks\":\"\"}}}],\"scattermapbox\":[{\"type\":\"scattermapbox\",\"marker\":{\"colorbar\":{\"outlinewidth\":0,\"ticks\":\"\"}}}],\"scatterternary\":[{\"type\":\"scatterternary\",\"marker\":{\"colorbar\":{\"outlinewidth\":0,\"ticks\":\"\"}}}],\"scattercarpet\":[{\"type\":\"scattercarpet\",\"marker\":{\"colorbar\":{\"outlinewidth\":0,\"ticks\":\"\"}}}],\"carpet\":[{\"aaxis\":{\"endlinecolor\":\"#A2B1C6\",\"gridcolor\":\"#506784\",\"linecolor\":\"#506784\",\"minorgridcolor\":\"#506784\",\"startlinecolor\":\"#A2B1C6\"},\"baxis\":{\"endlinecolor\":\"#A2B1C6\",\"gridcolor\":\"#506784\",\"linecolor\":\"#506784\",\"minorgridcolor\":\"#506784\",\"startlinecolor\":\"#A2B1C6\"},\"type\":\"carpet\"}],\"table\":[{\"cells\":{\"fill\":{\"color\":\"#506784\"},\"line\":{\"color\":\"rgb(17,17,17)\"}},\"header\":{\"fill\":{\"color\":\"#2a3f5f\"},\"line\":{\"color\":\"rgb(17,17,17)\"}},\"type\":\"table\"}],\"barpolar\":[{\"marker\":{\"line\":{\"color\":\"rgb(17,17,17)\",\"width\":0.5},\"pattern\":{\"fillmode\":\"overlay\",\"size\":10,\"solidity\":0.2}},\"type\":\"barpolar\"}],\"pie\":[{\"automargin\":true,\"type\":\"pie\"}]},\"layout\":{\"autotypenumbers\":\"strict\",\"colorway\":[\"#636efa\",\"#EF553B\",\"#00cc96\",\"#ab63fa\",\"#FFA15A\",\"#19d3f3\",\"#FF6692\",\"#B6E880\",\"#FF97FF\",\"#FECB52\"],\"font\":{\"color\":\"#f2f5fa\"},\"hovermode\":\"closest\",\"hoverlabel\":{\"align\":\"left\"},\"paper_bgcolor\":\"rgb(17,17,17)\",\"plot_bgcolor\":\"rgb(17,17,17)\",\"polar\":{\"bgcolor\":\"rgb(17,17,17)\",\"angularaxis\":{\"gridcolor\":\"#506784\",\"linecolor\":\"#506784\",\"ticks\":\"\"},\"radialaxis\":{\"gridcolor\":\"#506784\",\"linecolor\":\"#506784\",\"ticks\":\"\"}},\"ternary\":{\"bgcolor\":\"rgb(17,17,17)\",\"aaxis\":{\"gridcolor\":\"#506784\",\"linecolor\":\"#506784\",\"ticks\":\"\"},\"baxis\":{\"gridcolor\":\"#506784\",\"linecolor\":\"#506784\",\"ticks\":\"\"},\"caxis\":{\"gridcolor\":\"#506784\",\"linecolor\":\"#506784\",\"ticks\":\"\"}},\"coloraxis\":{\"colorbar\":{\"outlinewidth\":0,\"ticks\":\"\"}},\"colorscale\":{\"sequential\":[[0.0,\"#0d0887\"],[0.1111111111111111,\"#46039f\"],[0.2222222222222222,\"#7201a8\"],[0.3333333333333333,\"#9c179e\"],[0.4444444444444444,\"#bd3786\"],[0.5555555555555556,\"#d8576b\"],[0.6666666666666666,\"#ed7953\"],[0.7777777777777778,\"#fb9f3a\"],[0.8888888888888888,\"#fdca26\"],[1.0,\"#f0f921\"]],\"sequentialminus\":[[0.0,\"#0d0887\"],[0.1111111111111111,\"#46039f\"],[0.2222222222222222,\"#7201a8\"],[0.3333333333333333,\"#9c179e\"],[0.4444444444444444,\"#bd3786\"],[0.5555555555555556,\"#d8576b\"],[0.6666666666666666,\"#ed7953\"],[0.7777777777777778,\"#fb9f3a\"],[0.8888888888888888,\"#fdca26\"],[1.0,\"#f0f921\"]],\"diverging\":[[0,\"#8e0152\"],[0.1,\"#c51b7d\"],[0.2,\"#de77ae\"],[0.3,\"#f1b6da\"],[0.4,\"#fde0ef\"],[0.5,\"#f7f7f7\"],[0.6,\"#e6f5d0\"],[0.7,\"#b8e186\"],[0.8,\"#7fbc41\"],[0.9,\"#4d9221\"],[1,\"#276419\"]]},\"xaxis\":{\"gridcolor\":\"#283442\",\"linecolor\":\"#506784\",\"ticks\":\"\",\"title\":{\"standoff\":15},\"zerolinecolor\":\"#283442\",\"automargin\":true,\"zerolinewidth\":2},\"yaxis\":{\"gridcolor\":\"#283442\",\"linecolor\":\"#506784\",\"ticks\":\"\",\"title\":{\"standoff\":15},\"zerolinecolor\":\"#283442\",\"automargin\":true,\"zerolinewidth\":2},\"scene\":{\"xaxis\":{\"backgroundcolor\":\"rgb(17,17,17)\",\"gridcolor\":\"#506784\",\"linecolor\":\"#506784\",\"showbackground\":true,\"ticks\":\"\",\"zerolinecolor\":\"#C8D4E3\",\"gridwidth\":2},\"yaxis\":{\"backgroundcolor\":\"rgb(17,17,17)\",\"gridcolor\":\"#506784\",\"linecolor\":\"#506784\",\"showbackground\":true,\"ticks\":\"\",\"zerolinecolor\":\"#C8D4E3\",\"gridwidth\":2},\"zaxis\":{\"backgroundcolor\":\"rgb(17,17,17)\",\"gridcolor\":\"#506784\",\"linecolor\":\"#506784\",\"showbackground\":true,\"ticks\":\"\",\"zerolinecolor\":\"#C8D4E3\",\"gridwidth\":2}},\"shapedefaults\":{\"line\":{\"color\":\"#f2f5fa\"}},\"annotationdefaults\":{\"arrowcolor\":\"#f2f5fa\",\"arrowhead\":0,\"arrowwidth\":1},\"geo\":{\"bgcolor\":\"rgb(17,17,17)\",\"landcolor\":\"rgb(17,17,17)\",\"subunitcolor\":\"#506784\",\"showland\":true,\"showlakes\":true,\"lakecolor\":\"rgb(17,17,17)\"},\"title\":{\"x\":0.05},\"updatemenudefaults\":{\"bgcolor\":\"#506784\",\"borderwidth\":0},\"sliderdefaults\":{\"bgcolor\":\"#C8D4E3\",\"borderwidth\":1,\"bordercolor\":\"rgb(17,17,17)\",\"tickwidth\":0},\"mapbox\":{\"style\":\"dark\"}}},\"xaxis\":{\"anchor\":\"y\",\"domain\":[0.0,1.0],\"title\":{\"text\":\"False Positive Rate\"},\"constrain\":\"domain\"},\"yaxis\":{\"anchor\":\"x\",\"domain\":[0.0,1.0],\"title\":{\"text\":\"True Positive Rate\"},\"scaleanchor\":\"x\",\"scaleratio\":1},\"legend\":{\"tracegroupgap\":0},\"title\":{\"text\":\"ROC Curve (AUC=0.8134)\"},\"height\":500,\"width\":700,\"shapes\":[{\"line\":{\"dash\":\"dash\"},\"type\":\"line\",\"x0\":0,\"x1\":1,\"y0\":0,\"y1\":1}]},                        {\"responsive\": true}                    ).then(function(){\n                            \nvar gd = document.getElementById('e54273ba-3349-4b95-88a5-02ceda095bd3');\nvar x = new MutationObserver(function (mutations, observer) {{\n        var display = window.getComputedStyle(gd).display;\n        if (!display || display === 'none') {{\n            console.log([gd, 'removed!']);\n            Plotly.purge(gd);\n            observer.disconnect();\n        }}\n}});\n\n// Listen for the removal of the full notebook cells\nvar notebookContainer = gd.closest('#notebook-container');\nif (notebookContainer) {{\n    x.observe(notebookContainer, {childList: true});\n}}\n\n// Listen for the clearing of the current output cell\nvar outputEl = gd.closest('.output');\nif (outputEl) {{\n    x.observe(outputEl, {childList: true});\n}}\n\n                        })                };                });            </script>        </div>"
     },
     "metadata": {},
     "output_type": "display_data"
    }
   ],
   "source": [
    "fpr, tpr, _ = roc_curve(y_test, y_pred)\n",
    "# False Positive Rate - доля ложно положительных ответов\n",
    "# True Positive Rate - доля истинно положительных ответов\n",
    "\n",
    "# закрашенная область\n",
    "fig = px.area(\n",
    "    x=fpr,  # значения оси x\n",
    "    y=tpr,  # значения оси y\n",
    "    title=f'ROC Curve (AUC={auc(fpr, tpr):.4f})',  # название графика\n",
    "    labels=dict(x='False Positive Rate', y='True Positive Rate'),  # названия осей\n",
    "    width=700,  # ширина\n",
    "    height=500,  # высота\n",
    ")\n",
    "\n",
    "# пунктирная линия\n",
    "fig.add_shape(\n",
    "    type='line',  # тип объекта\n",
    "    line=dict(dash='dash'),  # характеристики линии\n",
    "    x0=0, x1=1, y0=0, y1=1,  # координаты - откуда и куда рисовать\n",
    ")\n",
    "\n",
    "# https://plotly.com/python/axes/#fixed-ratio-axes\n",
    "fig.update_yaxes(scaleanchor='x', scaleratio=1)\n",
    "fig.update_xaxes(constrain='domain')\n",
    "\n",
    "fig.show()"
   ]
  },
  {
   "cell_type": "markdown",
   "source": [
    "## Прогноз"
   ],
   "metadata": {
    "id": "Lm3LNK2wSiPJ"
   },
   "id": "Lm3LNK2wSiPJ"
  },
  {
   "cell_type": "code",
   "source": [
    "df_test = pd.read_csv('test.csv', index_col=0)\n",
    "df_test.head(2)"
   ],
   "metadata": {
    "id": "iF6dU2xsSh0u",
    "executionInfo": {
     "status": "ok",
     "timestamp": 1706707856155,
     "user_tz": -420,
     "elapsed": 1482,
     "user": {
      "displayName": "Artem Malygin",
      "userId": "06576770450014929968"
     }
    },
    "colab": {
     "base_uri": "https://localhost:8080/",
     "height": 161
    },
    "outputId": "4cb61abe-13d1-4576-ceec-42de32584fea",
    "ExecuteTime": {
     "end_time": "2024-01-31T14:50:10.380011Z",
     "start_time": "2024-01-31T14:50:09.619832800Z"
    }
   },
   "id": "iF6dU2xsSh0u",
   "execution_count": 69,
   "outputs": [
    {
     "data": {
      "text/plain": "   applicant_ethnicity  income  applicant_race_1  applicant_race_2  \\\n0                    2    90.0               5.0               NaN   \n1                    2    77.0               5.0               NaN   \n\n   applicant_race_3  applicant_race_4  applicant_race_5  applicant_sex  \\\n0               NaN               NaN               NaN              2   \n1               NaN               NaN               NaN              2   \n\n   co_applicant_ethnicity  co_applicant_race_1  ...  msamd  preapproval  \\\n0                       4                  8.0  ...  33124            2   \n1                       2                  5.0  ...  39460            2   \n\n   property_type  purchaser_type  hud_median_family_income  loan_amount  \\\n0              3               0                     68300      55000.0   \n1              3               0                     76000      15000.0   \n\n   number_of_1_to_4_family_units  number_of_owner_occupied_units  \\\n0                            889                             866   \n1                           2428                            1828   \n\n   minority_population  population  \n0                94.42        3282  \n1                19.71        6031  \n\n[2 rows x 27 columns]",
      "text/html": "<div>\n<style scoped>\n    .dataframe tbody tr th:only-of-type {\n        vertical-align: middle;\n    }\n\n    .dataframe tbody tr th {\n        vertical-align: top;\n    }\n\n    .dataframe thead th {\n        text-align: right;\n    }\n</style>\n<table border=\"1\" class=\"dataframe\">\n  <thead>\n    <tr style=\"text-align: right;\">\n      <th></th>\n      <th>applicant_ethnicity</th>\n      <th>income</th>\n      <th>applicant_race_1</th>\n      <th>applicant_race_2</th>\n      <th>applicant_race_3</th>\n      <th>applicant_race_4</th>\n      <th>applicant_race_5</th>\n      <th>applicant_sex</th>\n      <th>co_applicant_ethnicity</th>\n      <th>co_applicant_race_1</th>\n      <th>...</th>\n      <th>msamd</th>\n      <th>preapproval</th>\n      <th>property_type</th>\n      <th>purchaser_type</th>\n      <th>hud_median_family_income</th>\n      <th>loan_amount</th>\n      <th>number_of_1_to_4_family_units</th>\n      <th>number_of_owner_occupied_units</th>\n      <th>minority_population</th>\n      <th>population</th>\n    </tr>\n  </thead>\n  <tbody>\n    <tr>\n      <th>0</th>\n      <td>2</td>\n      <td>90.0</td>\n      <td>5.0</td>\n      <td>NaN</td>\n      <td>NaN</td>\n      <td>NaN</td>\n      <td>NaN</td>\n      <td>2</td>\n      <td>4</td>\n      <td>8.0</td>\n      <td>...</td>\n      <td>33124</td>\n      <td>2</td>\n      <td>3</td>\n      <td>0</td>\n      <td>68300</td>\n      <td>55000.0</td>\n      <td>889</td>\n      <td>866</td>\n      <td>94.42</td>\n      <td>3282</td>\n    </tr>\n    <tr>\n      <th>1</th>\n      <td>2</td>\n      <td>77.0</td>\n      <td>5.0</td>\n      <td>NaN</td>\n      <td>NaN</td>\n      <td>NaN</td>\n      <td>NaN</td>\n      <td>2</td>\n      <td>2</td>\n      <td>5.0</td>\n      <td>...</td>\n      <td>39460</td>\n      <td>2</td>\n      <td>3</td>\n      <td>0</td>\n      <td>76000</td>\n      <td>15000.0</td>\n      <td>2428</td>\n      <td>1828</td>\n      <td>19.71</td>\n      <td>6031</td>\n    </tr>\n  </tbody>\n</table>\n<p>2 rows × 27 columns</p>\n</div>"
     },
     "execution_count": 69,
     "metadata": {},
     "output_type": "execute_result"
    }
   ]
  },
  {
   "cell_type": "code",
   "source": [
    "df_test[features].count()"
   ],
   "metadata": {
    "id": "tdP3YSdlnqHw",
    "executionInfo": {
     "status": "ok",
     "timestamp": 1706707859551,
     "user_tz": -420,
     "elapsed": 482,
     "user": {
      "displayName": "Artem Malygin",
      "userId": "06576770450014929968"
     }
    },
    "colab": {
     "base_uri": "https://localhost:8080/"
    },
    "outputId": "39578a50-207f-44df-ab00-e24bc0347227",
    "ExecuteTime": {
     "end_time": "2024-01-31T14:50:39.048836100Z",
     "start_time": "2024-01-31T14:50:39.014649700Z"
    }
   },
   "id": "tdP3YSdlnqHw",
   "execution_count": 70,
   "outputs": [
    {
     "data": {
      "text/plain": "applicant_ethnicity    276903\npurchaser_type         276903\ndtype: int64"
     },
     "execution_count": 70,
     "metadata": {},
     "output_type": "execute_result"
    }
   ]
  },
  {
   "cell_type": "code",
   "source": [
    "df_test.shape"
   ],
   "metadata": {
    "id": "CSaF9_Uz6Yau",
    "executionInfo": {
     "status": "ok",
     "timestamp": 1706707862370,
     "user_tz": -420,
     "elapsed": 352,
     "user": {
      "displayName": "Artem Malygin",
      "userId": "06576770450014929968"
     }
    },
    "colab": {
     "base_uri": "https://localhost:8080/"
    },
    "outputId": "c3f860e3-4aab-4667-ca71-eda07c0694cb",
    "ExecuteTime": {
     "end_time": "2024-01-31T14:50:43.684689200Z",
     "start_time": "2024-01-31T14:50:43.645633Z"
    }
   },
   "id": "CSaF9_Uz6Yau",
   "execution_count": 71,
   "outputs": [
    {
     "data": {
      "text/plain": "(276903, 27)"
     },
     "execution_count": 71,
     "metadata": {},
     "output_type": "execute_result"
    }
   ]
  },
  {
   "cell_type": "code",
   "source": [
    "df_test['target'] = model.predict_proba(df_test[features])[:, 1]\n",
    "df_test.target.head(2)"
   ],
   "metadata": {
    "id": "bvOfiSKBS3OZ",
    "executionInfo": {
     "status": "ok",
     "timestamp": 1706707863869,
     "user_tz": -420,
     "elapsed": 288,
     "user": {
      "displayName": "Artem Malygin",
      "userId": "06576770450014929968"
     }
    },
    "colab": {
     "base_uri": "https://localhost:8080/"
    },
    "outputId": "4136405e-144f-4ddd-81db-2a6fb9bcc5a1",
    "ExecuteTime": {
     "end_time": "2024-01-31T14:51:36.014262900Z",
     "start_time": "2024-01-31T14:51:35.974088800Z"
    }
   },
   "id": "bvOfiSKBS3OZ",
   "execution_count": 73,
   "outputs": [
    {
     "data": {
      "text/plain": "0    0.424399\n1    0.424399\nName: target, dtype: float64"
     },
     "execution_count": 73,
     "metadata": {},
     "output_type": "execute_result"
    }
   ]
  },
  {
   "cell_type": "code",
   "source": [
    "df_test.target.to_csv('submission.csv')"
   ],
   "metadata": {
    "id": "fLjvGHynnDms",
    "executionInfo": {
     "status": "ok",
     "timestamp": 1706707867975,
     "user_tz": -420,
     "elapsed": 1540,
     "user": {
      "displayName": "Artem Malygin",
      "userId": "06576770450014929968"
     }
    },
    "ExecuteTime": {
     "start_time": "2024-01-31T14:48:15.441996700Z"
    }
   },
   "id": "fLjvGHynnDms",
   "execution_count": null,
   "outputs": []
  },
  {
   "cell_type": "code",
   "source": [
    "!zip submission.zip submission.csv"
   ],
   "metadata": {
    "id": "Y3dvKja7rMSQ",
    "executionInfo": {
     "status": "ok",
     "timestamp": 1706707870533,
     "user_tz": -420,
     "elapsed": 1258,
     "user": {
      "displayName": "Artem Malygin",
      "userId": "06576770450014929968"
     }
    },
    "colab": {
     "base_uri": "https://localhost:8080/"
    },
    "outputId": "86f20d21-e15b-465f-9e31-decfbe6a1cd5",
    "ExecuteTime": {
     "start_time": "2024-01-31T14:48:15.445512200Z"
    }
   },
   "id": "Y3dvKja7rMSQ",
   "execution_count": null,
   "outputs": []
  }
 ],
 "metadata": {
  "kaggle": {
   "accelerator": "none",
   "dataSources": [
    {
     "datasetId": 1996,
     "sourceId": 3419,
     "sourceType": "datasetVersion"
    }
   ],
   "dockerImageVersionId": 30626,
   "isGpuEnabled": false,
   "isInternetEnabled": true,
   "language": "python",
   "sourceType": "notebook"
  },
  "kernelspec": {
   "display_name": "Python 3",
   "language": "python",
   "name": "python3"
  },
  "language_info": {
   "codemirror_mode": {
    "name": "ipython",
    "version": 3
   },
   "file_extension": ".py",
   "mimetype": "text/x-python",
   "name": "python",
   "nbconvert_exporter": "python",
   "pygments_lexer": "ipython3",
   "version": "3.10.12"
  },
  "papermill": {
   "default_parameters": {},
   "duration": 41.02264,
   "end_time": "2024-01-09T04:12:11.660945",
   "environment_variables": {},
   "exception": null,
   "input_path": "__notebook__.ipynb",
   "output_path": "__notebook__.ipynb",
   "parameters": {},
   "start_time": "2024-01-09T04:11:30.638305",
   "version": "2.4.0"
  },
  "colab": {
   "provenance": []
  }
 },
 "nbformat": 4,
 "nbformat_minor": 5
}
