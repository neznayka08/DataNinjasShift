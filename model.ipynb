{
 "cells": [
  {
   "cell_type": "markdown",
   "id": "346a6c5b",
   "metadata": {
    "id": "346a6c5b",
    "papermill": {
     "duration": 0.28587,
     "end_time": "2024-01-09T04:12:03.181161",
     "exception": false,
     "start_time": "2024-01-09T04:12:02.895291",
     "status": "completed"
    },
    "tags": []
   },
   "source": [
    "# Обучение модели\n",
    "### [**scikit-learn**](https://scikit-learn.org/stable/auto_examples/index.html)\n",
    "#### [train_test_split](https://scikit-learn.org/stable/modules/generated/sklearn.model_selection.train_test_split.html)"
   ]
  },
  {
   "cell_type": "code",
   "outputs": [],
   "source": [
    "import pandas as pd\n",
    "import numpy as np"
   ],
   "metadata": {
    "collapsed": false,
    "ExecuteTime": {
     "end_time": "2024-02-02T16:11:46.181216800Z",
     "start_time": "2024-02-02T16:11:45.997314100Z"
    }
   },
   "id": "b676dfde3fe972c",
   "execution_count": 74
  },
  {
   "cell_type": "code",
   "outputs": [],
   "source": [
    "df_train = pd.read_csv('post_train.csv', low_memory=False)"
   ],
   "metadata": {
    "collapsed": false,
    "ExecuteTime": {
     "end_time": "2024-02-02T16:11:48.945329200Z",
     "start_time": "2024-02-02T16:11:46.187602300Z"
    }
   },
   "id": "f5781e9ca1ef79d3",
   "execution_count": 75
  },
  {
   "cell_type": "code",
   "execution_count": 76,
   "id": "d927d35f",
   "metadata": {
    "execution": {
     "iopub.execute_input": "2024-01-09T04:12:03.761354Z",
     "iopub.status.busy": "2024-01-09T04:12:03.760578Z",
     "iopub.status.idle": "2024-01-09T04:12:04.023191Z",
     "shell.execute_reply": "2024-01-09T04:12:04.021987Z"
    },
    "executionInfo": {
     "elapsed": 463,
     "status": "ok",
     "timestamp": 1706707727293,
     "user": {
      "displayName": "Artem Malygin",
      "userId": "06576770450014929968"
     },
     "user_tz": -420
    },
    "id": "d927d35f",
    "papermill": {
     "duration": 0.554981,
     "end_time": "2024-01-09T04:12:04.026080",
     "exception": false,
     "start_time": "2024-01-09T04:12:03.471099",
     "status": "completed"
    },
    "tags": [],
    "ExecuteTime": {
     "end_time": "2024-02-02T16:11:48.960413300Z",
     "start_time": "2024-02-02T16:11:48.950315Z"
    }
   },
   "outputs": [],
   "source": [
    "from sklearn.model_selection import train_test_split"
   ]
  },
  {
   "cell_type": "code",
   "execution_count": 77,
   "id": "SnxW0gWboTcX",
   "metadata": {
    "executionInfo": {
     "elapsed": 17,
     "status": "ok",
     "timestamp": 1706707727965,
     "user": {
      "displayName": "Artem Malygin",
      "userId": "06576770450014929968"
     },
     "user_tz": -420
    },
    "id": "SnxW0gWboTcX",
    "ExecuteTime": {
     "end_time": "2024-02-02T16:11:48.989820900Z",
     "start_time": "2024-02-02T16:11:48.965504300Z"
    }
   },
   "outputs": [],
   "source": [
    "#features = ['msamd','property_type','purchaser_type','hud_median_family_income','population','applicant_ethnicity','co_applicant_ethnicity','income','co_applicant','5']\n",
    "features  =  df_train.columns.drop('target')"
   ]
  },
  {
   "cell_type": "code",
   "execution_count": 78,
   "id": "MmsfUR_GoX6r",
   "metadata": {
    "colab": {
     "base_uri": "https://localhost:8080/",
     "height": 112
    },
    "executionInfo": {
     "elapsed": 16,
     "status": "ok",
     "timestamp": 1706707727966,
     "user": {
      "displayName": "Artem Malygin",
      "userId": "06576770450014929968"
     },
     "user_tz": -420
    },
    "id": "MmsfUR_GoX6r",
    "outputId": "3836883f-af7c-43c8-e72c-a6218e776e01",
    "ExecuteTime": {
     "end_time": "2024-02-02T16:11:49.226348300Z",
     "start_time": "2024-02-02T16:11:48.980070100Z"
    }
   },
   "outputs": [
    {
     "data": {
      "text/plain": "   Unnamed: 0  applicant_ethnicity  income  applicant_race_1  \\\n0           0                    2    54.0               5.0   \n1           1                    2   168.0               5.0   \n\n   applicant_race_2  applicant_race_3  applicant_race_4  applicant_race_5  \\\n0               0.0               0.0               0.0               0.0   \n1               0.0               0.0               0.0               0.0   \n\n   applicant_sex  co_applicant_ethnicity  ...  hud_median_family_income  \\\n0              2                       4  ...                     79500   \n1              1                       4  ...                     67500   \n\n   loan_amount  number_of_1_to_4_family_units  number_of_owner_occupied_units  \\\n0     205000.0                           1309                             568   \n1     215000.0                           2919                            1296   \n\n   minority_population  population  5  4  co_applicant  target  \n0                45.83        2878  1  1             1       1  \n1                76.18        6071  1  1             1       1  \n\n[2 rows x 32 columns]",
      "text/html": "<div>\n<style scoped>\n    .dataframe tbody tr th:only-of-type {\n        vertical-align: middle;\n    }\n\n    .dataframe tbody tr th {\n        vertical-align: top;\n    }\n\n    .dataframe thead th {\n        text-align: right;\n    }\n</style>\n<table border=\"1\" class=\"dataframe\">\n  <thead>\n    <tr style=\"text-align: right;\">\n      <th></th>\n      <th>Unnamed: 0</th>\n      <th>applicant_ethnicity</th>\n      <th>income</th>\n      <th>applicant_race_1</th>\n      <th>applicant_race_2</th>\n      <th>applicant_race_3</th>\n      <th>applicant_race_4</th>\n      <th>applicant_race_5</th>\n      <th>applicant_sex</th>\n      <th>co_applicant_ethnicity</th>\n      <th>...</th>\n      <th>hud_median_family_income</th>\n      <th>loan_amount</th>\n      <th>number_of_1_to_4_family_units</th>\n      <th>number_of_owner_occupied_units</th>\n      <th>minority_population</th>\n      <th>population</th>\n      <th>5</th>\n      <th>4</th>\n      <th>co_applicant</th>\n      <th>target</th>\n    </tr>\n  </thead>\n  <tbody>\n    <tr>\n      <th>0</th>\n      <td>0</td>\n      <td>2</td>\n      <td>54.0</td>\n      <td>5.0</td>\n      <td>0.0</td>\n      <td>0.0</td>\n      <td>0.0</td>\n      <td>0.0</td>\n      <td>2</td>\n      <td>4</td>\n      <td>...</td>\n      <td>79500</td>\n      <td>205000.0</td>\n      <td>1309</td>\n      <td>568</td>\n      <td>45.83</td>\n      <td>2878</td>\n      <td>1</td>\n      <td>1</td>\n      <td>1</td>\n      <td>1</td>\n    </tr>\n    <tr>\n      <th>1</th>\n      <td>1</td>\n      <td>2</td>\n      <td>168.0</td>\n      <td>5.0</td>\n      <td>0.0</td>\n      <td>0.0</td>\n      <td>0.0</td>\n      <td>0.0</td>\n      <td>1</td>\n      <td>4</td>\n      <td>...</td>\n      <td>67500</td>\n      <td>215000.0</td>\n      <td>2919</td>\n      <td>1296</td>\n      <td>76.18</td>\n      <td>6071</td>\n      <td>1</td>\n      <td>1</td>\n      <td>1</td>\n      <td>1</td>\n    </tr>\n  </tbody>\n</table>\n<p>2 rows × 32 columns</p>\n</div>"
     },
     "execution_count": 78,
     "metadata": {},
     "output_type": "execute_result"
    }
   ],
   "source": [
    "df_notna = df_train[[*features, 'target']].copy()\n",
    "df_notna.head(2)"
   ]
  },
  {
   "cell_type": "code",
   "execution_count": 79,
   "id": "EfUX4DwJUeBo",
   "metadata": {
    "colab": {
     "base_uri": "https://localhost:8080/"
    },
    "executionInfo": {
     "elapsed": 7,
     "status": "ok",
     "timestamp": 1706707728710,
     "user": {
      "displayName": "Artem Malygin",
      "userId": "06576770450014929968"
     },
     "user_tz": -420
    },
    "id": "EfUX4DwJUeBo",
    "outputId": "0a3a99a2-0a98-46ba-acc6-58250d77d7a9",
    "ExecuteTime": {
     "end_time": "2024-02-02T16:11:49.260765100Z",
     "start_time": "2024-02-02T16:11:49.230349400Z"
    }
   },
   "outputs": [
    {
     "data": {
      "text/plain": "-6296.0"
     },
     "execution_count": 79,
     "metadata": {},
     "output_type": "execute_result"
    }
   ],
   "source": [
    "df_notna.income.min()"
   ]
  },
  {
   "cell_type": "code",
   "execution_count": 80,
   "id": "dwbm1rOsSxRA",
   "metadata": {
    "executionInfo": {
     "elapsed": 588,
     "status": "ok",
     "timestamp": 1706707834718,
     "user": {
      "displayName": "Artem Malygin",
      "userId": "06576770450014929968"
     },
     "user_tz": -420
    },
    "id": "dwbm1rOsSxRA",
    "ExecuteTime": {
     "end_time": "2024-02-02T16:11:49.307937Z",
     "start_time": "2024-02-02T16:11:49.246715900Z"
    }
   },
   "outputs": [],
   "source": [
    "df_notna.income.replace(-np.inf, 0, inplace=True)"
   ]
  },
  {
   "cell_type": "code",
   "execution_count": 81,
   "id": "JfXhKMSnVTUP",
   "metadata": {
    "colab": {
     "base_uri": "https://localhost:8080/"
    },
    "executionInfo": {
     "elapsed": 323,
     "status": "ok",
     "timestamp": 1706707837203,
     "user": {
      "displayName": "Artem Malygin",
      "userId": "06576770450014929968"
     },
     "user_tz": -420
    },
    "id": "JfXhKMSnVTUP",
    "outputId": "e0825302-193c-4125-d91e-e691a10c6f29",
    "ExecuteTime": {
     "end_time": "2024-02-02T16:11:49.521492500Z",
     "start_time": "2024-02-02T16:11:49.275827900Z"
    }
   },
   "outputs": [
    {
     "data": {
      "text/plain": "Unnamed: 0                        1107611\napplicant_ethnicity               1107611\nincome                            1107611\napplicant_race_1                  1107611\napplicant_race_2                  1107611\napplicant_race_3                  1107611\napplicant_race_4                  1107611\napplicant_race_5                  1107611\napplicant_sex                     1107611\nco_applicant_ethnicity            1107611\nco_applicant_race_1               1107611\nco_applicant_race_2               1107611\nco_applicant_race_3               1107611\nco_applicant_race_4               1107611\nco_applicant_race_5               1107611\nco_applicant_sex                  1107611\nloan_purpose                      1107611\nloan_type                         1107611\nmsamd                             1107611\npreapproval                       1107611\nproperty_type                     1107611\npurchaser_type                    1107611\nhud_median_family_income          1107611\nloan_amount                       1107611\nnumber_of_1_to_4_family_units     1107611\nnumber_of_owner_occupied_units    1107611\nminority_population               1107611\npopulation                        1107611\n5                                 1107611\n4                                 1107611\nco_applicant                      1107611\ntarget                            1107611\ndtype: int64"
     },
     "execution_count": 81,
     "metadata": {},
     "output_type": "execute_result"
    }
   ],
   "source": [
    "df_notna.count()"
   ]
  },
  {
   "cell_type": "code",
   "execution_count": 82,
   "id": "aGdQgSSYqNT7",
   "metadata": {
    "colab": {
     "base_uri": "https://localhost:8080/"
    },
    "executionInfo": {
     "elapsed": 14,
     "status": "ok",
     "timestamp": 1706707837743,
     "user": {
      "displayName": "Artem Malygin",
      "userId": "06576770450014929968"
     },
     "user_tz": -420
    },
    "id": "aGdQgSSYqNT7",
    "outputId": "4b61ce0f-e947-491a-dc48-f0b6968635f9",
    "ExecuteTime": {
     "end_time": "2024-02-02T16:11:49.584080200Z",
     "start_time": "2024-02-02T16:11:49.369770600Z"
    }
   },
   "outputs": [
    {
     "data": {
      "text/plain": "83.0"
     },
     "execution_count": 82,
     "metadata": {},
     "output_type": "execute_result"
    }
   ],
   "source": [
    "income_median = df_notna.income.median()\n",
    "income_median"
   ]
  },
  {
   "cell_type": "code",
   "execution_count": 83,
   "id": "cT1-sKhdobxz",
   "metadata": {
    "colab": {
     "base_uri": "https://localhost:8080/",
     "height": 112
    },
    "executionInfo": {
     "elapsed": 348,
     "status": "ok",
     "timestamp": 1706707839827,
     "user": {
      "displayName": "Artem Malygin",
      "userId": "06576770450014929968"
     },
     "user_tz": -420
    },
    "id": "cT1-sKhdobxz",
    "outputId": "dcd7c342-00b5-4113-9840-961f8ecbeb5e",
    "ExecuteTime": {
     "end_time": "2024-02-02T16:11:49.656984400Z",
     "start_time": "2024-02-02T16:11:49.400430500Z"
    }
   },
   "outputs": [
    {
     "data": {
      "text/plain": "   Unnamed: 0  applicant_ethnicity  income  applicant_race_1  \\\n0           0                    2    54.0               5.0   \n1           1                    2   168.0               5.0   \n\n   applicant_race_2  applicant_race_3  applicant_race_4  applicant_race_5  \\\n0               0.0               0.0               0.0               0.0   \n1               0.0               0.0               0.0               0.0   \n\n   applicant_sex  co_applicant_ethnicity  ...  hud_median_family_income  \\\n0              2                       4  ...                     79500   \n1              1                       4  ...                     67500   \n\n   loan_amount  number_of_1_to_4_family_units  number_of_owner_occupied_units  \\\n0     205000.0                           1309                             568   \n1     215000.0                           2919                            1296   \n\n   minority_population  population  5  4  co_applicant  target  \n0                45.83        2878  1  1             1       1  \n1                76.18        6071  1  1             1       1  \n\n[2 rows x 32 columns]",
      "text/html": "<div>\n<style scoped>\n    .dataframe tbody tr th:only-of-type {\n        vertical-align: middle;\n    }\n\n    .dataframe tbody tr th {\n        vertical-align: top;\n    }\n\n    .dataframe thead th {\n        text-align: right;\n    }\n</style>\n<table border=\"1\" class=\"dataframe\">\n  <thead>\n    <tr style=\"text-align: right;\">\n      <th></th>\n      <th>Unnamed: 0</th>\n      <th>applicant_ethnicity</th>\n      <th>income</th>\n      <th>applicant_race_1</th>\n      <th>applicant_race_2</th>\n      <th>applicant_race_3</th>\n      <th>applicant_race_4</th>\n      <th>applicant_race_5</th>\n      <th>applicant_sex</th>\n      <th>co_applicant_ethnicity</th>\n      <th>...</th>\n      <th>hud_median_family_income</th>\n      <th>loan_amount</th>\n      <th>number_of_1_to_4_family_units</th>\n      <th>number_of_owner_occupied_units</th>\n      <th>minority_population</th>\n      <th>population</th>\n      <th>5</th>\n      <th>4</th>\n      <th>co_applicant</th>\n      <th>target</th>\n    </tr>\n  </thead>\n  <tbody>\n    <tr>\n      <th>0</th>\n      <td>0</td>\n      <td>2</td>\n      <td>54.0</td>\n      <td>5.0</td>\n      <td>0.0</td>\n      <td>0.0</td>\n      <td>0.0</td>\n      <td>0.0</td>\n      <td>2</td>\n      <td>4</td>\n      <td>...</td>\n      <td>79500</td>\n      <td>205000.0</td>\n      <td>1309</td>\n      <td>568</td>\n      <td>45.83</td>\n      <td>2878</td>\n      <td>1</td>\n      <td>1</td>\n      <td>1</td>\n      <td>1</td>\n    </tr>\n    <tr>\n      <th>1</th>\n      <td>1</td>\n      <td>2</td>\n      <td>168.0</td>\n      <td>5.0</td>\n      <td>0.0</td>\n      <td>0.0</td>\n      <td>0.0</td>\n      <td>0.0</td>\n      <td>1</td>\n      <td>4</td>\n      <td>...</td>\n      <td>67500</td>\n      <td>215000.0</td>\n      <td>2919</td>\n      <td>1296</td>\n      <td>76.18</td>\n      <td>6071</td>\n      <td>1</td>\n      <td>1</td>\n      <td>1</td>\n      <td>1</td>\n    </tr>\n  </tbody>\n</table>\n<p>2 rows × 32 columns</p>\n</div>"
     },
     "execution_count": 83,
     "metadata": {},
     "output_type": "execute_result"
    }
   ],
   "source": [
    "df_notna['income'] = df_notna.income.fillna(income_median)\n",
    "df_notna.head(2)"
   ]
  },
  {
   "cell_type": "code",
   "execution_count": 84,
   "id": "frqdSylvTLcH",
   "metadata": {
    "colab": {
     "base_uri": "https://localhost:8080/"
    },
    "executionInfo": {
     "elapsed": 9,
     "status": "ok",
     "timestamp": 1706707841164,
     "user": {
      "displayName": "Artem Malygin",
      "userId": "06576770450014929968"
     },
     "user_tz": -420
    },
    "id": "frqdSylvTLcH",
    "outputId": "2df6354d-b5ee-4eca-8608-5b6128027a80",
    "ExecuteTime": {
     "end_time": "2024-02-02T16:11:49.696250100Z",
     "start_time": "2024-02-02T16:11:49.448005500Z"
    }
   },
   "outputs": [
    {
     "data": {
      "text/plain": "Unnamed: 0                        1107611\napplicant_ethnicity               1107611\nincome                            1107611\napplicant_race_1                  1107611\napplicant_race_2                  1107611\napplicant_race_3                  1107611\napplicant_race_4                  1107611\napplicant_race_5                  1107611\napplicant_sex                     1107611\nco_applicant_ethnicity            1107611\nco_applicant_race_1               1107611\nco_applicant_race_2               1107611\nco_applicant_race_3               1107611\nco_applicant_race_4               1107611\nco_applicant_race_5               1107611\nco_applicant_sex                  1107611\nloan_purpose                      1107611\nloan_type                         1107611\nmsamd                             1107611\npreapproval                       1107611\nproperty_type                     1107611\npurchaser_type                    1107611\nhud_median_family_income          1107611\nloan_amount                       1107611\nnumber_of_1_to_4_family_units     1107611\nnumber_of_owner_occupied_units    1107611\nminority_population               1107611\npopulation                        1107611\n5                                 1107611\n4                                 1107611\nco_applicant                      1107611\ntarget                            1107611\ndtype: int64"
     },
     "execution_count": 84,
     "metadata": {},
     "output_type": "execute_result"
    }
   ],
   "source": [
    "df_notna.count()"
   ]
  },
  {
   "cell_type": "code",
   "execution_count": 85,
   "id": "ccbf7f45",
   "metadata": {
    "execution": {
     "iopub.execute_input": "2024-01-09T04:12:04.617651Z",
     "iopub.status.busy": "2024-01-09T04:12:04.617202Z",
     "iopub.status.idle": "2024-01-09T04:12:04.644623Z",
     "shell.execute_reply": "2024-01-09T04:12:04.643639Z"
    },
    "executionInfo": {
     "elapsed": 287,
     "status": "ok",
     "timestamp": 1706707843034,
     "user": {
      "displayName": "Artem Malygin",
      "userId": "06576770450014929968"
     },
     "user_tz": -420
    },
    "id": "ccbf7f45",
    "papermill": {
     "duration": 0.330619,
     "end_time": "2024-01-09T04:12:04.648061",
     "exception": false,
     "start_time": "2024-01-09T04:12:04.317442",
     "status": "completed"
    },
    "tags": [],
    "ExecuteTime": {
     "end_time": "2024-02-02T16:11:49.893446200Z",
     "start_time": "2024-02-02T16:11:49.539566500Z"
    }
   },
   "outputs": [],
   "source": [
    "X = df_notna[features]\n",
    "y = df_notna.target"
   ]
  },
  {
   "cell_type": "code",
   "execution_count": 103,
   "id": "2f22512f",
   "metadata": {
    "execution": {
     "iopub.execute_input": "2024-01-09T04:12:05.241421Z",
     "iopub.status.busy": "2024-01-09T04:12:05.241004Z",
     "iopub.status.idle": "2024-01-09T04:12:05.283612Z",
     "shell.execute_reply": "2024-01-09T04:12:05.282479Z"
    },
    "executionInfo": {
     "elapsed": 419,
     "status": "ok",
     "timestamp": 1706707844732,
     "user": {
      "displayName": "Artem Malygin",
      "userId": "06576770450014929968"
     },
     "user_tz": -420
    },
    "id": "2f22512f",
    "papermill": {
     "duration": 0.345744,
     "end_time": "2024-01-09T04:12:05.286275",
     "exception": false,
     "start_time": "2024-01-09T04:12:04.940531",
     "status": "completed"
    },
    "tags": [],
    "ExecuteTime": {
     "end_time": "2024-02-02T16:20:27.182900Z",
     "start_time": "2024-02-02T16:20:26.087267400Z"
    }
   },
   "outputs": [],
   "source": [
    "X_train, X_test, y_train, y_test = train_test_split(X, y, train_size=0.7)"
   ]
  },
  {
   "cell_type": "code",
   "execution_count": 87,
   "id": "d465c7a7",
   "metadata": {
    "colab": {
     "base_uri": "https://localhost:8080/"
    },
    "execution": {
     "iopub.execute_input": "2024-01-09T04:12:05.878918Z",
     "iopub.status.busy": "2024-01-09T04:12:05.878405Z",
     "iopub.status.idle": "2024-01-09T04:12:05.885189Z",
     "shell.execute_reply": "2024-01-09T04:12:05.883738Z"
    },
    "executionInfo": {
     "elapsed": 8,
     "status": "ok",
     "timestamp": 1706707845764,
     "user": {
      "displayName": "Artem Malygin",
      "userId": "06576770450014929968"
     },
     "user_tz": -420
    },
    "id": "d465c7a7",
    "outputId": "af088188-b05f-4ebb-d013-dad60e68aebd",
    "papermill": {
     "duration": 0.302661,
     "end_time": "2024-01-09T04:12:05.888072",
     "exception": false,
     "start_time": "2024-01-09T04:12:05.585411",
     "status": "completed"
    },
    "tags": [],
    "ExecuteTime": {
     "end_time": "2024-02-02T16:11:51.574698600Z",
     "start_time": "2024-02-02T16:11:51.486470600Z"
    }
   },
   "outputs": [
    {
     "name": "stdout",
     "output_type": "stream",
     "text": [
      "Размер тренировочной выборки: 443044\n",
      "Размер тестовой выборки: 664567\n"
     ]
    }
   ],
   "source": [
    "print('Размер тренировочной выборки:', len(X_train))\n",
    "\n",
    "# при частом определении кол-ва строк в датафрейме эффективнее вычислять длину от индекса\n",
    "print('Размер тестовой выборки:', len(X_test.index))"
   ]
  },
  {
   "cell_type": "markdown",
   "id": "c0426cd9a3c67e8c",
   "metadata": {},
   "source": [
    "TreeClassifier"
   ]
  },
  {
   "cell_type": "code",
   "execution_count": 88,
   "id": "654f621e",
   "metadata": {
    "ExecuteTime": {
     "end_time": "2024-02-02T16:11:51.577717400Z",
     "start_time": "2024-02-02T16:11:51.525005200Z"
    }
   },
   "outputs": [],
   "source": [
    "from sklearn.tree import DecisionTreeClassifier, plot_tree, export_text"
   ]
  },
  {
   "cell_type": "code",
   "execution_count": 89,
   "id": "d4fb7db0",
   "metadata": {
    "ExecuteTime": {
     "end_time": "2024-02-02T16:11:58.782793800Z",
     "start_time": "2024-02-02T16:11:51.555987700Z"
    }
   },
   "outputs": [
    {
     "data": {
      "text/plain": "array([1.        , 0.94669849, 1.        , 0.11455308, 0.        ,\n       0.33899052, 0.29993183, 0.207429  , 1.        , 0.93909348])"
     },
     "execution_count": 89,
     "metadata": {},
     "output_type": "execute_result"
    }
   ],
   "source": [
    "model = DecisionTreeClassifier(criterion=\"entropy\", max_depth=11).fit(X_train, y_train)\n",
    "y_pred = model.predict_proba(X_test)[:, 1]\n",
    "y_pred[:10]\n"
   ]
  },
  {
   "cell_type": "code",
   "outputs": [
    {
     "name": "stdout",
     "output_type": "stream",
     "text": [
      "Importance of Unnamed: 0 based on entropy: 0.0015031315562030942\n",
      "Importance of applicant_ethnicity based on entropy: 0.0069697309300580075\n",
      "Importance of income based on entropy: 0.03483468350650084\n",
      "Importance of applicant_race_1 based on entropy: 0.002611780405968987\n",
      "Importance of applicant_race_2 based on entropy: 0.00030937971772459436\n",
      "Importance of applicant_race_3 based on entropy: 2.019452554694416e-05\n",
      "Importance of applicant_race_4 based on entropy: 0.0\n",
      "Importance of applicant_race_5 based on entropy: 0.0\n",
      "Importance of applicant_sex based on entropy: 0.32003489011138303\n",
      "Importance of co_applicant_ethnicity based on entropy: 0.0016285756411248446\n",
      "Importance of co_applicant_race_1 based on entropy: 0.006306577091696248\n",
      "Importance of co_applicant_race_2 based on entropy: 2.198546793005175e-05\n",
      "Importance of co_applicant_race_3 based on entropy: 0.0\n",
      "Importance of co_applicant_race_4 based on entropy: 0.0\n",
      "Importance of co_applicant_race_5 based on entropy: 0.0\n",
      "Importance of co_applicant_sex based on entropy: 0.0016650093279798194\n",
      "Importance of loan_purpose based on entropy: 0.014039910838032112\n",
      "Importance of loan_type based on entropy: 0.04182741243672293\n",
      "Importance of msamd based on entropy: 0.002853163097388329\n",
      "Importance of preapproval based on entropy: 0.0034744732150392386\n",
      "Importance of property_type based on entropy: 0.007942575756139549\n",
      "Importance of purchaser_type based on entropy: 0.5155417373702471\n",
      "Importance of hud_median_family_income based on entropy: 0.0007715806902911254\n",
      "Importance of loan_amount based on entropy: 0.022838947285647705\n",
      "Importance of number_of_1_to_4_family_units based on entropy: 0.0025826368551520804\n",
      "Importance of number_of_owner_occupied_units based on entropy: 0.0016108623086568653\n",
      "Importance of minority_population based on entropy: 0.006529968476468834\n",
      "Importance of population based on entropy: 0.00408079338809763\n",
      "Importance of 5 based on entropy: 0.0\n",
      "Importance of 4 based on entropy: 0.0\n",
      "Importance of co_applicant based on entropy: 0.0\n"
     ]
    }
   ],
   "source": [
    "feature_importances_entropy = model.feature_importances_\n",
    "\n",
    "# Выведите важность каждого признака\n",
    "for i, feature in enumerate(features):\n",
    "    print(f'Importance of {feature} based on entropy: {feature_importances_entropy[i]}')"
   ],
   "metadata": {
    "collapsed": false,
    "ExecuteTime": {
     "end_time": "2024-02-02T16:11:58.796970500Z",
     "start_time": "2024-02-02T16:11:58.780244800Z"
    }
   },
   "id": "9c5feb644bc23650",
   "execution_count": 90
  },
  {
   "cell_type": "code",
   "outputs": [],
   "source": [
    "from sklearn.ensemble import GradientBoostingClassifier\n",
    "\n"
   ],
   "metadata": {
    "collapsed": false,
    "ExecuteTime": {
     "end_time": "2024-02-02T16:11:58.833739100Z",
     "start_time": "2024-02-02T16:11:58.795977800Z"
    }
   },
   "id": "86428215e1ec8efd",
   "execution_count": 91
  },
  {
   "cell_type": "code",
   "outputs": [],
   "source": [
    "model = GradientBoostingClassifier(n_estimators=100, learning_rate=0.1, max_depth=8)\n",
    "model.fit(X_train, y_train)\n",
    "\n",
    "\n",
    "# Предскажите классы для тестового набора\n",
    "y_pred = model.predict(X_test)\n"
   ],
   "metadata": {
    "collapsed": false,
    "is_executing": true,
    "ExecuteTime": {
     "start_time": "2024-02-02T16:21:03.595361800Z"
    }
   },
   "id": "1f2fd2bd90a24ba9",
   "execution_count": null
  },
  {
   "cell_type": "markdown",
   "id": "0d67609b",
   "metadata": {},
   "source": [
    "#### [LogisticRegression](https://scikit-learn.org/stable/modules/generated/sklearn.linear_model.LogisticRegression.html)"
   ]
  },
  {
   "cell_type": "code",
   "execution_count": 93,
   "id": "650ec92f",
   "metadata": {
    "execution": {
     "iopub.execute_input": "2024-01-09T04:12:07.050881Z",
     "iopub.status.busy": "2024-01-09T04:12:07.049940Z",
     "iopub.status.idle": "2024-01-09T04:12:07.152578Z",
     "shell.execute_reply": "2024-01-09T04:12:07.151617Z"
    },
    "executionInfo": {
     "elapsed": 353,
     "status": "ok",
     "timestamp": 1706707848072,
     "user": {
      "displayName": "Artem Malygin",
      "userId": "06576770450014929968"
     },
     "user_tz": -420
    },
    "id": "650ec92f",
    "papermill": {
     "duration": 0.400427,
     "end_time": "2024-01-09T04:12:07.155246",
     "exception": false,
     "start_time": "2024-01-09T04:12:06.754819",
     "status": "completed"
    },
    "tags": [],
    "ExecuteTime": {
     "end_time": "2024-02-02T16:14:43.830670800Z",
     "start_time": "2024-02-02T16:14:43.800614900Z"
    }
   },
   "outputs": [],
   "source": [
    "from sklearn.linear_model import LogisticRegression"
   ]
  },
  {
   "cell_type": "code",
   "execution_count": 94,
   "id": "b19d8015",
   "metadata": {
    "colab": {
     "base_uri": "https://localhost:8080/"
    },
    "execution": {
     "iopub.execute_input": "2024-01-09T04:12:07.737077Z",
     "iopub.status.busy": "2024-01-09T04:12:07.735130Z",
     "iopub.status.idle": "2024-01-09T04:12:08.404331Z",
     "shell.execute_reply": "2024-01-09T04:12:08.402788Z"
    },
    "executionInfo": {
     "elapsed": 2144,
     "status": "ok",
     "timestamp": 1706707851414,
     "user": {
      "displayName": "Artem Malygin",
      "userId": "06576770450014929968"
     },
     "user_tz": -420
    },
    "id": "b19d8015",
    "outputId": "a44cc017-7cad-46e6-bb92-e7278f2a9147",
    "papermill": {
     "duration": 0.964335,
     "end_time": "2024-01-09T04:12:08.409197",
     "exception": false,
     "start_time": "2024-01-09T04:12:07.444862",
     "status": "completed"
    },
    "tags": [],
    "ExecuteTime": {
     "end_time": "2024-02-02T16:14:47.864393100Z",
     "start_time": "2024-02-02T16:14:43.825465400Z"
    }
   },
   "outputs": [
    {
     "name": "stderr",
     "output_type": "stream",
     "text": [
      "C:\\Users\\rodio\\.conda\\envs\\workspace\\lib\\site-packages\\sklearn\\linear_model\\_logistic.py:460: ConvergenceWarning:\n",
      "\n",
      "lbfgs failed to converge (status=1):\n",
      "STOP: TOTAL NO. of ITERATIONS REACHED LIMIT.\n",
      "\n",
      "Increase the number of iterations (max_iter) or scale the data as shown in:\n",
      "    https://scikit-learn.org/stable/modules/preprocessing.html\n",
      "Please also refer to the documentation for alternative solver options:\n",
      "    https://scikit-learn.org/stable/modules/linear_model.html#logistic-regression\n",
      "\n"
     ]
    },
    {
     "data": {
      "text/plain": "array([0.45627793, 0.44387003, 0.50847944, 0.48826393, 0.4763904 ,\n       0.48219018, 0.48348728, 0.49052441, 0.46927667, 0.46114197])"
     },
     "execution_count": 94,
     "metadata": {},
     "output_type": "execute_result"
    }
   ],
   "source": [
    "model = LogisticRegression().fit(X_train, y_train)\n",
    "y_pred = model.predict_proba(X_test)[:, 1]\n",
    "y_pred[:10]"
   ]
  },
  {
   "cell_type": "markdown",
   "id": "0e04391b",
   "metadata": {
    "id": "0e04391b",
    "papermill": {
     "duration": 0.289875,
     "end_time": "2024-01-09T04:12:09.036090",
     "exception": false,
     "start_time": "2024-01-09T04:12:08.746215",
     "status": "completed"
    },
    "tags": []
   },
   "source": [
    "### [ROC AUC](https://scikit-learn.org/stable/modules/generated/sklearn.metrics.roc_auc_score.html)"
   ]
  },
  {
   "cell_type": "code",
   "execution_count": 95,
   "id": "033f6604",
   "metadata": {
    "execution": {
     "iopub.execute_input": "2024-01-09T04:12:09.641594Z",
     "iopub.status.busy": "2024-01-09T04:12:09.641169Z",
     "iopub.status.idle": "2024-01-09T04:12:09.646698Z",
     "shell.execute_reply": "2024-01-09T04:12:09.645513Z"
    },
    "executionInfo": {
     "elapsed": 8,
     "status": "ok",
     "timestamp": 1706707851416,
     "user": {
      "displayName": "Artem Malygin",
      "userId": "06576770450014929968"
     },
     "user_tz": -420
    },
    "id": "033f6604",
    "papermill": {
     "duration": 0.319257,
     "end_time": "2024-01-09T04:12:09.649067",
     "exception": false,
     "start_time": "2024-01-09T04:12:09.329810",
     "status": "completed"
    },
    "tags": [],
    "ExecuteTime": {
     "end_time": "2024-02-02T16:14:47.911326300Z",
     "start_time": "2024-02-02T16:14:47.869458Z"
    }
   },
   "outputs": [],
   "source": [
    "from sklearn.metrics import auc, roc_auc_score, roc_curve\n",
    "import plotly.express as px"
   ]
  },
  {
   "cell_type": "code",
   "execution_count": 102,
   "id": "853c5a2e",
   "metadata": {
    "colab": {
     "base_uri": "https://localhost:8080/",
     "height": 517
    },
    "execution": {
     "iopub.execute_input": "2024-01-09T04:12:10.226683Z",
     "iopub.status.busy": "2024-01-09T04:12:10.225858Z",
     "iopub.status.idle": "2024-01-09T04:12:10.445144Z",
     "shell.execute_reply": "2024-01-09T04:12:10.443940Z"
    },
    "executionInfo": {
     "elapsed": 392,
     "status": "ok",
     "timestamp": 1706707851801,
     "user": {
      "displayName": "Artem Malygin",
      "userId": "06576770450014929968"
     },
     "user_tz": -420
    },
    "id": "853c5a2e",
    "outputId": "03104297-4850-4ffe-8997-52fdc7800dc6",
    "papermill": {
     "duration": 0.511076,
     "end_time": "2024-01-09T04:12:10.448792",
     "exception": false,
     "start_time": "2024-01-09T04:12:09.937716",
     "status": "completed"
    },
    "tags": [],
    "ExecuteTime": {
     "end_time": "2024-02-02T16:19:35.060971100Z",
     "start_time": "2024-02-02T16:19:34.806675300Z"
    }
   },
   "outputs": [
    {
     "data": {
      "application/vnd.plotly.v1+json": {
       "data": [
        {
         "fillpattern": {
          "shape": ""
         },
         "hovertemplate": "False Positive Rate=%{x}<br>True Positive Rate=%{y}<extra></extra>",
         "legendgroup": "",
         "line": {
          "color": "#636efa"
         },
         "marker": {
          "symbol": "circle"
         },
         "mode": "lines",
         "name": "",
         "orientation": "v",
         "showlegend": false,
         "stackgroup": "1",
         "x": [
          0.0,
          0.050537850921847836,
          1.0
         ],
         "xaxis": "x",
         "y": [
          0.0,
          0.7209674317220156,
          1.0
         ],
         "yaxis": "y",
         "type": "scatter"
        }
       ],
       "layout": {
        "template": {
         "data": {
          "histogram2dcontour": [
           {
            "type": "histogram2dcontour",
            "colorbar": {
             "outlinewidth": 0,
             "ticks": ""
            },
            "colorscale": [
             [
              0.0,
              "#0d0887"
             ],
             [
              0.1111111111111111,
              "#46039f"
             ],
             [
              0.2222222222222222,
              "#7201a8"
             ],
             [
              0.3333333333333333,
              "#9c179e"
             ],
             [
              0.4444444444444444,
              "#bd3786"
             ],
             [
              0.5555555555555556,
              "#d8576b"
             ],
             [
              0.6666666666666666,
              "#ed7953"
             ],
             [
              0.7777777777777778,
              "#fb9f3a"
             ],
             [
              0.8888888888888888,
              "#fdca26"
             ],
             [
              1.0,
              "#f0f921"
             ]
            ]
           }
          ],
          "choropleth": [
           {
            "type": "choropleth",
            "colorbar": {
             "outlinewidth": 0,
             "ticks": ""
            }
           }
          ],
          "histogram2d": [
           {
            "type": "histogram2d",
            "colorbar": {
             "outlinewidth": 0,
             "ticks": ""
            },
            "colorscale": [
             [
              0.0,
              "#0d0887"
             ],
             [
              0.1111111111111111,
              "#46039f"
             ],
             [
              0.2222222222222222,
              "#7201a8"
             ],
             [
              0.3333333333333333,
              "#9c179e"
             ],
             [
              0.4444444444444444,
              "#bd3786"
             ],
             [
              0.5555555555555556,
              "#d8576b"
             ],
             [
              0.6666666666666666,
              "#ed7953"
             ],
             [
              0.7777777777777778,
              "#fb9f3a"
             ],
             [
              0.8888888888888888,
              "#fdca26"
             ],
             [
              1.0,
              "#f0f921"
             ]
            ]
           }
          ],
          "heatmap": [
           {
            "type": "heatmap",
            "colorbar": {
             "outlinewidth": 0,
             "ticks": ""
            },
            "colorscale": [
             [
              0.0,
              "#0d0887"
             ],
             [
              0.1111111111111111,
              "#46039f"
             ],
             [
              0.2222222222222222,
              "#7201a8"
             ],
             [
              0.3333333333333333,
              "#9c179e"
             ],
             [
              0.4444444444444444,
              "#bd3786"
             ],
             [
              0.5555555555555556,
              "#d8576b"
             ],
             [
              0.6666666666666666,
              "#ed7953"
             ],
             [
              0.7777777777777778,
              "#fb9f3a"
             ],
             [
              0.8888888888888888,
              "#fdca26"
             ],
             [
              1.0,
              "#f0f921"
             ]
            ]
           }
          ],
          "heatmapgl": [
           {
            "type": "heatmapgl",
            "colorbar": {
             "outlinewidth": 0,
             "ticks": ""
            },
            "colorscale": [
             [
              0.0,
              "#0d0887"
             ],
             [
              0.1111111111111111,
              "#46039f"
             ],
             [
              0.2222222222222222,
              "#7201a8"
             ],
             [
              0.3333333333333333,
              "#9c179e"
             ],
             [
              0.4444444444444444,
              "#bd3786"
             ],
             [
              0.5555555555555556,
              "#d8576b"
             ],
             [
              0.6666666666666666,
              "#ed7953"
             ],
             [
              0.7777777777777778,
              "#fb9f3a"
             ],
             [
              0.8888888888888888,
              "#fdca26"
             ],
             [
              1.0,
              "#f0f921"
             ]
            ]
           }
          ],
          "contourcarpet": [
           {
            "type": "contourcarpet",
            "colorbar": {
             "outlinewidth": 0,
             "ticks": ""
            }
           }
          ],
          "contour": [
           {
            "type": "contour",
            "colorbar": {
             "outlinewidth": 0,
             "ticks": ""
            },
            "colorscale": [
             [
              0.0,
              "#0d0887"
             ],
             [
              0.1111111111111111,
              "#46039f"
             ],
             [
              0.2222222222222222,
              "#7201a8"
             ],
             [
              0.3333333333333333,
              "#9c179e"
             ],
             [
              0.4444444444444444,
              "#bd3786"
             ],
             [
              0.5555555555555556,
              "#d8576b"
             ],
             [
              0.6666666666666666,
              "#ed7953"
             ],
             [
              0.7777777777777778,
              "#fb9f3a"
             ],
             [
              0.8888888888888888,
              "#fdca26"
             ],
             [
              1.0,
              "#f0f921"
             ]
            ]
           }
          ],
          "surface": [
           {
            "type": "surface",
            "colorbar": {
             "outlinewidth": 0,
             "ticks": ""
            },
            "colorscale": [
             [
              0.0,
              "#0d0887"
             ],
             [
              0.1111111111111111,
              "#46039f"
             ],
             [
              0.2222222222222222,
              "#7201a8"
             ],
             [
              0.3333333333333333,
              "#9c179e"
             ],
             [
              0.4444444444444444,
              "#bd3786"
             ],
             [
              0.5555555555555556,
              "#d8576b"
             ],
             [
              0.6666666666666666,
              "#ed7953"
             ],
             [
              0.7777777777777778,
              "#fb9f3a"
             ],
             [
              0.8888888888888888,
              "#fdca26"
             ],
             [
              1.0,
              "#f0f921"
             ]
            ]
           }
          ],
          "mesh3d": [
           {
            "type": "mesh3d",
            "colorbar": {
             "outlinewidth": 0,
             "ticks": ""
            }
           }
          ],
          "scatter": [
           {
            "marker": {
             "line": {
              "color": "#283442"
             }
            },
            "type": "scatter"
           }
          ],
          "parcoords": [
           {
            "type": "parcoords",
            "line": {
             "colorbar": {
              "outlinewidth": 0,
              "ticks": ""
             }
            }
           }
          ],
          "scatterpolargl": [
           {
            "type": "scatterpolargl",
            "marker": {
             "colorbar": {
              "outlinewidth": 0,
              "ticks": ""
             }
            }
           }
          ],
          "bar": [
           {
            "error_x": {
             "color": "#f2f5fa"
            },
            "error_y": {
             "color": "#f2f5fa"
            },
            "marker": {
             "line": {
              "color": "rgb(17,17,17)",
              "width": 0.5
             },
             "pattern": {
              "fillmode": "overlay",
              "size": 10,
              "solidity": 0.2
             }
            },
            "type": "bar"
           }
          ],
          "scattergeo": [
           {
            "type": "scattergeo",
            "marker": {
             "colorbar": {
              "outlinewidth": 0,
              "ticks": ""
             }
            }
           }
          ],
          "scatterpolar": [
           {
            "type": "scatterpolar",
            "marker": {
             "colorbar": {
              "outlinewidth": 0,
              "ticks": ""
             }
            }
           }
          ],
          "histogram": [
           {
            "marker": {
             "pattern": {
              "fillmode": "overlay",
              "size": 10,
              "solidity": 0.2
             }
            },
            "type": "histogram"
           }
          ],
          "scattergl": [
           {
            "marker": {
             "line": {
              "color": "#283442"
             }
            },
            "type": "scattergl"
           }
          ],
          "scatter3d": [
           {
            "type": "scatter3d",
            "line": {
             "colorbar": {
              "outlinewidth": 0,
              "ticks": ""
             }
            },
            "marker": {
             "colorbar": {
              "outlinewidth": 0,
              "ticks": ""
             }
            }
           }
          ],
          "scattermapbox": [
           {
            "type": "scattermapbox",
            "marker": {
             "colorbar": {
              "outlinewidth": 0,
              "ticks": ""
             }
            }
           }
          ],
          "scatterternary": [
           {
            "type": "scatterternary",
            "marker": {
             "colorbar": {
              "outlinewidth": 0,
              "ticks": ""
             }
            }
           }
          ],
          "scattercarpet": [
           {
            "type": "scattercarpet",
            "marker": {
             "colorbar": {
              "outlinewidth": 0,
              "ticks": ""
             }
            }
           }
          ],
          "carpet": [
           {
            "aaxis": {
             "endlinecolor": "#A2B1C6",
             "gridcolor": "#506784",
             "linecolor": "#506784",
             "minorgridcolor": "#506784",
             "startlinecolor": "#A2B1C6"
            },
            "baxis": {
             "endlinecolor": "#A2B1C6",
             "gridcolor": "#506784",
             "linecolor": "#506784",
             "minorgridcolor": "#506784",
             "startlinecolor": "#A2B1C6"
            },
            "type": "carpet"
           }
          ],
          "table": [
           {
            "cells": {
             "fill": {
              "color": "#506784"
             },
             "line": {
              "color": "rgb(17,17,17)"
             }
            },
            "header": {
             "fill": {
              "color": "#2a3f5f"
             },
             "line": {
              "color": "rgb(17,17,17)"
             }
            },
            "type": "table"
           }
          ],
          "barpolar": [
           {
            "marker": {
             "line": {
              "color": "rgb(17,17,17)",
              "width": 0.5
             },
             "pattern": {
              "fillmode": "overlay",
              "size": 10,
              "solidity": 0.2
             }
            },
            "type": "barpolar"
           }
          ],
          "pie": [
           {
            "automargin": true,
            "type": "pie"
           }
          ]
         },
         "layout": {
          "autotypenumbers": "strict",
          "colorway": [
           "#636efa",
           "#EF553B",
           "#00cc96",
           "#ab63fa",
           "#FFA15A",
           "#19d3f3",
           "#FF6692",
           "#B6E880",
           "#FF97FF",
           "#FECB52"
          ],
          "font": {
           "color": "#f2f5fa"
          },
          "hovermode": "closest",
          "hoverlabel": {
           "align": "left"
          },
          "paper_bgcolor": "rgb(17,17,17)",
          "plot_bgcolor": "rgb(17,17,17)",
          "polar": {
           "bgcolor": "rgb(17,17,17)",
           "angularaxis": {
            "gridcolor": "#506784",
            "linecolor": "#506784",
            "ticks": ""
           },
           "radialaxis": {
            "gridcolor": "#506784",
            "linecolor": "#506784",
            "ticks": ""
           }
          },
          "ternary": {
           "bgcolor": "rgb(17,17,17)",
           "aaxis": {
            "gridcolor": "#506784",
            "linecolor": "#506784",
            "ticks": ""
           },
           "baxis": {
            "gridcolor": "#506784",
            "linecolor": "#506784",
            "ticks": ""
           },
           "caxis": {
            "gridcolor": "#506784",
            "linecolor": "#506784",
            "ticks": ""
           }
          },
          "coloraxis": {
           "colorbar": {
            "outlinewidth": 0,
            "ticks": ""
           }
          },
          "colorscale": {
           "sequential": [
            [
             0.0,
             "#0d0887"
            ],
            [
             0.1111111111111111,
             "#46039f"
            ],
            [
             0.2222222222222222,
             "#7201a8"
            ],
            [
             0.3333333333333333,
             "#9c179e"
            ],
            [
             0.4444444444444444,
             "#bd3786"
            ],
            [
             0.5555555555555556,
             "#d8576b"
            ],
            [
             0.6666666666666666,
             "#ed7953"
            ],
            [
             0.7777777777777778,
             "#fb9f3a"
            ],
            [
             0.8888888888888888,
             "#fdca26"
            ],
            [
             1.0,
             "#f0f921"
            ]
           ],
           "sequentialminus": [
            [
             0.0,
             "#0d0887"
            ],
            [
             0.1111111111111111,
             "#46039f"
            ],
            [
             0.2222222222222222,
             "#7201a8"
            ],
            [
             0.3333333333333333,
             "#9c179e"
            ],
            [
             0.4444444444444444,
             "#bd3786"
            ],
            [
             0.5555555555555556,
             "#d8576b"
            ],
            [
             0.6666666666666666,
             "#ed7953"
            ],
            [
             0.7777777777777778,
             "#fb9f3a"
            ],
            [
             0.8888888888888888,
             "#fdca26"
            ],
            [
             1.0,
             "#f0f921"
            ]
           ],
           "diverging": [
            [
             0,
             "#8e0152"
            ],
            [
             0.1,
             "#c51b7d"
            ],
            [
             0.2,
             "#de77ae"
            ],
            [
             0.3,
             "#f1b6da"
            ],
            [
             0.4,
             "#fde0ef"
            ],
            [
             0.5,
             "#f7f7f7"
            ],
            [
             0.6,
             "#e6f5d0"
            ],
            [
             0.7,
             "#b8e186"
            ],
            [
             0.8,
             "#7fbc41"
            ],
            [
             0.9,
             "#4d9221"
            ],
            [
             1,
             "#276419"
            ]
           ]
          },
          "xaxis": {
           "gridcolor": "#283442",
           "linecolor": "#506784",
           "ticks": "",
           "title": {
            "standoff": 15
           },
           "zerolinecolor": "#283442",
           "automargin": true,
           "zerolinewidth": 2
          },
          "yaxis": {
           "gridcolor": "#283442",
           "linecolor": "#506784",
           "ticks": "",
           "title": {
            "standoff": 15
           },
           "zerolinecolor": "#283442",
           "automargin": true,
           "zerolinewidth": 2
          },
          "scene": {
           "xaxis": {
            "backgroundcolor": "rgb(17,17,17)",
            "gridcolor": "#506784",
            "linecolor": "#506784",
            "showbackground": true,
            "ticks": "",
            "zerolinecolor": "#C8D4E3",
            "gridwidth": 2
           },
           "yaxis": {
            "backgroundcolor": "rgb(17,17,17)",
            "gridcolor": "#506784",
            "linecolor": "#506784",
            "showbackground": true,
            "ticks": "",
            "zerolinecolor": "#C8D4E3",
            "gridwidth": 2
           },
           "zaxis": {
            "backgroundcolor": "rgb(17,17,17)",
            "gridcolor": "#506784",
            "linecolor": "#506784",
            "showbackground": true,
            "ticks": "",
            "zerolinecolor": "#C8D4E3",
            "gridwidth": 2
           }
          },
          "shapedefaults": {
           "line": {
            "color": "#f2f5fa"
           }
          },
          "annotationdefaults": {
           "arrowcolor": "#f2f5fa",
           "arrowhead": 0,
           "arrowwidth": 1
          },
          "geo": {
           "bgcolor": "rgb(17,17,17)",
           "landcolor": "rgb(17,17,17)",
           "subunitcolor": "#506784",
           "showland": true,
           "showlakes": true,
           "lakecolor": "rgb(17,17,17)"
          },
          "title": {
           "x": 0.05
          },
          "updatemenudefaults": {
           "bgcolor": "#506784",
           "borderwidth": 0
          },
          "sliderdefaults": {
           "bgcolor": "#C8D4E3",
           "borderwidth": 1,
           "bordercolor": "rgb(17,17,17)",
           "tickwidth": 0
          },
          "mapbox": {
           "style": "dark"
          }
         }
        },
        "xaxis": {
         "anchor": "y",
         "domain": [
          0.0,
          1.0
         ],
         "title": {
          "text": "False Positive Rate"
         },
         "constrain": "domain"
        },
        "yaxis": {
         "anchor": "x",
         "domain": [
          0.0,
          1.0
         ],
         "title": {
          "text": "True Positive Rate"
         },
         "scaleanchor": "x",
         "scaleratio": 1
        },
        "legend": {
         "tracegroupgap": 0
        },
        "title": {
         "text": "ROC Curve (AUC=0.8352)"
        },
        "height": 500,
        "width": 700,
        "shapes": [
         {
          "line": {
           "dash": "dash"
          },
          "type": "line",
          "x0": 0,
          "x1": 1,
          "y0": 0,
          "y1": 1
         }
        ]
       },
       "config": {
        "plotlyServerURL": "https://plot.ly"
       }
      },
      "text/html": "<div>                            <div id=\"81185461-4588-4aae-a068-a63f284f6312\" class=\"plotly-graph-div\" style=\"height:500px; width:700px;\"></div>            <script type=\"text/javascript\">                require([\"plotly\"], function(Plotly) {                    window.PLOTLYENV=window.PLOTLYENV || {};                                    if (document.getElementById(\"81185461-4588-4aae-a068-a63f284f6312\")) {                    Plotly.newPlot(                        \"81185461-4588-4aae-a068-a63f284f6312\",                        [{\"fillpattern\":{\"shape\":\"\"},\"hovertemplate\":\"False Positive Rate=%{x}<br>True Positive Rate=%{y}<extra></extra>\",\"legendgroup\":\"\",\"line\":{\"color\":\"#636efa\"},\"marker\":{\"symbol\":\"circle\"},\"mode\":\"lines\",\"name\":\"\",\"orientation\":\"v\",\"showlegend\":false,\"stackgroup\":\"1\",\"x\":[0.0,0.050537850921847836,1.0],\"xaxis\":\"x\",\"y\":[0.0,0.7209674317220156,1.0],\"yaxis\":\"y\",\"type\":\"scatter\"}],                        {\"template\":{\"data\":{\"histogram2dcontour\":[{\"type\":\"histogram2dcontour\",\"colorbar\":{\"outlinewidth\":0,\"ticks\":\"\"},\"colorscale\":[[0.0,\"#0d0887\"],[0.1111111111111111,\"#46039f\"],[0.2222222222222222,\"#7201a8\"],[0.3333333333333333,\"#9c179e\"],[0.4444444444444444,\"#bd3786\"],[0.5555555555555556,\"#d8576b\"],[0.6666666666666666,\"#ed7953\"],[0.7777777777777778,\"#fb9f3a\"],[0.8888888888888888,\"#fdca26\"],[1.0,\"#f0f921\"]]}],\"choropleth\":[{\"type\":\"choropleth\",\"colorbar\":{\"outlinewidth\":0,\"ticks\":\"\"}}],\"histogram2d\":[{\"type\":\"histogram2d\",\"colorbar\":{\"outlinewidth\":0,\"ticks\":\"\"},\"colorscale\":[[0.0,\"#0d0887\"],[0.1111111111111111,\"#46039f\"],[0.2222222222222222,\"#7201a8\"],[0.3333333333333333,\"#9c179e\"],[0.4444444444444444,\"#bd3786\"],[0.5555555555555556,\"#d8576b\"],[0.6666666666666666,\"#ed7953\"],[0.7777777777777778,\"#fb9f3a\"],[0.8888888888888888,\"#fdca26\"],[1.0,\"#f0f921\"]]}],\"heatmap\":[{\"type\":\"heatmap\",\"colorbar\":{\"outlinewidth\":0,\"ticks\":\"\"},\"colorscale\":[[0.0,\"#0d0887\"],[0.1111111111111111,\"#46039f\"],[0.2222222222222222,\"#7201a8\"],[0.3333333333333333,\"#9c179e\"],[0.4444444444444444,\"#bd3786\"],[0.5555555555555556,\"#d8576b\"],[0.6666666666666666,\"#ed7953\"],[0.7777777777777778,\"#fb9f3a\"],[0.8888888888888888,\"#fdca26\"],[1.0,\"#f0f921\"]]}],\"heatmapgl\":[{\"type\":\"heatmapgl\",\"colorbar\":{\"outlinewidth\":0,\"ticks\":\"\"},\"colorscale\":[[0.0,\"#0d0887\"],[0.1111111111111111,\"#46039f\"],[0.2222222222222222,\"#7201a8\"],[0.3333333333333333,\"#9c179e\"],[0.4444444444444444,\"#bd3786\"],[0.5555555555555556,\"#d8576b\"],[0.6666666666666666,\"#ed7953\"],[0.7777777777777778,\"#fb9f3a\"],[0.8888888888888888,\"#fdca26\"],[1.0,\"#f0f921\"]]}],\"contourcarpet\":[{\"type\":\"contourcarpet\",\"colorbar\":{\"outlinewidth\":0,\"ticks\":\"\"}}],\"contour\":[{\"type\":\"contour\",\"colorbar\":{\"outlinewidth\":0,\"ticks\":\"\"},\"colorscale\":[[0.0,\"#0d0887\"],[0.1111111111111111,\"#46039f\"],[0.2222222222222222,\"#7201a8\"],[0.3333333333333333,\"#9c179e\"],[0.4444444444444444,\"#bd3786\"],[0.5555555555555556,\"#d8576b\"],[0.6666666666666666,\"#ed7953\"],[0.7777777777777778,\"#fb9f3a\"],[0.8888888888888888,\"#fdca26\"],[1.0,\"#f0f921\"]]}],\"surface\":[{\"type\":\"surface\",\"colorbar\":{\"outlinewidth\":0,\"ticks\":\"\"},\"colorscale\":[[0.0,\"#0d0887\"],[0.1111111111111111,\"#46039f\"],[0.2222222222222222,\"#7201a8\"],[0.3333333333333333,\"#9c179e\"],[0.4444444444444444,\"#bd3786\"],[0.5555555555555556,\"#d8576b\"],[0.6666666666666666,\"#ed7953\"],[0.7777777777777778,\"#fb9f3a\"],[0.8888888888888888,\"#fdca26\"],[1.0,\"#f0f921\"]]}],\"mesh3d\":[{\"type\":\"mesh3d\",\"colorbar\":{\"outlinewidth\":0,\"ticks\":\"\"}}],\"scatter\":[{\"marker\":{\"line\":{\"color\":\"#283442\"}},\"type\":\"scatter\"}],\"parcoords\":[{\"type\":\"parcoords\",\"line\":{\"colorbar\":{\"outlinewidth\":0,\"ticks\":\"\"}}}],\"scatterpolargl\":[{\"type\":\"scatterpolargl\",\"marker\":{\"colorbar\":{\"outlinewidth\":0,\"ticks\":\"\"}}}],\"bar\":[{\"error_x\":{\"color\":\"#f2f5fa\"},\"error_y\":{\"color\":\"#f2f5fa\"},\"marker\":{\"line\":{\"color\":\"rgb(17,17,17)\",\"width\":0.5},\"pattern\":{\"fillmode\":\"overlay\",\"size\":10,\"solidity\":0.2}},\"type\":\"bar\"}],\"scattergeo\":[{\"type\":\"scattergeo\",\"marker\":{\"colorbar\":{\"outlinewidth\":0,\"ticks\":\"\"}}}],\"scatterpolar\":[{\"type\":\"scatterpolar\",\"marker\":{\"colorbar\":{\"outlinewidth\":0,\"ticks\":\"\"}}}],\"histogram\":[{\"marker\":{\"pattern\":{\"fillmode\":\"overlay\",\"size\":10,\"solidity\":0.2}},\"type\":\"histogram\"}],\"scattergl\":[{\"marker\":{\"line\":{\"color\":\"#283442\"}},\"type\":\"scattergl\"}],\"scatter3d\":[{\"type\":\"scatter3d\",\"line\":{\"colorbar\":{\"outlinewidth\":0,\"ticks\":\"\"}},\"marker\":{\"colorbar\":{\"outlinewidth\":0,\"ticks\":\"\"}}}],\"scattermapbox\":[{\"type\":\"scattermapbox\",\"marker\":{\"colorbar\":{\"outlinewidth\":0,\"ticks\":\"\"}}}],\"scatterternary\":[{\"type\":\"scatterternary\",\"marker\":{\"colorbar\":{\"outlinewidth\":0,\"ticks\":\"\"}}}],\"scattercarpet\":[{\"type\":\"scattercarpet\",\"marker\":{\"colorbar\":{\"outlinewidth\":0,\"ticks\":\"\"}}}],\"carpet\":[{\"aaxis\":{\"endlinecolor\":\"#A2B1C6\",\"gridcolor\":\"#506784\",\"linecolor\":\"#506784\",\"minorgridcolor\":\"#506784\",\"startlinecolor\":\"#A2B1C6\"},\"baxis\":{\"endlinecolor\":\"#A2B1C6\",\"gridcolor\":\"#506784\",\"linecolor\":\"#506784\",\"minorgridcolor\":\"#506784\",\"startlinecolor\":\"#A2B1C6\"},\"type\":\"carpet\"}],\"table\":[{\"cells\":{\"fill\":{\"color\":\"#506784\"},\"line\":{\"color\":\"rgb(17,17,17)\"}},\"header\":{\"fill\":{\"color\":\"#2a3f5f\"},\"line\":{\"color\":\"rgb(17,17,17)\"}},\"type\":\"table\"}],\"barpolar\":[{\"marker\":{\"line\":{\"color\":\"rgb(17,17,17)\",\"width\":0.5},\"pattern\":{\"fillmode\":\"overlay\",\"size\":10,\"solidity\":0.2}},\"type\":\"barpolar\"}],\"pie\":[{\"automargin\":true,\"type\":\"pie\"}]},\"layout\":{\"autotypenumbers\":\"strict\",\"colorway\":[\"#636efa\",\"#EF553B\",\"#00cc96\",\"#ab63fa\",\"#FFA15A\",\"#19d3f3\",\"#FF6692\",\"#B6E880\",\"#FF97FF\",\"#FECB52\"],\"font\":{\"color\":\"#f2f5fa\"},\"hovermode\":\"closest\",\"hoverlabel\":{\"align\":\"left\"},\"paper_bgcolor\":\"rgb(17,17,17)\",\"plot_bgcolor\":\"rgb(17,17,17)\",\"polar\":{\"bgcolor\":\"rgb(17,17,17)\",\"angularaxis\":{\"gridcolor\":\"#506784\",\"linecolor\":\"#506784\",\"ticks\":\"\"},\"radialaxis\":{\"gridcolor\":\"#506784\",\"linecolor\":\"#506784\",\"ticks\":\"\"}},\"ternary\":{\"bgcolor\":\"rgb(17,17,17)\",\"aaxis\":{\"gridcolor\":\"#506784\",\"linecolor\":\"#506784\",\"ticks\":\"\"},\"baxis\":{\"gridcolor\":\"#506784\",\"linecolor\":\"#506784\",\"ticks\":\"\"},\"caxis\":{\"gridcolor\":\"#506784\",\"linecolor\":\"#506784\",\"ticks\":\"\"}},\"coloraxis\":{\"colorbar\":{\"outlinewidth\":0,\"ticks\":\"\"}},\"colorscale\":{\"sequential\":[[0.0,\"#0d0887\"],[0.1111111111111111,\"#46039f\"],[0.2222222222222222,\"#7201a8\"],[0.3333333333333333,\"#9c179e\"],[0.4444444444444444,\"#bd3786\"],[0.5555555555555556,\"#d8576b\"],[0.6666666666666666,\"#ed7953\"],[0.7777777777777778,\"#fb9f3a\"],[0.8888888888888888,\"#fdca26\"],[1.0,\"#f0f921\"]],\"sequentialminus\":[[0.0,\"#0d0887\"],[0.1111111111111111,\"#46039f\"],[0.2222222222222222,\"#7201a8\"],[0.3333333333333333,\"#9c179e\"],[0.4444444444444444,\"#bd3786\"],[0.5555555555555556,\"#d8576b\"],[0.6666666666666666,\"#ed7953\"],[0.7777777777777778,\"#fb9f3a\"],[0.8888888888888888,\"#fdca26\"],[1.0,\"#f0f921\"]],\"diverging\":[[0,\"#8e0152\"],[0.1,\"#c51b7d\"],[0.2,\"#de77ae\"],[0.3,\"#f1b6da\"],[0.4,\"#fde0ef\"],[0.5,\"#f7f7f7\"],[0.6,\"#e6f5d0\"],[0.7,\"#b8e186\"],[0.8,\"#7fbc41\"],[0.9,\"#4d9221\"],[1,\"#276419\"]]},\"xaxis\":{\"gridcolor\":\"#283442\",\"linecolor\":\"#506784\",\"ticks\":\"\",\"title\":{\"standoff\":15},\"zerolinecolor\":\"#283442\",\"automargin\":true,\"zerolinewidth\":2},\"yaxis\":{\"gridcolor\":\"#283442\",\"linecolor\":\"#506784\",\"ticks\":\"\",\"title\":{\"standoff\":15},\"zerolinecolor\":\"#283442\",\"automargin\":true,\"zerolinewidth\":2},\"scene\":{\"xaxis\":{\"backgroundcolor\":\"rgb(17,17,17)\",\"gridcolor\":\"#506784\",\"linecolor\":\"#506784\",\"showbackground\":true,\"ticks\":\"\",\"zerolinecolor\":\"#C8D4E3\",\"gridwidth\":2},\"yaxis\":{\"backgroundcolor\":\"rgb(17,17,17)\",\"gridcolor\":\"#506784\",\"linecolor\":\"#506784\",\"showbackground\":true,\"ticks\":\"\",\"zerolinecolor\":\"#C8D4E3\",\"gridwidth\":2},\"zaxis\":{\"backgroundcolor\":\"rgb(17,17,17)\",\"gridcolor\":\"#506784\",\"linecolor\":\"#506784\",\"showbackground\":true,\"ticks\":\"\",\"zerolinecolor\":\"#C8D4E3\",\"gridwidth\":2}},\"shapedefaults\":{\"line\":{\"color\":\"#f2f5fa\"}},\"annotationdefaults\":{\"arrowcolor\":\"#f2f5fa\",\"arrowhead\":0,\"arrowwidth\":1},\"geo\":{\"bgcolor\":\"rgb(17,17,17)\",\"landcolor\":\"rgb(17,17,17)\",\"subunitcolor\":\"#506784\",\"showland\":true,\"showlakes\":true,\"lakecolor\":\"rgb(17,17,17)\"},\"title\":{\"x\":0.05},\"updatemenudefaults\":{\"bgcolor\":\"#506784\",\"borderwidth\":0},\"sliderdefaults\":{\"bgcolor\":\"#C8D4E3\",\"borderwidth\":1,\"bordercolor\":\"rgb(17,17,17)\",\"tickwidth\":0},\"mapbox\":{\"style\":\"dark\"}}},\"xaxis\":{\"anchor\":\"y\",\"domain\":[0.0,1.0],\"title\":{\"text\":\"False Positive Rate\"},\"constrain\":\"domain\"},\"yaxis\":{\"anchor\":\"x\",\"domain\":[0.0,1.0],\"title\":{\"text\":\"True Positive Rate\"},\"scaleanchor\":\"x\",\"scaleratio\":1},\"legend\":{\"tracegroupgap\":0},\"title\":{\"text\":\"ROC Curve (AUC=0.8352)\"},\"height\":500,\"width\":700,\"shapes\":[{\"line\":{\"dash\":\"dash\"},\"type\":\"line\",\"x0\":0,\"x1\":1,\"y0\":0,\"y1\":1}]},                        {\"responsive\": true}                    ).then(function(){\n                            \nvar gd = document.getElementById('81185461-4588-4aae-a068-a63f284f6312');\nvar x = new MutationObserver(function (mutations, observer) {{\n        var display = window.getComputedStyle(gd).display;\n        if (!display || display === 'none') {{\n            console.log([gd, 'removed!']);\n            Plotly.purge(gd);\n            observer.disconnect();\n        }}\n}});\n\n// Listen for the removal of the full notebook cells\nvar notebookContainer = gd.closest('#notebook-container');\nif (notebookContainer) {{\n    x.observe(notebookContainer, {childList: true});\n}}\n\n// Listen for the clearing of the current output cell\nvar outputEl = gd.closest('.output');\nif (outputEl) {{\n    x.observe(outputEl, {childList: true});\n}}\n\n                        })                };                });            </script>        </div>"
     },
     "metadata": {},
     "output_type": "display_data"
    }
   ],
   "source": [
    "fpr, tpr, _ = roc_curve(y_test, y_pred)\n",
    "# False Positive Rate - доля ложно положительных ответов\n",
    "# True Positive Rate - доля истинно положительных ответов\n",
    "\n",
    "# закрашенная область\n",
    "\n",
    "fig = px.area(\n",
    "    x=fpr,  # значения оси x\n",
    "\n",
    "    y=tpr,  # значения оси y\n",
    "    title=f'ROC Curve (AUC={auc(fpr, tpr):.4f})',  # название графика\n",
    "    labels=dict(x='False Positive Rate', y='True Positive Rate'),  # названия осей\n",
    "    width=700,  # ширина\n",
    "    height=500,  # высота\n",
    ")\n",
    "\n",
    "# пунктирная линия\n",
    "fig.add_shape(\n",
    "    type='line',  # тип объекта\n",
    "    line=dict(dash='dash'),  # характеристики линии\n",
    "    x0=0, x1=1, y0=0, y1=1,  # координаты - откуда и куда рисовать\n",
    ")\n",
    "\n",
    "# https://plotly.com/python/axes/#fixed-ratio-axes\n",
    "fig.update_yaxes(scaleanchor='x', scaleratio=1)\n",
    "fig.update_xaxes(constrain='domain')\n",
    "\n",
    "fig.show()"
   ]
  },
  {
   "cell_type": "markdown",
   "id": "Lm3LNK2wSiPJ",
   "metadata": {
    "id": "Lm3LNK2wSiPJ"
   },
   "source": [
    "## Прогноз"
   ]
  },
  {
   "cell_type": "code",
   "execution_count": 97,
   "id": "iF6dU2xsSh0u",
   "metadata": {
    "colab": {
     "base_uri": "https://localhost:8080/",
     "height": 161
    },
    "executionInfo": {
     "elapsed": 1482,
     "status": "ok",
     "timestamp": 1706707856155,
     "user": {
      "displayName": "Artem Malygin",
      "userId": "06576770450014929968"
     },
     "user_tz": -420
    },
    "id": "iF6dU2xsSh0u",
    "outputId": "4cb61abe-13d1-4576-ceec-42de32584fea",
    "ExecuteTime": {
     "end_time": "2024-02-02T16:14:51.545617200Z",
     "start_time": "2024-02-02T16:14:51.443927900Z"
    }
   },
   "outputs": [
    {
     "data": {
      "text/plain": "   applicant_ethnicity  income  applicant_race_1  applicant_race_2  \\\n0                    2    90.0               5.0               NaN   \n1                    2    77.0               5.0               NaN   \n\n   applicant_race_3  applicant_race_4  applicant_race_5  applicant_sex  \\\n0               NaN               NaN               NaN              2   \n1               NaN               NaN               NaN              2   \n\n   co_applicant_ethnicity  co_applicant_race_1  ...  msamd  preapproval  \\\n0                       4                  8.0  ...  33124            2   \n1                       2                  5.0  ...  39460            2   \n\n   property_type  purchaser_type  hud_median_family_income  loan_amount  \\\n0              3               0                     68300      55000.0   \n1              3               0                     76000      15000.0   \n\n   number_of_1_to_4_family_units  number_of_owner_occupied_units  \\\n0                            889                             866   \n1                           2428                            1828   \n\n   minority_population  population  \n0                94.42        3282  \n1                19.71        6031  \n\n[2 rows x 27 columns]",
      "text/html": "<div>\n<style scoped>\n    .dataframe tbody tr th:only-of-type {\n        vertical-align: middle;\n    }\n\n    .dataframe tbody tr th {\n        vertical-align: top;\n    }\n\n    .dataframe thead th {\n        text-align: right;\n    }\n</style>\n<table border=\"1\" class=\"dataframe\">\n  <thead>\n    <tr style=\"text-align: right;\">\n      <th></th>\n      <th>applicant_ethnicity</th>\n      <th>income</th>\n      <th>applicant_race_1</th>\n      <th>applicant_race_2</th>\n      <th>applicant_race_3</th>\n      <th>applicant_race_4</th>\n      <th>applicant_race_5</th>\n      <th>applicant_sex</th>\n      <th>co_applicant_ethnicity</th>\n      <th>co_applicant_race_1</th>\n      <th>...</th>\n      <th>msamd</th>\n      <th>preapproval</th>\n      <th>property_type</th>\n      <th>purchaser_type</th>\n      <th>hud_median_family_income</th>\n      <th>loan_amount</th>\n      <th>number_of_1_to_4_family_units</th>\n      <th>number_of_owner_occupied_units</th>\n      <th>minority_population</th>\n      <th>population</th>\n    </tr>\n  </thead>\n  <tbody>\n    <tr>\n      <th>0</th>\n      <td>2</td>\n      <td>90.0</td>\n      <td>5.0</td>\n      <td>NaN</td>\n      <td>NaN</td>\n      <td>NaN</td>\n      <td>NaN</td>\n      <td>2</td>\n      <td>4</td>\n      <td>8.0</td>\n      <td>...</td>\n      <td>33124</td>\n      <td>2</td>\n      <td>3</td>\n      <td>0</td>\n      <td>68300</td>\n      <td>55000.0</td>\n      <td>889</td>\n      <td>866</td>\n      <td>94.42</td>\n      <td>3282</td>\n    </tr>\n    <tr>\n      <th>1</th>\n      <td>2</td>\n      <td>77.0</td>\n      <td>5.0</td>\n      <td>NaN</td>\n      <td>NaN</td>\n      <td>NaN</td>\n      <td>NaN</td>\n      <td>2</td>\n      <td>2</td>\n      <td>5.0</td>\n      <td>...</td>\n      <td>39460</td>\n      <td>2</td>\n      <td>3</td>\n      <td>0</td>\n      <td>76000</td>\n      <td>15000.0</td>\n      <td>2428</td>\n      <td>1828</td>\n      <td>19.71</td>\n      <td>6031</td>\n    </tr>\n  </tbody>\n</table>\n<p>2 rows × 27 columns</p>\n</div>"
     },
     "execution_count": 97,
     "metadata": {},
     "output_type": "execute_result"
    }
   ],
   "source": [
    "df_test = pd.read_csv('test.csv', index_col=0)\n",
    "df_test.head(2)"
   ]
  },
  {
   "cell_type": "code",
   "execution_count": 98,
   "id": "rDQiZD8dnQyj",
   "metadata": {
    "colab": {
     "base_uri": "https://localhost:8080/"
    },
    "executionInfo": {
     "elapsed": 274,
     "status": "ok",
     "timestamp": 1706707858053,
     "user": {
      "displayName": "Artem Malygin",
      "userId": "06576770450014929968"
     },
     "user_tz": -420
    },
    "id": "rDQiZD8dnQyj",
    "outputId": "6df40f16-a5c8-452f-ba11-58596f95e390",
    "ExecuteTime": {
     "end_time": "2024-02-02T16:14:51.545617200Z",
     "start_time": "2024-02-02T16:14:51.446011Z"
    }
   },
   "outputs": [
    {
     "name": "stderr",
     "output_type": "stream",
     "text": [
      "C:\\Users\\rodio\\.conda\\envs\\workspace\\lib\\site-packages\\pandas\\core\\arraylike.py:396: RuntimeWarning:\n",
      "\n",
      "divide by zero encountered in log\n",
      "\n",
      "C:\\Users\\rodio\\.conda\\envs\\workspace\\lib\\site-packages\\pandas\\core\\arraylike.py:396: RuntimeWarning:\n",
      "\n",
      "invalid value encountered in log\n",
      "\n"
     ]
    },
    {
     "data": {
      "text/plain": "0    4.499810\n1    4.343805\nName: income, dtype: float64"
     },
     "execution_count": 98,
     "metadata": {},
     "output_type": "execute_result"
    }
   ],
   "source": [
    "df_test['income'] = np.log(df_test.income)\n",
    "df_test['income'] = df_test.income.fillna(income_median)\n",
    "df_test.income.replace(-np.inf, 0, inplace=True)\n",
    "df_test.income.head(2)"
   ]
  },
  {
   "cell_type": "code",
   "execution_count": 99,
   "id": "tdP3YSdlnqHw",
   "metadata": {
    "colab": {
     "base_uri": "https://localhost:8080/"
    },
    "executionInfo": {
     "elapsed": 482,
     "status": "ok",
     "timestamp": 1706707859551,
     "user": {
      "displayName": "Artem Malygin",
      "userId": "06576770450014929968"
     },
     "user_tz": -420
    },
    "id": "tdP3YSdlnqHw",
    "outputId": "39578a50-207f-44df-ab00-e24bc0347227",
    "ExecuteTime": {
     "end_time": "2024-02-02T16:14:51.546624500Z",
     "start_time": "2024-02-02T16:14:51.446011Z"
    }
   },
   "outputs": [
    {
     "ename": "KeyError",
     "evalue": "\"['Unnamed: 0', '5', '4', 'co_applicant'] not in index\"",
     "output_type": "error",
     "traceback": [
      "\u001B[1;31m---------------------------------------------------------------------------\u001B[0m",
      "\u001B[1;31mKeyError\u001B[0m                                  Traceback (most recent call last)",
      "Cell \u001B[1;32mIn[99], line 1\u001B[0m\n\u001B[1;32m----> 1\u001B[0m \u001B[43mdf_test\u001B[49m\u001B[43m[\u001B[49m\u001B[43mfeatures\u001B[49m\u001B[43m]\u001B[49m\u001B[38;5;241m.\u001B[39mcount()\n",
      "File \u001B[1;32m~\\.conda\\envs\\workspace\\lib\\site-packages\\pandas\\core\\frame.py:3899\u001B[0m, in \u001B[0;36mDataFrame.__getitem__\u001B[1;34m(self, key)\u001B[0m\n\u001B[0;32m   3897\u001B[0m     \u001B[38;5;28;01mif\u001B[39;00m is_iterator(key):\n\u001B[0;32m   3898\u001B[0m         key \u001B[38;5;241m=\u001B[39m \u001B[38;5;28mlist\u001B[39m(key)\n\u001B[1;32m-> 3899\u001B[0m     indexer \u001B[38;5;241m=\u001B[39m \u001B[38;5;28;43mself\u001B[39;49m\u001B[38;5;241;43m.\u001B[39;49m\u001B[43mcolumns\u001B[49m\u001B[38;5;241;43m.\u001B[39;49m\u001B[43m_get_indexer_strict\u001B[49m\u001B[43m(\u001B[49m\u001B[43mkey\u001B[49m\u001B[43m,\u001B[49m\u001B[43m \u001B[49m\u001B[38;5;124;43m\"\u001B[39;49m\u001B[38;5;124;43mcolumns\u001B[39;49m\u001B[38;5;124;43m\"\u001B[39;49m\u001B[43m)\u001B[49m[\u001B[38;5;241m1\u001B[39m]\n\u001B[0;32m   3901\u001B[0m \u001B[38;5;66;03m# take() does not accept boolean indexers\u001B[39;00m\n\u001B[0;32m   3902\u001B[0m \u001B[38;5;28;01mif\u001B[39;00m \u001B[38;5;28mgetattr\u001B[39m(indexer, \u001B[38;5;124m\"\u001B[39m\u001B[38;5;124mdtype\u001B[39m\u001B[38;5;124m\"\u001B[39m, \u001B[38;5;28;01mNone\u001B[39;00m) \u001B[38;5;241m==\u001B[39m \u001B[38;5;28mbool\u001B[39m:\n",
      "File \u001B[1;32m~\\.conda\\envs\\workspace\\lib\\site-packages\\pandas\\core\\indexes\\base.py:6115\u001B[0m, in \u001B[0;36mIndex._get_indexer_strict\u001B[1;34m(self, key, axis_name)\u001B[0m\n\u001B[0;32m   6112\u001B[0m \u001B[38;5;28;01melse\u001B[39;00m:\n\u001B[0;32m   6113\u001B[0m     keyarr, indexer, new_indexer \u001B[38;5;241m=\u001B[39m \u001B[38;5;28mself\u001B[39m\u001B[38;5;241m.\u001B[39m_reindex_non_unique(keyarr)\n\u001B[1;32m-> 6115\u001B[0m \u001B[38;5;28;43mself\u001B[39;49m\u001B[38;5;241;43m.\u001B[39;49m\u001B[43m_raise_if_missing\u001B[49m\u001B[43m(\u001B[49m\u001B[43mkeyarr\u001B[49m\u001B[43m,\u001B[49m\u001B[43m \u001B[49m\u001B[43mindexer\u001B[49m\u001B[43m,\u001B[49m\u001B[43m \u001B[49m\u001B[43maxis_name\u001B[49m\u001B[43m)\u001B[49m\n\u001B[0;32m   6117\u001B[0m keyarr \u001B[38;5;241m=\u001B[39m \u001B[38;5;28mself\u001B[39m\u001B[38;5;241m.\u001B[39mtake(indexer)\n\u001B[0;32m   6118\u001B[0m \u001B[38;5;28;01mif\u001B[39;00m \u001B[38;5;28misinstance\u001B[39m(key, Index):\n\u001B[0;32m   6119\u001B[0m     \u001B[38;5;66;03m# GH 42790 - Preserve name from an Index\u001B[39;00m\n",
      "File \u001B[1;32m~\\.conda\\envs\\workspace\\lib\\site-packages\\pandas\\core\\indexes\\base.py:6179\u001B[0m, in \u001B[0;36mIndex._raise_if_missing\u001B[1;34m(self, key, indexer, axis_name)\u001B[0m\n\u001B[0;32m   6176\u001B[0m     \u001B[38;5;28;01mraise\u001B[39;00m \u001B[38;5;167;01mKeyError\u001B[39;00m(\u001B[38;5;124mf\u001B[39m\u001B[38;5;124m\"\u001B[39m\u001B[38;5;124mNone of [\u001B[39m\u001B[38;5;132;01m{\u001B[39;00mkey\u001B[38;5;132;01m}\u001B[39;00m\u001B[38;5;124m] are in the [\u001B[39m\u001B[38;5;132;01m{\u001B[39;00maxis_name\u001B[38;5;132;01m}\u001B[39;00m\u001B[38;5;124m]\u001B[39m\u001B[38;5;124m\"\u001B[39m)\n\u001B[0;32m   6178\u001B[0m not_found \u001B[38;5;241m=\u001B[39m \u001B[38;5;28mlist\u001B[39m(ensure_index(key)[missing_mask\u001B[38;5;241m.\u001B[39mnonzero()[\u001B[38;5;241m0\u001B[39m]]\u001B[38;5;241m.\u001B[39munique())\n\u001B[1;32m-> 6179\u001B[0m \u001B[38;5;28;01mraise\u001B[39;00m \u001B[38;5;167;01mKeyError\u001B[39;00m(\u001B[38;5;124mf\u001B[39m\u001B[38;5;124m\"\u001B[39m\u001B[38;5;132;01m{\u001B[39;00mnot_found\u001B[38;5;132;01m}\u001B[39;00m\u001B[38;5;124m not in index\u001B[39m\u001B[38;5;124m\"\u001B[39m)\n",
      "\u001B[1;31mKeyError\u001B[0m: \"['Unnamed: 0', '5', '4', 'co_applicant'] not in index\""
     ]
    }
   ],
   "source": [
    "df_test[features].count()"
   ]
  },
  {
   "cell_type": "code",
   "execution_count": null,
   "id": "CSaF9_Uz6Yau",
   "metadata": {
    "colab": {
     "base_uri": "https://localhost:8080/"
    },
    "executionInfo": {
     "elapsed": 352,
     "status": "ok",
     "timestamp": 1706707862370,
     "user": {
      "displayName": "Artem Malygin",
      "userId": "06576770450014929968"
     },
     "user_tz": -420
    },
    "id": "CSaF9_Uz6Yau",
    "outputId": "c3f860e3-4aab-4667-ca71-eda07c0694cb",
    "ExecuteTime": {
     "start_time": "2024-02-02T16:14:51.446011Z"
    }
   },
   "outputs": [],
   "source": [
    "df_test.shape"
   ]
  },
  {
   "cell_type": "code",
   "execution_count": null,
   "id": "bvOfiSKBS3OZ",
   "metadata": {
    "colab": {
     "base_uri": "https://localhost:8080/"
    },
    "executionInfo": {
     "elapsed": 288,
     "status": "ok",
     "timestamp": 1706707863869,
     "user": {
      "displayName": "Artem Malygin",
      "userId": "06576770450014929968"
     },
     "user_tz": -420
    },
    "id": "bvOfiSKBS3OZ",
    "outputId": "4136405e-144f-4ddd-81db-2a6fb9bcc5a1",
    "ExecuteTime": {
     "start_time": "2024-02-02T16:14:51.446011Z"
    }
   },
   "outputs": [],
   "source": [
    "df_test['target'] = model.predict_proba(df_test[features])[:, 1]\n",
    "df_test.target.head(2)"
   ]
  },
  {
   "cell_type": "code",
   "execution_count": null,
   "id": "fLjvGHynnDms",
   "metadata": {
    "executionInfo": {
     "elapsed": 1540,
     "status": "ok",
     "timestamp": 1706707867975,
     "user": {
      "displayName": "Artem Malygin",
      "userId": "06576770450014929968"
     },
     "user_tz": -420
    },
    "id": "fLjvGHynnDms",
    "ExecuteTime": {
     "start_time": "2024-02-02T16:14:51.446011Z"
    }
   },
   "outputs": [],
   "source": [
    "df_test.target.to_csv('submission.csv')"
   ]
  },
  {
   "cell_type": "code",
   "execution_count": null,
   "id": "Y3dvKja7rMSQ",
   "metadata": {
    "colab": {
     "base_uri": "https://localhost:8080/"
    },
    "executionInfo": {
     "elapsed": 1258,
     "status": "ok",
     "timestamp": 1706707870533,
     "user": {
      "displayName": "Artem Malygin",
      "userId": "06576770450014929968"
     },
     "user_tz": -420
    },
    "id": "Y3dvKja7rMSQ",
    "outputId": "86f20d21-e15b-465f-9e31-decfbe6a1cd5",
    "ExecuteTime": {
     "start_time": "2024-02-02T16:14:51.446972700Z"
    }
   },
   "outputs": [],
   "source": [
    "!zip submission.zip submission.csv"
   ]
  },
  {
   "cell_type": "code",
   "execution_count": null,
   "id": "4578cd8d301850ed",
   "metadata": {
    "collapsed": false,
    "ExecuteTime": {
     "start_time": "2024-02-02T16:14:51.446972700Z"
    }
   },
   "outputs": [],
   "source": []
  }
 ],
 "metadata": {
  "colab": {
   "provenance": []
  },
  "kaggle": {
   "accelerator": "none",
   "dataSources": [
    {
     "datasetId": 1996,
     "sourceId": 3419,
     "sourceType": "datasetVersion"
    }
   ],
   "dockerImageVersionId": 30626,
   "isGpuEnabled": false,
   "isInternetEnabled": true,
   "language": "python",
   "sourceType": "notebook"
  },
  "kernelspec": {
   "name": "python3",
   "language": "python",
   "display_name": "Python 3 (ipykernel)"
  },
  "language_info": {
   "codemirror_mode": {
    "name": "ipython",
    "version": 3
   },
   "file_extension": ".py",
   "mimetype": "text/x-python",
   "name": "python",
   "nbconvert_exporter": "python",
   "pygments_lexer": "ipython3",
   "version": "3.9.6"
  },
  "papermill": {
   "default_parameters": {},
   "duration": 41.02264,
   "end_time": "2024-01-09T04:12:11.660945",
   "environment_variables": {},
   "exception": null,
   "input_path": "__notebook__.ipynb",
   "output_path": "__notebook__.ipynb",
   "parameters": {},
   "start_time": "2024-01-09T04:11:30.638305",
   "version": "2.4.0"
  }
 },
 "nbformat": 4,
 "nbformat_minor": 5
}
