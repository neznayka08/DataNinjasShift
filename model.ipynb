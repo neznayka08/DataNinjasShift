{
 "cells": [
  {
   "cell_type": "markdown",
   "id": "346a6c5b",
   "metadata": {
    "id": "346a6c5b",
    "papermill": {
     "duration": 0.28587,
     "end_time": "2024-01-09T04:12:03.181161",
     "exception": false,
     "start_time": "2024-01-09T04:12:02.895291",
     "status": "completed"
    },
    "tags": []
   },
   "source": [
    "# Обучение модели\n",
    "### [**scikit-learn**](https://scikit-learn.org/stable/auto_examples/index.html)\n",
    "#### [train_test_split](https://scikit-learn.org/stable/modules/generated/sklearn.model_selection.train_test_split.html)"
   ]
  },
  {
   "cell_type": "code",
   "outputs": [],
   "source": [
    "import pandas as pd\n",
    "import numpy as np"
   ],
   "metadata": {
    "collapsed": false
   },
   "id": "b676dfde3fe972c",
   "execution_count": null
  },
  {
   "cell_type": "code",
   "outputs": [],
   "source": [
    "df_train = pd.read_csv('post_train.csv', low_memory=False)"
   ],
   "metadata": {
    "collapsed": false
   },
   "id": "f5781e9ca1ef79d3",
   "execution_count": null
  },
  {
   "cell_type": "code",
   "execution_count": null,
   "id": "d927d35f",
   "metadata": {
    "execution": {
     "iopub.execute_input": "2024-01-09T04:12:03.761354Z",
     "iopub.status.busy": "2024-01-09T04:12:03.760578Z",
     "iopub.status.idle": "2024-01-09T04:12:04.023191Z",
     "shell.execute_reply": "2024-01-09T04:12:04.021987Z"
    },
    "executionInfo": {
     "elapsed": 463,
     "status": "ok",
     "timestamp": 1706707727293,
     "user": {
      "displayName": "Artem Malygin",
      "userId": "06576770450014929968"
     },
     "user_tz": -420
    },
    "id": "d927d35f",
    "papermill": {
     "duration": 0.554981,
     "end_time": "2024-01-09T04:12:04.026080",
     "exception": false,
     "start_time": "2024-01-09T04:12:03.471099",
     "status": "completed"
    },
    "tags": []
   },
   "outputs": [],
   "source": [
    "from sklearn.model_selection import train_test_split"
   ]
  },
  {
   "cell_type": "code",
   "execution_count": null,
   "id": "SnxW0gWboTcX",
   "metadata": {
    "executionInfo": {
     "elapsed": 17,
     "status": "ok",
     "timestamp": 1706707727965,
     "user": {
      "displayName": "Artem Malygin",
      "userId": "06576770450014929968"
     },
     "user_tz": -420
    },
    "id": "SnxW0gWboTcX"
   },
   "outputs": [],
   "source": [
    "features = ['msamd','property_type','purchaser_type','hud_median_family_income','population','applicant_ethnicity','co_applicant_ethnicity','income']\n",
    "#features  =  df_train.columns.drop('target')"
   ]
  },
  {
   "cell_type": "code",
   "execution_count": null,
   "id": "MmsfUR_GoX6r",
   "metadata": {
    "colab": {
     "base_uri": "https://localhost:8080/",
     "height": 112
    },
    "executionInfo": {
     "elapsed": 16,
     "status": "ok",
     "timestamp": 1706707727966,
     "user": {
      "displayName": "Artem Malygin",
      "userId": "06576770450014929968"
     },
     "user_tz": -420
    },
    "id": "MmsfUR_GoX6r",
    "outputId": "3836883f-af7c-43c8-e72c-a6218e776e01"
   },
   "outputs": [],
   "source": [
    "df_notna = df_train[[*features, 'target']].copy()\n",
    "df_notna"
   ]
  },
  {
   "cell_type": "code",
   "execution_count": null,
   "id": "EfUX4DwJUeBo",
   "metadata": {
    "colab": {
     "base_uri": "https://localhost:8080/"
    },
    "executionInfo": {
     "elapsed": 7,
     "status": "ok",
     "timestamp": 1706707728710,
     "user": {
      "displayName": "Artem Malygin",
      "userId": "06576770450014929968"
     },
     "user_tz": -420
    },
    "id": "EfUX4DwJUeBo",
    "outputId": "0a3a99a2-0a98-46ba-acc6-58250d77d7a9"
   },
   "outputs": [],
   "source": [
    "df_notna.income.min()"
   ]
  },
  {
   "cell_type": "code",
   "execution_count": null,
   "id": "dwbm1rOsSxRA",
   "metadata": {
    "executionInfo": {
     "elapsed": 588,
     "status": "ok",
     "timestamp": 1706707834718,
     "user": {
      "displayName": "Artem Malygin",
      "userId": "06576770450014929968"
     },
     "user_tz": -420
    },
    "id": "dwbm1rOsSxRA"
   },
   "outputs": [],
   "source": []
  },
  {
   "cell_type": "code",
   "execution_count": null,
   "id": "JfXhKMSnVTUP",
   "metadata": {
    "colab": {
     "base_uri": "https://localhost:8080/"
    },
    "executionInfo": {
     "elapsed": 323,
     "status": "ok",
     "timestamp": 1706707837203,
     "user": {
      "displayName": "Artem Malygin",
      "userId": "06576770450014929968"
     },
     "user_tz": -420
    },
    "id": "JfXhKMSnVTUP",
    "outputId": "e0825302-193c-4125-d91e-e691a10c6f29"
   },
   "outputs": [],
   "source": [
    "df_notna.count()"
   ]
  },
  {
   "cell_type": "code",
   "execution_count": null,
   "id": "aGdQgSSYqNT7",
   "metadata": {
    "colab": {
     "base_uri": "https://localhost:8080/"
    },
    "executionInfo": {
     "elapsed": 14,
     "status": "ok",
     "timestamp": 1706707837743,
     "user": {
      "displayName": "Artem Malygin",
      "userId": "06576770450014929968"
     },
     "user_tz": -420
    },
    "id": "aGdQgSSYqNT7",
    "outputId": "4b61ce0f-e947-491a-dc48-f0b6968635f9"
   },
   "outputs": [],
   "source": [
    "income_median = df_notna.income.median()\n",
    "income_median"
   ]
  },
  {
   "cell_type": "code",
   "execution_count": null,
   "id": "cT1-sKhdobxz",
   "metadata": {
    "colab": {
     "base_uri": "https://localhost:8080/",
     "height": 112
    },
    "executionInfo": {
     "elapsed": 348,
     "status": "ok",
     "timestamp": 1706707839827,
     "user": {
      "displayName": "Artem Malygin",
      "userId": "06576770450014929968"
     },
     "user_tz": -420
    },
    "id": "cT1-sKhdobxz",
    "outputId": "dcd7c342-00b5-4113-9840-961f8ecbeb5e"
   },
   "outputs": [],
   "source": [
    "df_notna['income'] = df_notna.income.fillna(income_median)\n",
    "df_notna.head(2)"
   ]
  },
  {
   "cell_type": "code",
   "execution_count": null,
   "id": "frqdSylvTLcH",
   "metadata": {
    "colab": {
     "base_uri": "https://localhost:8080/"
    },
    "executionInfo": {
     "elapsed": 9,
     "status": "ok",
     "timestamp": 1706707841164,
     "user": {
      "displayName": "Artem Malygin",
      "userId": "06576770450014929968"
     },
     "user_tz": -420
    },
    "id": "frqdSylvTLcH",
    "outputId": "2df6354d-b5ee-4eca-8608-5b6128027a80"
   },
   "outputs": [],
   "source": [
    "df_notna.count()"
   ]
  },
  {
   "cell_type": "code",
   "execution_count": null,
   "id": "ccbf7f45",
   "metadata": {
    "execution": {
     "iopub.execute_input": "2024-01-09T04:12:04.617651Z",
     "iopub.status.busy": "2024-01-09T04:12:04.617202Z",
     "iopub.status.idle": "2024-01-09T04:12:04.644623Z",
     "shell.execute_reply": "2024-01-09T04:12:04.643639Z"
    },
    "executionInfo": {
     "elapsed": 287,
     "status": "ok",
     "timestamp": 1706707843034,
     "user": {
      "displayName": "Artem Malygin",
      "userId": "06576770450014929968"
     },
     "user_tz": -420
    },
    "id": "ccbf7f45",
    "papermill": {
     "duration": 0.330619,
     "end_time": "2024-01-09T04:12:04.648061",
     "exception": false,
     "start_time": "2024-01-09T04:12:04.317442",
     "status": "completed"
    },
    "tags": []
   },
   "outputs": [],
   "source": [
    "X = df_notna[features]\n",
    "y = df_notna.target"
   ]
  },
  {
   "cell_type": "code",
   "execution_count": null,
   "id": "2f22512f",
   "metadata": {
    "execution": {
     "iopub.execute_input": "2024-01-09T04:12:05.241421Z",
     "iopub.status.busy": "2024-01-09T04:12:05.241004Z",
     "iopub.status.idle": "2024-01-09T04:12:05.283612Z",
     "shell.execute_reply": "2024-01-09T04:12:05.282479Z"
    },
    "executionInfo": {
     "elapsed": 419,
     "status": "ok",
     "timestamp": 1706707844732,
     "user": {
      "displayName": "Artem Malygin",
      "userId": "06576770450014929968"
     },
     "user_tz": -420
    },
    "id": "2f22512f",
    "papermill": {
     "duration": 0.345744,
     "end_time": "2024-01-09T04:12:05.286275",
     "exception": false,
     "start_time": "2024-01-09T04:12:04.940531",
     "status": "completed"
    },
    "tags": []
   },
   "outputs": [],
   "source": [
    "X_train, X_test, y_train, y_test = train_test_split(X, y, train_size=0.6)"
   ]
  },
  {
   "cell_type": "code",
   "execution_count": null,
   "id": "d465c7a7",
   "metadata": {
    "colab": {
     "base_uri": "https://localhost:8080/"
    },
    "execution": {
     "iopub.execute_input": "2024-01-09T04:12:05.878918Z",
     "iopub.status.busy": "2024-01-09T04:12:05.878405Z",
     "iopub.status.idle": "2024-01-09T04:12:05.885189Z",
     "shell.execute_reply": "2024-01-09T04:12:05.883738Z"
    },
    "executionInfo": {
     "elapsed": 8,
     "status": "ok",
     "timestamp": 1706707845764,
     "user": {
      "displayName": "Artem Malygin",
      "userId": "06576770450014929968"
     },
     "user_tz": -420
    },
    "id": "d465c7a7",
    "outputId": "af088188-b05f-4ebb-d013-dad60e68aebd",
    "papermill": {
     "duration": 0.302661,
     "end_time": "2024-01-09T04:12:05.888072",
     "exception": false,
     "start_time": "2024-01-09T04:12:05.585411",
     "status": "completed"
    },
    "tags": []
   },
   "outputs": [],
   "source": [
    "print('Размер тренировочной выборки:', len(X_train))\n",
    "\n",
    "# при частом определении кол-ва строк в датафрейме эффективнее вычислять длину от индекса\n",
    "print('Размер тестовой выборки:', len(X_test.index))"
   ]
  },
  {
   "cell_type": "markdown",
   "id": "c0426cd9a3c67e8c",
   "metadata": {},
   "source": [
    "TreeClassifier"
   ]
  },
  {
   "cell_type": "code",
   "execution_count": null,
   "id": "654f621e",
   "metadata": {},
   "outputs": [],
   "source": [
    "from sklearn.tree import DecisionTreeClassifier, plot_tree, export_text"
   ]
  },
  {
   "cell_type": "code",
   "execution_count": null,
   "id": "d4fb7db0",
   "metadata": {},
   "outputs": [],
   "source": [
    "model = DecisionTreeClassifier(max_depth=11).fit(X_train, y_train)\n",
    "y_pred = model.predict_proba(X_test)[:, 1]\n",
    "y_pred[:10]\n"
   ]
  },
  {
   "cell_type": "code",
   "outputs": [],
   "source": [
    "feature_importances_entropy = model.feature_importances_\n",
    "\n",
    "# Выведите важность каждого признака\n",
    "for i, feature in enumerate(features):\n",
    "    print(f'Importance of {feature} based on entropy: {feature_importances_entropy[i]}')"
   ],
   "metadata": {
    "collapsed": false
   },
   "id": "9c5feb644bc23650",
   "execution_count": null
  },
  {
   "cell_type": "code",
   "outputs": [],
   "source": [
    "from sklearn.ensemble import GradientBoostingClassifier\n",
    "\n"
   ],
   "metadata": {
    "collapsed": false
   },
   "id": "86428215e1ec8efd",
   "execution_count": null
  },
  {
   "cell_type": "code",
   "outputs": [],
   "source": [
    "model = GradientBoostingClassifier(n_estimators=50, learning_rate=0.05,validation_fraction = 0.01, max_depth=4)\n",
    "model.fit(X_train, y_train)\n",
    "\n",
    "# Предскажите классы для тестового набора\n",
    "y_pred = model.predict(X_test)\n",
    "y_pred[:10]"
   ],
   "metadata": {
    "collapsed": false
   },
   "id": "1f2fd2bd90a24ba9",
   "execution_count": null
  },
  {
   "cell_type": "markdown",
   "id": "0d67609b",
   "metadata": {},
   "source": [
    "#### [LogisticRegression](https://scikit-learn.org/stable/modules/generated/sklearn.linear_model.LogisticRegression.html)"
   ]
  },
  {
   "cell_type": "code",
   "execution_count": null,
   "id": "650ec92f",
   "metadata": {
    "execution": {
     "iopub.execute_input": "2024-01-09T04:12:07.050881Z",
     "iopub.status.busy": "2024-01-09T04:12:07.049940Z",
     "iopub.status.idle": "2024-01-09T04:12:07.152578Z",
     "shell.execute_reply": "2024-01-09T04:12:07.151617Z"
    },
    "executionInfo": {
     "elapsed": 353,
     "status": "ok",
     "timestamp": 1706707848072,
     "user": {
      "displayName": "Artem Malygin",
      "userId": "06576770450014929968"
     },
     "user_tz": -420
    },
    "id": "650ec92f",
    "papermill": {
     "duration": 0.400427,
     "end_time": "2024-01-09T04:12:07.155246",
     "exception": false,
     "start_time": "2024-01-09T04:12:06.754819",
     "status": "completed"
    },
    "tags": []
   },
   "outputs": [],
   "source": [
    "from sklearn.linear_model import LogisticRegression"
   ]
  },
  {
   "cell_type": "code",
   "execution_count": null,
   "id": "b19d8015",
   "metadata": {
    "colab": {
     "base_uri": "https://localhost:8080/"
    },
    "execution": {
     "iopub.execute_input": "2024-01-09T04:12:07.737077Z",
     "iopub.status.busy": "2024-01-09T04:12:07.735130Z",
     "iopub.status.idle": "2024-01-09T04:12:08.404331Z",
     "shell.execute_reply": "2024-01-09T04:12:08.402788Z"
    },
    "executionInfo": {
     "elapsed": 2144,
     "status": "ok",
     "timestamp": 1706707851414,
     "user": {
      "displayName": "Artem Malygin",
      "userId": "06576770450014929968"
     },
     "user_tz": -420
    },
    "id": "b19d8015",
    "outputId": "a44cc017-7cad-46e6-bb92-e7278f2a9147",
    "papermill": {
     "duration": 0.964335,
     "end_time": "2024-01-09T04:12:08.409197",
     "exception": false,
     "start_time": "2024-01-09T04:12:07.444862",
     "status": "completed"
    },
    "tags": []
   },
   "outputs": [],
   "source": [
    "model = LogisticRegression().fit(X_train, y_train)\n",
    "y_pred = model.predict_proba(X_test)[:, 1]\n",
    "y_pred[:10]"
   ]
  },
  {
   "cell_type": "markdown",
   "id": "0e04391b",
   "metadata": {
    "id": "0e04391b",
    "papermill": {
     "duration": 0.289875,
     "end_time": "2024-01-09T04:12:09.036090",
     "exception": false,
     "start_time": "2024-01-09T04:12:08.746215",
     "status": "completed"
    },
    "tags": []
   },
   "source": [
    "### [ROC AUC](https://scikit-learn.org/stable/modules/generated/sklearn.metrics.roc_auc_score.html)"
   ]
  },
  {
   "cell_type": "code",
   "execution_count": null,
   "id": "033f6604",
   "metadata": {
    "execution": {
     "iopub.execute_input": "2024-01-09T04:12:09.641594Z",
     "iopub.status.busy": "2024-01-09T04:12:09.641169Z",
     "iopub.status.idle": "2024-01-09T04:12:09.646698Z",
     "shell.execute_reply": "2024-01-09T04:12:09.645513Z"
    },
    "executionInfo": {
     "elapsed": 8,
     "status": "ok",
     "timestamp": 1706707851416,
     "user": {
      "displayName": "Artem Malygin",
      "userId": "06576770450014929968"
     },
     "user_tz": -420
    },
    "id": "033f6604",
    "papermill": {
     "duration": 0.319257,
     "end_time": "2024-01-09T04:12:09.649067",
     "exception": false,
     "start_time": "2024-01-09T04:12:09.329810",
     "status": "completed"
    },
    "tags": []
   },
   "outputs": [],
   "source": [
    "from sklearn.metrics import auc, roc_auc_score, roc_curve\n",
    "import plotly.express as px"
   ]
  },
  {
   "cell_type": "code",
   "execution_count": null,
   "id": "853c5a2e",
   "metadata": {
    "colab": {
     "base_uri": "https://localhost:8080/",
     "height": 517
    },
    "execution": {
     "iopub.execute_input": "2024-01-09T04:12:10.226683Z",
     "iopub.status.busy": "2024-01-09T04:12:10.225858Z",
     "iopub.status.idle": "2024-01-09T04:12:10.445144Z",
     "shell.execute_reply": "2024-01-09T04:12:10.443940Z"
    },
    "executionInfo": {
     "elapsed": 392,
     "status": "ok",
     "timestamp": 1706707851801,
     "user": {
      "displayName": "Artem Malygin",
      "userId": "06576770450014929968"
     },
     "user_tz": -420
    },
    "id": "853c5a2e",
    "outputId": "03104297-4850-4ffe-8997-52fdc7800dc6",
    "papermill": {
     "duration": 0.511076,
     "end_time": "2024-01-09T04:12:10.448792",
     "exception": false,
     "start_time": "2024-01-09T04:12:09.937716",
     "status": "completed"
    },
    "tags": []
   },
   "outputs": [],
   "source": [
    "fpr, tpr, _ = roc_curve(y_test, y_pred)\n",
    "# False Positive Rate - доля ложно положительных ответов\n",
    "# True Positive Rate - доля истинно положительных ответов\n",
    "\n",
    "# закрашенная область\n",
    "\n",
    "fig = px.area(\n",
    "    x=fpr,  # значения оси x\n",
    "\n",
    "    y=tpr,  # значения оси y\n",
    "    title=f'ROC Curve (AUC={auc(fpr, tpr):.4f})',  # название графика\n",
    "    labels=dict(x='False Positive Rate', y='True Positive Rate'),  # названия осей\n",
    "    width=700,  # ширина\n",
    "    height=500,  # высота\n",
    ")\n",
    "\n",
    "# пунктирная линия\n",
    "fig.add_shape(\n",
    "    type='line',  # тип объекта\n",
    "    line=dict(dash='dash'),  # характеристики линии\n",
    "    x0=0, x1=1, y0=0, y1=1,  # координаты - откуда и куда рисовать\n",
    ")\n",
    "\n",
    "# https://plotly.com/python/axes/#fixed-ratio-axes\n",
    "fig.update_yaxes(scaleanchor='x', scaleratio=1)\n",
    "fig.update_xaxes(constrain='domain')\n",
    "\n",
    "fig.show()"
   ]
  },
  {
   "cell_type": "markdown",
   "id": "Lm3LNK2wSiPJ",
   "metadata": {
    "id": "Lm3LNK2wSiPJ"
   },
   "source": [
    "## Прогноз"
   ]
  },
  {
   "cell_type": "code",
   "execution_count": null,
   "id": "iF6dU2xsSh0u",
   "metadata": {
    "colab": {
     "base_uri": "https://localhost:8080/",
     "height": 161
    },
    "executionInfo": {
     "elapsed": 1482,
     "status": "ok",
     "timestamp": 1706707856155,
     "user": {
      "displayName": "Artem Malygin",
      "userId": "06576770450014929968"
     },
     "user_tz": -420
    },
    "id": "iF6dU2xsSh0u",
    "outputId": "4cb61abe-13d1-4576-ceec-42de32584fea"
   },
   "outputs": [],
   "source": [
    "df_test = pd.read_csv('test.csv', index_col=0)\n",
    "df_test.head(2)"
   ]
  },
  {
   "cell_type": "code",
   "execution_count": null,
   "id": "rDQiZD8dnQyj",
   "metadata": {
    "colab": {
     "base_uri": "https://localhost:8080/"
    },
    "executionInfo": {
     "elapsed": 274,
     "status": "ok",
     "timestamp": 1706707858053,
     "user": {
      "displayName": "Artem Malygin",
      "userId": "06576770450014929968"
     },
     "user_tz": -420
    },
    "id": "rDQiZD8dnQyj",
    "outputId": "6df40f16-a5c8-452f-ba11-58596f95e390"
   },
   "outputs": [],
   "source": [
    "df_test['income'] = np.log(df_test.income)\n",
    "df_test['income'] = df_test.income.fillna(income_median)\n",
    "df_test.income.replace(-np.inf, 0, inplace=True)\n",
    "df_test.income.head(2)"
   ]
  },
  {
   "cell_type": "code",
   "execution_count": null,
   "id": "tdP3YSdlnqHw",
   "metadata": {
    "colab": {
     "base_uri": "https://localhost:8080/"
    },
    "executionInfo": {
     "elapsed": 482,
     "status": "ok",
     "timestamp": 1706707859551,
     "user": {
      "displayName": "Artem Malygin",
      "userId": "06576770450014929968"
     },
     "user_tz": -420
    },
    "id": "tdP3YSdlnqHw",
    "outputId": "39578a50-207f-44df-ab00-e24bc0347227"
   },
   "outputs": [],
   "source": [
    "df_test[features].count()"
   ]
  },
  {
   "cell_type": "code",
   "execution_count": null,
   "id": "CSaF9_Uz6Yau",
   "metadata": {
    "colab": {
     "base_uri": "https://localhost:8080/"
    },
    "executionInfo": {
     "elapsed": 352,
     "status": "ok",
     "timestamp": 1706707862370,
     "user": {
      "displayName": "Artem Malygin",
      "userId": "06576770450014929968"
     },
     "user_tz": -420
    },
    "id": "CSaF9_Uz6Yau",
    "outputId": "c3f860e3-4aab-4667-ca71-eda07c0694cb"
   },
   "outputs": [],
   "source": [
    "df_test.shape"
   ]
  },
  {
   "cell_type": "code",
   "execution_count": null,
   "id": "bvOfiSKBS3OZ",
   "metadata": {
    "colab": {
     "base_uri": "https://localhost:8080/"
    },
    "executionInfo": {
     "elapsed": 288,
     "status": "ok",
     "timestamp": 1706707863869,
     "user": {
      "displayName": "Artem Malygin",
      "userId": "06576770450014929968"
     },
     "user_tz": -420
    },
    "id": "bvOfiSKBS3OZ",
    "outputId": "4136405e-144f-4ddd-81db-2a6fb9bcc5a1"
   },
   "outputs": [],
   "source": [
    "df_test['target'] = model.predict_proba(df_test[features])[:, 1]\n",
    "df_test.target.head(2)"
   ]
  },
  {
   "cell_type": "code",
   "execution_count": null,
   "id": "fLjvGHynnDms",
   "metadata": {
    "executionInfo": {
     "elapsed": 1540,
     "status": "ok",
     "timestamp": 1706707867975,
     "user": {
      "displayName": "Artem Malygin",
      "userId": "06576770450014929968"
     },
     "user_tz": -420
    },
    "id": "fLjvGHynnDms"
   },
   "outputs": [],
   "source": [
    "df_test.target.to_csv('submission.csv')"
   ]
  },
  {
   "cell_type": "code",
   "execution_count": null,
   "id": "Y3dvKja7rMSQ",
   "metadata": {
    "colab": {
     "base_uri": "https://localhost:8080/"
    },
    "executionInfo": {
     "elapsed": 1258,
     "status": "ok",
     "timestamp": 1706707870533,
     "user": {
      "displayName": "Artem Malygin",
      "userId": "06576770450014929968"
     },
     "user_tz": -420
    },
    "id": "Y3dvKja7rMSQ",
    "outputId": "86f20d21-e15b-465f-9e31-decfbe6a1cd5"
   },
   "outputs": [],
   "source": [
    "!zip submission.zip submission.csv"
   ]
  },
  {
   "cell_type": "code",
   "execution_count": null,
   "id": "4578cd8d301850ed",
   "metadata": {
    "collapsed": false
   },
   "outputs": [],
   "source": []
  }
 ],
 "metadata": {
  "colab": {
   "provenance": []
  },
  "kaggle": {
   "accelerator": "none",
   "dataSources": [
    {
     "datasetId": 1996,
     "sourceId": 3419,
     "sourceType": "datasetVersion"
    }
   ],
   "dockerImageVersionId": 30626,
   "isGpuEnabled": false,
   "isInternetEnabled": true,
   "language": "python",
   "sourceType": "notebook"
  },
  "kernelspec": {
   "name": "python3",
   "language": "python",
   "display_name": "Python 3 (ipykernel)"
  },
  "language_info": {
   "codemirror_mode": {
    "name": "ipython",
    "version": 3
   },
   "file_extension": ".py",
   "mimetype": "text/x-python",
   "name": "python",
   "nbconvert_exporter": "python",
   "pygments_lexer": "ipython3",
   "version": "3.9.6"
  },
  "papermill": {
   "default_parameters": {},
   "duration": 41.02264,
   "end_time": "2024-01-09T04:12:11.660945",
   "environment_variables": {},
   "exception": null,
   "input_path": "__notebook__.ipynb",
   "output_path": "__notebook__.ipynb",
   "parameters": {},
   "start_time": "2024-01-09T04:11:30.638305",
   "version": "2.4.0"
  }
 },
 "nbformat": 4,
 "nbformat_minor": 5
}
