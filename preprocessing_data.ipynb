{
 "cells": [
  {
   "cell_type": "markdown",
   "source": [
    "# Предобработка "
   ],
   "metadata": {
    "collapsed": false
   },
   "id": "f1564dce63fb29dc"
  },
  {
   "cell_type": "markdown",
   "source": [
    "## Импорт модулей"
   ],
   "metadata": {
    "collapsed": false
   },
   "id": "dbbbe7447a6911b7"
  },
  {
   "cell_type": "code",
   "execution_count": 39,
   "id": "initial_id",
   "metadata": {
    "collapsed": true,
    "ExecuteTime": {
     "end_time": "2024-02-02T17:10:27.278006400Z",
     "start_time": "2024-02-02T17:10:27.202509100Z"
    }
   },
   "outputs": [],
   "source": [
    "import matplotlib.pyplot as plt\n",
    "import pandas as pd\n",
    "import numpy as np\n",
    "import math\n",
    "import seaborn as sns"
   ]
  },
  {
   "cell_type": "code",
   "outputs": [],
   "source": [
    "from feature import Features"
   ],
   "metadata": {
    "collapsed": false,
    "ExecuteTime": {
     "end_time": "2024-02-02T17:10:27.321175800Z",
     "start_time": "2024-02-02T17:10:27.285158200Z"
    }
   },
   "id": "471108c5c92e97bf",
   "execution_count": 40
  },
  {
   "cell_type": "markdown",
   "source": [
    "## Подключение данных"
   ],
   "metadata": {
    "collapsed": false
   },
   "id": "1e8e71adc3cdc290"
  },
  {
   "cell_type": "code",
   "outputs": [],
   "source": [
    "df = pd.read_csv('train.csv', low_memory=False)"
   ],
   "metadata": {
    "collapsed": false,
    "ExecuteTime": {
     "end_time": "2024-02-02T17:10:29.747242600Z",
     "start_time": "2024-02-02T17:10:27.296311100Z"
    }
   },
   "id": "bc62683b561cd74f",
   "execution_count": 41
  },
  {
   "cell_type": "code",
   "outputs": [
    {
     "data": {
      "text/plain": "         Unnamed: 0  applicant_ethnicity  income  applicant_race_1  \\\n0                 0                    2    54.0               5.0   \n1                 1                    2   168.0               5.0   \n2                 2                    2   179.0               5.0   \n3                 3                    2    68.0               5.0   \n4                 4                    3    49.0               5.0   \n...             ...                  ...     ...               ...   \n1107606     1107606                    2   218.0               5.0   \n1107607     1107607                    2    90.0               5.0   \n1107608     1107608                    2   117.0               5.0   \n1107609     1107609                    2    37.0               5.0   \n1107610     1107610                    2    52.0               5.0   \n\n         applicant_race_2  applicant_race_3  applicant_race_4  \\\n0                     NaN               NaN               NaN   \n1                     NaN               NaN               NaN   \n2                     NaN               NaN               NaN   \n3                     NaN               NaN               NaN   \n4                     NaN               NaN               NaN   \n...                   ...               ...               ...   \n1107606               NaN               NaN               NaN   \n1107607               NaN               NaN               NaN   \n1107608               NaN               NaN               NaN   \n1107609               NaN               NaN               NaN   \n1107610               NaN               NaN               NaN   \n\n         applicant_race_5  applicant_sex  co_applicant_ethnicity  ...  \\\n0                     NaN              2                       4  ...   \n1                     NaN              1                       4  ...   \n2                     NaN              1                       2  ...   \n3                     NaN              1                       2  ...   \n4                     NaN              1                       4  ...   \n...                   ...            ...                     ...  ...   \n1107606               NaN              2                       2  ...   \n1107607               NaN              2                       4  ...   \n1107608               NaN              1                       2  ...   \n1107609               NaN              1                       4  ...   \n1107610               NaN              1                       2  ...   \n\n         preapproval  property_type  purchaser_type  hud_median_family_income  \\\n0                  2              3               0                     79500   \n1                  2              3              71                     67500   \n2                  2              3               1                     83200   \n3                  2              3               2                     90400   \n4                  2              3               1                     73500   \n...              ...            ...             ...                       ...   \n1107606            2              3               0                     86100   \n1107607            2              3               0                     82100   \n1107608            2              3               0                     80100   \n1107609            2              3               0                     90300   \n1107610            2              3               0                     76000   \n\n         loan_amount  number_of_1_to_4_family_units  \\\n0           205000.0                           1309   \n1           215000.0                           2919   \n2           505000.0                            826   \n3           235000.0                           1519   \n4           245000.0                           2201   \n...              ...                            ...   \n1107606     255000.0                           1670   \n1107607     335000.0                           2573   \n1107608     225000.0                           3310   \n1107609     215000.0                            922   \n1107610      65000.0                           2694   \n\n         number_of_owner_occupied_units  minority_population  population  \\\n0                                   568                45.83        2878   \n1                                  1296                76.18        6071   \n2                                   594                 7.54        1339   \n3                                   920                22.16        3650   \n4                                  1736                27.89        6797   \n...                                 ...                  ...         ...   \n1107606                            1335                36.88        5019   \n1107607                            1570                57.53        7344   \n1107608                             496                59.35        7565   \n1107609                             358                81.23        5536   \n1107610                            2345                22.82        6031   \n\n         target  \n0          True  \n1          True  \n2          True  \n3          True  \n4          True  \n...         ...  \n1107606   False  \n1107607   False  \n1107608   False  \n1107609   False  \n1107610   False  \n\n[1107611 rows x 29 columns]",
      "text/html": "<div>\n<style scoped>\n    .dataframe tbody tr th:only-of-type {\n        vertical-align: middle;\n    }\n\n    .dataframe tbody tr th {\n        vertical-align: top;\n    }\n\n    .dataframe thead th {\n        text-align: right;\n    }\n</style>\n<table border=\"1\" class=\"dataframe\">\n  <thead>\n    <tr style=\"text-align: right;\">\n      <th></th>\n      <th>Unnamed: 0</th>\n      <th>applicant_ethnicity</th>\n      <th>income</th>\n      <th>applicant_race_1</th>\n      <th>applicant_race_2</th>\n      <th>applicant_race_3</th>\n      <th>applicant_race_4</th>\n      <th>applicant_race_5</th>\n      <th>applicant_sex</th>\n      <th>co_applicant_ethnicity</th>\n      <th>...</th>\n      <th>preapproval</th>\n      <th>property_type</th>\n      <th>purchaser_type</th>\n      <th>hud_median_family_income</th>\n      <th>loan_amount</th>\n      <th>number_of_1_to_4_family_units</th>\n      <th>number_of_owner_occupied_units</th>\n      <th>minority_population</th>\n      <th>population</th>\n      <th>target</th>\n    </tr>\n  </thead>\n  <tbody>\n    <tr>\n      <th>0</th>\n      <td>0</td>\n      <td>2</td>\n      <td>54.0</td>\n      <td>5.0</td>\n      <td>NaN</td>\n      <td>NaN</td>\n      <td>NaN</td>\n      <td>NaN</td>\n      <td>2</td>\n      <td>4</td>\n      <td>...</td>\n      <td>2</td>\n      <td>3</td>\n      <td>0</td>\n      <td>79500</td>\n      <td>205000.0</td>\n      <td>1309</td>\n      <td>568</td>\n      <td>45.83</td>\n      <td>2878</td>\n      <td>True</td>\n    </tr>\n    <tr>\n      <th>1</th>\n      <td>1</td>\n      <td>2</td>\n      <td>168.0</td>\n      <td>5.0</td>\n      <td>NaN</td>\n      <td>NaN</td>\n      <td>NaN</td>\n      <td>NaN</td>\n      <td>1</td>\n      <td>4</td>\n      <td>...</td>\n      <td>2</td>\n      <td>3</td>\n      <td>71</td>\n      <td>67500</td>\n      <td>215000.0</td>\n      <td>2919</td>\n      <td>1296</td>\n      <td>76.18</td>\n      <td>6071</td>\n      <td>True</td>\n    </tr>\n    <tr>\n      <th>2</th>\n      <td>2</td>\n      <td>2</td>\n      <td>179.0</td>\n      <td>5.0</td>\n      <td>NaN</td>\n      <td>NaN</td>\n      <td>NaN</td>\n      <td>NaN</td>\n      <td>1</td>\n      <td>2</td>\n      <td>...</td>\n      <td>2</td>\n      <td>3</td>\n      <td>1</td>\n      <td>83200</td>\n      <td>505000.0</td>\n      <td>826</td>\n      <td>594</td>\n      <td>7.54</td>\n      <td>1339</td>\n      <td>True</td>\n    </tr>\n    <tr>\n      <th>3</th>\n      <td>3</td>\n      <td>2</td>\n      <td>68.0</td>\n      <td>5.0</td>\n      <td>NaN</td>\n      <td>NaN</td>\n      <td>NaN</td>\n      <td>NaN</td>\n      <td>1</td>\n      <td>2</td>\n      <td>...</td>\n      <td>2</td>\n      <td>3</td>\n      <td>2</td>\n      <td>90400</td>\n      <td>235000.0</td>\n      <td>1519</td>\n      <td>920</td>\n      <td>22.16</td>\n      <td>3650</td>\n      <td>True</td>\n    </tr>\n    <tr>\n      <th>4</th>\n      <td>4</td>\n      <td>3</td>\n      <td>49.0</td>\n      <td>5.0</td>\n      <td>NaN</td>\n      <td>NaN</td>\n      <td>NaN</td>\n      <td>NaN</td>\n      <td>1</td>\n      <td>4</td>\n      <td>...</td>\n      <td>2</td>\n      <td>3</td>\n      <td>1</td>\n      <td>73500</td>\n      <td>245000.0</td>\n      <td>2201</td>\n      <td>1736</td>\n      <td>27.89</td>\n      <td>6797</td>\n      <td>True</td>\n    </tr>\n    <tr>\n      <th>...</th>\n      <td>...</td>\n      <td>...</td>\n      <td>...</td>\n      <td>...</td>\n      <td>...</td>\n      <td>...</td>\n      <td>...</td>\n      <td>...</td>\n      <td>...</td>\n      <td>...</td>\n      <td>...</td>\n      <td>...</td>\n      <td>...</td>\n      <td>...</td>\n      <td>...</td>\n      <td>...</td>\n      <td>...</td>\n      <td>...</td>\n      <td>...</td>\n      <td>...</td>\n      <td>...</td>\n    </tr>\n    <tr>\n      <th>1107606</th>\n      <td>1107606</td>\n      <td>2</td>\n      <td>218.0</td>\n      <td>5.0</td>\n      <td>NaN</td>\n      <td>NaN</td>\n      <td>NaN</td>\n      <td>NaN</td>\n      <td>2</td>\n      <td>2</td>\n      <td>...</td>\n      <td>2</td>\n      <td>3</td>\n      <td>0</td>\n      <td>86100</td>\n      <td>255000.0</td>\n      <td>1670</td>\n      <td>1335</td>\n      <td>36.88</td>\n      <td>5019</td>\n      <td>False</td>\n    </tr>\n    <tr>\n      <th>1107607</th>\n      <td>1107607</td>\n      <td>2</td>\n      <td>90.0</td>\n      <td>5.0</td>\n      <td>NaN</td>\n      <td>NaN</td>\n      <td>NaN</td>\n      <td>NaN</td>\n      <td>2</td>\n      <td>4</td>\n      <td>...</td>\n      <td>2</td>\n      <td>3</td>\n      <td>0</td>\n      <td>82100</td>\n      <td>335000.0</td>\n      <td>2573</td>\n      <td>1570</td>\n      <td>57.53</td>\n      <td>7344</td>\n      <td>False</td>\n    </tr>\n    <tr>\n      <th>1107608</th>\n      <td>1107608</td>\n      <td>2</td>\n      <td>117.0</td>\n      <td>5.0</td>\n      <td>NaN</td>\n      <td>NaN</td>\n      <td>NaN</td>\n      <td>NaN</td>\n      <td>1</td>\n      <td>2</td>\n      <td>...</td>\n      <td>2</td>\n      <td>3</td>\n      <td>0</td>\n      <td>80100</td>\n      <td>225000.0</td>\n      <td>3310</td>\n      <td>496</td>\n      <td>59.35</td>\n      <td>7565</td>\n      <td>False</td>\n    </tr>\n    <tr>\n      <th>1107609</th>\n      <td>1107609</td>\n      <td>2</td>\n      <td>37.0</td>\n      <td>5.0</td>\n      <td>NaN</td>\n      <td>NaN</td>\n      <td>NaN</td>\n      <td>NaN</td>\n      <td>1</td>\n      <td>4</td>\n      <td>...</td>\n      <td>2</td>\n      <td>3</td>\n      <td>0</td>\n      <td>90300</td>\n      <td>215000.0</td>\n      <td>922</td>\n      <td>358</td>\n      <td>81.23</td>\n      <td>5536</td>\n      <td>False</td>\n    </tr>\n    <tr>\n      <th>1107610</th>\n      <td>1107610</td>\n      <td>2</td>\n      <td>52.0</td>\n      <td>5.0</td>\n      <td>NaN</td>\n      <td>NaN</td>\n      <td>NaN</td>\n      <td>NaN</td>\n      <td>1</td>\n      <td>2</td>\n      <td>...</td>\n      <td>2</td>\n      <td>3</td>\n      <td>0</td>\n      <td>76000</td>\n      <td>65000.0</td>\n      <td>2694</td>\n      <td>2345</td>\n      <td>22.82</td>\n      <td>6031</td>\n      <td>False</td>\n    </tr>\n  </tbody>\n</table>\n<p>1107611 rows × 29 columns</p>\n</div>"
     },
     "execution_count": 42,
     "metadata": {},
     "output_type": "execute_result"
    }
   ],
   "source": [
    "df"
   ],
   "metadata": {
    "collapsed": false,
    "ExecuteTime": {
     "end_time": "2024-02-02T17:10:30.055365100Z",
     "start_time": "2024-02-02T17:10:29.754788500Z"
    }
   },
   "id": "6c78b3d48662325b",
   "execution_count": 42
  },
  {
   "cell_type": "code",
   "outputs": [],
   "source": [
    "df['5'] = df['msamd'].apply(lambda x: 1 if x != 0 else 0) * df['loan_type'].apply(lambda x: 1 if x != 0 else 0) * df['loan_purpose'].apply(lambda x: 1 if x != 0 else 0)"
   ],
   "metadata": {
    "collapsed": false,
    "ExecuteTime": {
     "end_time": "2024-02-02T17:10:31.208409900Z",
     "start_time": "2024-02-02T17:10:30.046313400Z"
    }
   },
   "id": "ec7d18575aac06b6",
   "execution_count": 43
  },
  {
   "cell_type": "code",
   "outputs": [],
   "source": [
    "df['4'] = df['5'].apply(lambda x: 1 if x != 0 else 0)"
   ],
   "metadata": {
    "collapsed": false,
    "ExecuteTime": {
     "end_time": "2024-02-02T17:10:31.563285100Z",
     "start_time": "2024-02-02T17:10:31.207413900Z"
    }
   },
   "id": "b0e2819e5682ce8",
   "execution_count": 44
  },
  {
   "cell_type": "code",
   "outputs": [],
   "source": [
    "df['co_applicant'] = df['co_applicant_race_1'].fillna(0) + df['co_applicant_race_2'].fillna(0) + df['co_applicant_race_3'].fillna(0)+df['co_applicant_race_4'].fillna(0)+df['co_applicant_race_5'].fillna(0)\n",
    "df['co_applicant'] = df['co_applicant'].apply(lambda x: 1 if x != 0 else 0)"
   ],
   "metadata": {
    "collapsed": false,
    "ExecuteTime": {
     "end_time": "2024-02-02T17:10:31.997925900Z",
     "start_time": "2024-02-02T17:10:31.569282700Z"
    }
   },
   "id": "c82876927ec86b14",
   "execution_count": 45
  },
  {
   "cell_type": "markdown",
   "source": [
    "## Приведение типов "
   ],
   "metadata": {
    "collapsed": false
   },
   "id": "93461a324b84271a"
  },
  {
   "cell_type": "code",
   "outputs": [],
   "source": [
    "bool_map = {True: 1, False: 0}\n",
    "df[Features.TARGET.value] = df[Features.TARGET.value].map(bool_map)"
   ],
   "metadata": {
    "collapsed": false,
    "ExecuteTime": {
     "end_time": "2024-02-02T17:10:32.062167100Z",
     "start_time": "2024-02-02T17:10:32.020512500Z"
    }
   },
   "id": "b36c7a5b29f5ff0d",
   "execution_count": 47
  },
  {
   "cell_type": "markdown",
   "source": [
    "## Заполнение пропусков "
   ],
   "metadata": {
    "collapsed": false
   },
   "id": "a9ccc1f03d78ca3d"
  },
  {
   "cell_type": "code",
   "outputs": [],
   "source": [
    "#df = df.apply(lambda column: column.fillna(0), axis=0)"
   ],
   "metadata": {
    "collapsed": false,
    "ExecuteTime": {
     "end_time": "2024-02-02T17:10:32.063165900Z",
     "start_time": "2024-02-02T17:10:32.050526Z"
    }
   },
   "id": "b45090a7af60d238",
   "execution_count": 48
  },
  {
   "cell_type": "markdown",
   "source": [
    "## Выгрузка данных"
   ],
   "metadata": {
    "collapsed": false
   },
   "id": "1b4f9214846c0d25"
  },
  {
   "cell_type": "code",
   "outputs": [],
   "source": [
    "df.to_csv('post_train.csv', index=False)"
   ],
   "metadata": {
    "collapsed": false,
    "ExecuteTime": {
     "end_time": "2024-02-02T17:10:42.418752800Z",
     "start_time": "2024-02-02T17:10:32.064165900Z"
    }
   },
   "id": "ab4b86e7ec2aa561",
   "execution_count": 49
  }
 ],
 "metadata": {
  "kernelspec": {
   "display_name": "Python 3",
   "language": "python",
   "name": "python3"
  },
  "language_info": {
   "codemirror_mode": {
    "name": "ipython",
    "version": 2
   },
   "file_extension": ".py",
   "mimetype": "text/x-python",
   "name": "python",
   "nbconvert_exporter": "python",
   "pygments_lexer": "ipython2",
   "version": "2.7.6"
  }
 },
 "nbformat": 4,
 "nbformat_minor": 5
}
